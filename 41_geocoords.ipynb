{
 "cells": [
  {
   "cell_type": "code",
   "execution_count": 65,
   "metadata": {},
   "outputs": [],
   "source": [
    "import numpy as np\n",
    "import pandas as pd\n",
    "import geopy\n",
    "from geopy.geocoders import Nominatim\n",
    "from geopy.exc import GeocoderTimedOut\n",
    "import time\n",
    "import matplotlib.pyplot as plt\n",
    "plt.style.use('seaborn-notebook')\n",
    "import csv"
   ]
  },
  {
   "cell_type": "code",
   "execution_count": 2,
   "metadata": {},
   "outputs": [],
   "source": [
    "df = pd.read_csv('data/ready4model_v2.csv')"
   ]
  },
  {
   "cell_type": "code",
   "execution_count": 3,
   "metadata": {},
   "outputs": [
    {
     "data": {
      "text/plain": [
       "2231"
      ]
     },
     "execution_count": 3,
     "metadata": {},
     "output_type": "execute_result"
    }
   ],
   "source": [
    "num_no_geo = df['business_latitude'].isnull().sum()\n",
    "num_no_geo"
   ]
  },
  {
   "cell_type": "markdown",
   "metadata": {},
   "source": [
    "## Let's examine the addresses"
   ]
  },
  {
   "cell_type": "code",
   "execution_count": 4,
   "metadata": {},
   "outputs": [],
   "source": [
    "address_no_geocoord = df.loc[df['business_latitude'].isnull(), 'business_address']"
   ]
  },
  {
   "cell_type": "code",
   "execution_count": 5,
   "metadata": {},
   "outputs": [],
   "source": [
    "address_nogeo_lst = address_no_geocoord.values"
   ]
  },
  {
   "cell_type": "code",
   "execution_count": 6,
   "metadata": {},
   "outputs": [],
   "source": [
    "L_nogeo = []\n",
    "for address in address_nogeo_lst:\n",
    "    if address != 'Off the Grid' and address != 'Off The Grid':\n",
    "        L_nogeo.append(address)"
   ]
  },
  {
   "cell_type": "code",
   "execution_count": 317,
   "metadata": {},
   "outputs": [],
   "source": [
    "### Let's go thru the list and collect the list of not getting addresses"
   ]
  },
  {
   "cell_type": "code",
   "execution_count": 7,
   "metadata": {},
   "outputs": [],
   "source": [
    "geolocator = Nominatim()"
   ]
  },
  {
   "cell_type": "code",
   "execution_count": 8,
   "metadata": {},
   "outputs": [],
   "source": [
    "location = geolocator.geocode(\"175 5th Avenue NYC\")"
   ]
  },
  {
   "cell_type": "code",
   "execution_count": 9,
   "metadata": {},
   "outputs": [
    {
     "name": "stdout",
     "output_type": "stream",
     "text": [
      "Flatiron Building, 175, 5th Avenue, Flatiron Building, Manhattan Community Board 5, New York County, NYC, New York, 10010, United States of America\n"
     ]
    }
   ],
   "source": [
    "print(location.address)"
   ]
  },
  {
   "cell_type": "code",
   "execution_count": 10,
   "metadata": {},
   "outputs": [],
   "source": [
    "# This will keep retrying the do_geocode function until it manages to return without \n",
    "# a Timeout exception being raised.\n",
    "def do_geocode(address):\n",
    "    try:\n",
    "        return geolocator.geocode(address)\n",
    "    except GeocoderTimedOut:\n",
    "        time.sleep(1)\n",
    "        return do_geocode(address)"
   ]
  },
  {
   "cell_type": "code",
   "execution_count": 11,
   "metadata": {},
   "outputs": [],
   "source": [
    "# add SF CA to addresses\n",
    "L_nogeo_SFCA = []\n",
    "for address in L_nogeo:\n",
    "    L_nogeo_SFCA.append(address + ' SF CA')"
   ]
  },
  {
   "cell_type": "code",
   "execution_count": null,
   "metadata": {},
   "outputs": [],
   "source": []
  },
  {
   "cell_type": "code",
   "execution_count": 12,
   "metadata": {},
   "outputs": [],
   "source": [
    "#geo_collect = []"
   ]
  },
  {
   "cell_type": "code",
   "execution_count": 15,
   "metadata": {},
   "outputs": [],
   "source": [
    "geo_50 = []\n",
    "for address in L_nogeo_SFCA[50:100]:\n",
    "    geo_50.append(do_geocode(address))\n",
    "geo_collect.append(geo_50)"
   ]
  },
  {
   "cell_type": "code",
   "execution_count": 16,
   "metadata": {},
   "outputs": [
    {
     "data": {
      "text/plain": [
       "2"
      ]
     },
     "execution_count": 16,
     "metadata": {},
     "output_type": "execute_result"
    }
   ],
   "source": [
    "len(geo_collect)"
   ]
  },
  {
   "cell_type": "code",
   "execution_count": 33,
   "metadata": {},
   "outputs": [
    {
     "data": {
      "text/plain": [
       "[[Location(2449, 23rd Street, Potrero Terrace, SF, California, 94110, United States of America, (37.7543434081633, -122.403988857143, 0.0)),\n",
       "  None,\n",
       "  Location(909, Grant Avenue, Chinatown, SF, California, 94108, United States of America, (37.795304999856, -122.406613368069, 0.0)),\n",
       "  Location(888, Stockton Street, Chinatown, SF, California, 94108, United States of America, (37.7938858979592, -122.407763040816, 0.0)),\n",
       "  Location(Limón Rotisserie, 1001, South Van Ness Avenue, Mission District, SF, California, 94110, United States of America, (37.7570488, -122.4165149, 0.0)),\n",
       "  Location(Domino's Pizza, 876, Geary Street, Tenderloin, SF, California, 94109, United States of America, (37.7862682, -122.4176924, 0.0)),\n",
       "  Location(AT&T Park, 24, Willie Mays Plaza, South Beach, SF, California, 94107, United States of America, (37.7786119, -122.390267454256, 0.0)),\n",
       "  Location(726, Clement Street, Richmond District, SF, California, 94118, United States of America, (37.782915244898, -122.466924306122, 0.0)),\n",
       "  Location(Good Mong Kok Bakery, 1039, Stockton Street, Chinatown, SF, California, 94114, United States of America, (37.7954481, -122.4083382, 0.0)),\n",
       "  Location(Good Eats Cafe, 200, Pine Street, Financial District, SF, California, 94104, United States of America, (37.792333, -122.4000677, 0.0)),\n",
       "  Location(2066, Chestnut Street, Marina District, SF, California, 94123, United States of America, (37.8007269411765, -122.437619294118, 0.0)),\n",
       "  Location(Super Duper Burgers, 346, Kearny Street, Chinatown, SF, California, 94108, United States of America, (37.7914507, -122.4040574, 0.0)),\n",
       "  None,\n",
       "  None,\n",
       "  Location(Millberry Union, 500, Parnassus Avenue, Inner Sunset, SF, California, 94117, United States of America, (37.76366725, -122.458144084127, 0.0)),\n",
       "  Location(COVA Hotel, 655, Ellis Street, Tenderloin, SF, California, 94109, United States of America, (37.7841245, -122.417005714739, 0.0)),\n",
       "  Location(Market Street, Financial District, SF, California, 94114, United States of America, (37.7913412, -122.3987948, 0.0)),\n",
       "  Location(2444, Noriega Street, Sunset District, SF, California, 94122, United States of America, (37.7537341836735, -122.489828918367, 0.0)),\n",
       "  Location(142, McAllister Street, Civic Center, SF, California, 94102, United States of America, (37.7809156390397, -122.414417167476, 0.0)),\n",
       "  Location(Mission Street, St. Mary's Park, SF, California, 94134, United States of America, (37.7308875, -122.4291725, 0.0)),\n",
       "  Location(Mission Street, St. Mary's Park, SF, California, 94134, United States of America, (37.7308875, -122.4291725, 0.0)),\n",
       "  Location(AT&T Park, 24, Willie Mays Plaza, South Beach, SF, California, 94107, United States of America, (37.7786119, -122.390267454256, 0.0)),\n",
       "  None,\n",
       "  None,\n",
       "  Location(813, Cortland Avenue, Bernal Heights, SF, California, 94110, United States of America, (37.7389780612245, -122.414375918367, 0.0)),\n",
       "  Location(1170, Powell Street, Chinatown, SF, California, 94108, United States of America, (37.7953255714286, -122.409735428571, 0.0)),\n",
       "  Location(129, Ellis Street, Union Square, SF, California, 94102, United States of America, (37.7853733958333, -122.4081273125, 0.0)),\n",
       "  Location(Thai Thai Noodle, 1400, California Street, Nob Hill, SF, California, 94114, United States of America, (37.7911209, -122.4176119, 0.0)),\n",
       "  None,\n",
       "  Location(Stones Throw, 1896, Hyde Street, Russian Hill, SF, California, 94114, United States of America, (37.7981431, -122.4187012, 0.0)),\n",
       "  Location(Oyugu Sushi, 4036, Balboa Street, Seacliff, SF, California, 94122, United States of America, (37.775622, -122.5022213, 0.0)),\n",
       "  Location(Flying falafel, 1051, Market Street, Tenderloin, SF, California, 94114, United States of America, (37.7811845, -122.4111553, 0.0)),\n",
       "  Location(2339, Noriega Street, Sunset District, SF, California, 94122, United States of America, (37.7536192040816, -122.488704428571, 0.0)),\n",
       "  Location(45, Conkling Street, Bayview District, SF, California, 94124, United States of America, (37.735678938718, -122.40178081216, 0.0)),\n",
       "  Location(Geary Boulevard, Western Addition, SF, California, 94114, United States of America, (37.7851991, -122.4255764, 0.0)),\n",
       "  Location(2460, San Bruno Avenue, Portola, SF, California, 94134, United States of America, (37.730914, -122.405061526316, 0.0)),\n",
       "  Location(Columbus Street, North Beach, SF, California, 94114, United States of America, (37.7994755, -122.4088136, 0.0)),\n",
       "  Location(977, North Point Street, Russian Hill, SF, California, 94109, United States of America, (37.8052633877551, -122.423183959184, 0.0)),\n",
       "  Location(275, Battery Street, Financial District, SF, California, 94111, United States of America, (37.7939413414634, -122.400214292683, 0.0)),\n",
       "  Location(AT&T Park, 24, Willie Mays Plaza, South Beach, SF, California, 94107, United States of America, (37.7786119, -122.390267454256, 0.0)),\n",
       "  None,\n",
       "  Location(AT&T Park, 24, Willie Mays Plaza, South Beach, SF, California, 94107, United States of America, (37.7786119, -122.390267454256, 0.0)),\n",
       "  Location(Twitter, 1355, Market Street, Civic Center, SF, California, 94114, United States of America, (37.7767817, -122.4167923, 0.0)),\n",
       "  Location(Ocean Avenue, Ingleside, SF, California, 94132, United States of America, (37.7229098, -122.4514762, 0.0)),\n",
       "  Location(4683, Mission Street, Excelsior, SF, California, 94112, United States of America, (37.7233677692308, -122.435675076923, 0.0)),\n",
       "  Location(1101, Stockton Street, Chinatown, SF, California, 94133, United States of America, (37.795933, -122.40838, 0.0)),\n",
       "  Location(958, Illinois Street, Dogpatch, SF, California, 94107, United States of America, (37.7597453838384, -122.387592333333, 0.0)),\n",
       "  Location(2331-2333, Chestnut Street, Marina District, SF, California, 94114, United States of America, (37.79976935, -122.441710636423, 0.0)),\n",
       "  Location(Mikkeller Bar, 34, Mason Street, Union Square, SF, California, 94114, United States of America, (37.7839535, -122.4090957, 0.0)),\n",
       "  None],\n",
       " [None,\n",
       "  Location(1101, Grant Avenue, Chinatown, SF, California, 94133, United States of America, (37.797011, -122.406956, 0.0)),\n",
       "  None,\n",
       "  Location(1117, Stockton Street, Chinatown, SF, California, 94133, United States of America, (37.7960368367347, -122.408401061224, 0.0)),\n",
       "  Location(Brioche Bakery & Cafe, 210, Columbus Avenue, Chinatown, SF, California, 94133, United States of America, (37.7973738, -122.405721, 0.0)),\n",
       "  Location(Heartbaker, 1408, Clement Street, Richmond District, SF, California, 94118, United States of America, (37.78270885, -122.474409784927, 0.0)),\n",
       "  Location(Wa Li Bakery & Cafe, 1249, Stockton Street, North Beach, SF, California, 94114, United States of America, (37.7973422, -122.4087165, 0.0)),\n",
       "  Location(California Street, Financial District, SF, California, 94114, United States of America, (37.7935273, -122.3975149, 0.0)),\n",
       "  Location(Geary Boulevard, Western Addition, SF, California, 94114, United States of America, (37.7851991, -122.4255764, 0.0)),\n",
       "  Location(Golden Horse Restaurant, 1060, Hyde Street, Nob Hill, SF, California, 94114, United States of America, (37.7907646, -122.417196847208, 0.0)),\n",
       "  None,\n",
       "  Location(13th Street, Hayes Valley, SF, California, 94114, United States of America, (37.7698728, -122.4176974, 0.0)),\n",
       "  None,\n",
       "  Location(California Street, Financial District, SF, California, 94114, United States of America, (37.7935273, -122.3975149, 0.0)),\n",
       "  Location(Mazarine Coffee, 720, Market Street, Union Square, SF, California, 94105, United States of America, (37.7875018, -122.4040444, 0.0)),\n",
       "  Location(2049, Fillmore Street, Fillmore, SF, California, 94115, United States of America, (37.7884077346939, -122.433844530612, 0.0)),\n",
       "  Location(153, Bacon Street, Portola, SF, California, 94134, United States of America, (37.7274198979592, -122.404083081633, 0.0)),\n",
       "  Location(Arguello Market, 782, Arguello Boulevard, Jordan Park, SF, California, 94118, United States of America, (37.7756674, -122.458145077458, 0.0)),\n",
       "  Location(Jane, 925, Larkin Street, Tenderloin, SF, California, 94109, United States of America, (37.7864812, -122.4183401, 0.0)),\n",
       "  Location(507, Columbus Avenue, North Beach, SF, California, 94133, United States of America, (37.7996333125, -122.409379625, 0.0)),\n",
       "  Location(Ocean Avenue, Ingleside, SF, California, 94132, United States of America, (37.7229098, -122.4514762, 0.0)),\n",
       "  Location(Emanuel Coffee, 488, Haight Street, Lower Haight, SF, California, 94117, United States of America, (37.7722572, -122.4301679, 0.0)),\n",
       "  Location(510, Stevenson Street, Union Square, SF, California, 94103, United States of America, (37.781397875, -122.410297416667, 0.0)),\n",
       "  Location(Old Bus Tavern, 3193, Mission Street, Bernal Heights, SF, California, 94110, United States of America, (37.745701, -122.419510285653, 0.0)),\n",
       "  Location(Fancy Wheat Field Bakery, 1362, Stockton Street, North Beach, SF, California, 94133, United States of America, (37.798473, -122.4086479, 0.0)),\n",
       "  Location(17th Street, Mission District, SF, California, 94114, United States of America, (37.764369, -122.409393, 0.0)),\n",
       "  Location(1426, Polk Street, Nob Hill, SF, California, 94109, United States of America, (37.7898264, -122.4204295, 0.0)),\n",
       "  Location(AT&T Park, 24, Willie Mays Plaza, South Beach, SF, California, 94107, United States of America, (37.7786119, -122.390267454256, 0.0)),\n",
       "  Location(Adventure in Food and Wine, 3331, 24th Street, Liberty Street Historic District, SF, California, 94110, United States of America, (37.7521067, -122.4192217, 0.0)),\n",
       "  Location(998, Market Street, Union Square, SF, California, 94102, United States of America, (37.783701, -122.408652, 0.0)),\n",
       "  Location(Rangoon Ruby, 1608, Polk Street, Nob Hill, SF, California, 94114, United States of America, (37.7916997, -122.4207897, 0.0)),\n",
       "  Location(Kyoto Sushi, 1233, Van Ness Avenue, Western Addition, SF, California, 94109, United States of America, (37.7871652, -122.4219217, 0.0)),\n",
       "  Location(295, Orizaba Avenue, Ocean View, SF, California, 94132, United States of America, (37.7141915555556, -122.462700111111, 0.0)),\n",
       "  None,\n",
       "  None,\n",
       "  Location(Royal Indian Cuisine, 1740, Fillmore Street, Fillmore, SF, California, 94115, United States of America, (37.7858012, -122.4330789, 0.0)),\n",
       "  Location(Yangtze Market, 2026, Mission Street, Mission District, SF, California, 94114, United States of America, (37.7645082, -122.4198001, 0.0)),\n",
       "  None,\n",
       "  Location(Loehmann's, 222, Sutter Street, Union Square, SF, California, 94114, United States of America, (37.7898892, -122.4043927, 0.0)),\n",
       "  Location(120, Pine Street, Financial District, SF, California, 94111, United States of America, (37.7924473469388, -122.398935142857, 0.0)),\n",
       "  Location(Saiwalks, Vietnamese Street Food, 3348, Steiner Street, Marina District, SF, California, 94114, United States of America, (37.8003743, -122.4376967, 0.0)),\n",
       "  Location(205, Franklin Street, Hayes Valley, SF, California, 94102, United States of America, (37.7763008571429, -122.421279, 0.0)),\n",
       "  Location(Mission Street, St. Mary's Park, SF, California, 94134, United States of America, (37.7308875, -122.4291725, 0.0)),\n",
       "  Location(Pier 41, The Embarcadero, North Beach, SF, California, 94107, United States of America, (37.8094742, -122.4118509, 0.0)),\n",
       "  Location(Pier 39, North Beach, SF, California, 94107, United States of America, (37.8097913, -122.4102693, 0.0)),\n",
       "  None,\n",
       "  Location(AT&T Park, 24, Willie Mays Plaza, South Beach, SF, California, 94107, United States of America, (37.7786119, -122.390267454256, 0.0)),\n",
       "  Location(Market Street, Financial District, SF, California, 94114, United States of America, (37.7913412, -122.3987948, 0.0)),\n",
       "  None,\n",
       "  Location(Heritage Marina Hotel, 2550, Van Ness Avenue, Russian Hill, SF, California, 94114, United States of America, (37.7992719, -122.423598900657, 0.0))]]"
      ]
     },
     "execution_count": 33,
     "metadata": {},
     "output_type": "execute_result"
    }
   ],
   "source": [
    "geo_collect"
   ]
  },
  {
   "cell_type": "code",
   "execution_count": 17,
   "metadata": {},
   "outputs": [],
   "source": [
    "L_final = []\n",
    "for geo in geo_collect:\n",
    "    for i in geo:\n",
    "        L_final.append(i)"
   ]
  },
  {
   "cell_type": "code",
   "execution_count": 18,
   "metadata": {},
   "outputs": [
    {
     "data": {
      "text/plain": [
       "100"
      ]
     },
     "execution_count": 18,
     "metadata": {},
     "output_type": "execute_result"
    }
   ],
   "source": [
    "len(L_final)"
   ]
  },
  {
   "cell_type": "code",
   "execution_count": 32,
   "metadata": {},
   "outputs": [
    {
     "name": "stdout",
     "output_type": "stream",
     "text": [
      "2449, 23rd Street, Potrero Terrace, SF, California, 94110, United States of America (37.7543434081633, -122.403988857143)\n"
     ]
    },
    {
     "ename": "TypeError",
     "evalue": "'NoneType' object is not iterable",
     "output_type": "error",
     "traceback": [
      "\u001b[0;31m---------------------------------------------------------------------------\u001b[0m",
      "\u001b[0;31mTypeError\u001b[0m                                 Traceback (most recent call last)",
      "\u001b[0;32m<ipython-input-32-b0dca0e3a18c>\u001b[0m in \u001b[0;36m<module>\u001b[0;34m()\u001b[0m\n\u001b[0;32m----> 1\u001b[0;31m \u001b[0;32mfor\u001b[0m \u001b[0mlst\u001b[0m\u001b[0;34m,\u001b[0m \u001b[0mkey\u001b[0m \u001b[0;32min\u001b[0m \u001b[0mL_final\u001b[0m\u001b[0;34m:\u001b[0m\u001b[0;34m\u001b[0m\u001b[0m\n\u001b[0m\u001b[1;32m      2\u001b[0m     \u001b[0mprint\u001b[0m\u001b[0;34m(\u001b[0m\u001b[0mlst\u001b[0m\u001b[0;34m,\u001b[0m \u001b[0mkey\u001b[0m\u001b[0;34m)\u001b[0m\u001b[0;34m\u001b[0m\u001b[0m\n",
      "\u001b[0;31mTypeError\u001b[0m: 'NoneType' object is not iterable"
     ]
    }
   ],
   "source": [
    "for lst, key in L_final:\n",
    "    print(lst, key)"
   ]
  },
  {
   "cell_type": "code",
   "execution_count": 23,
   "metadata": {},
   "outputs": [],
   "source": [
    "np_array = np.array(L_final)"
   ]
  },
  {
   "cell_type": "code",
   "execution_count": 26,
   "metadata": {},
   "outputs": [
    {
     "data": {
      "text/plain": [
       "Location(2449, 23rd Street, Potrero Terrace, SF, California, 94110, United States of America, (37.7543434081633, -122.403988857143, 0.0))"
      ]
     },
     "execution_count": 26,
     "metadata": {},
     "output_type": "execute_result"
    }
   ],
   "source": [
    "np_array[0]"
   ]
  },
  {
   "cell_type": "code",
   "execution_count": 27,
   "metadata": {},
   "outputs": [],
   "source": [
    "df2 = pd.DataFrame(geo_collect)"
   ]
  },
  {
   "cell_type": "code",
   "execution_count": 30,
   "metadata": {},
   "outputs": [
    {
     "data": {
      "text/html": [
       "<div>\n",
       "<style scoped>\n",
       "    .dataframe tbody tr th:only-of-type {\n",
       "        vertical-align: middle;\n",
       "    }\n",
       "\n",
       "    .dataframe tbody tr th {\n",
       "        vertical-align: top;\n",
       "    }\n",
       "\n",
       "    .dataframe thead th {\n",
       "        text-align: right;\n",
       "    }\n",
       "</style>\n",
       "<table border=\"1\" class=\"dataframe\">\n",
       "  <thead>\n",
       "    <tr style=\"text-align: right;\">\n",
       "      <th></th>\n",
       "      <th>0</th>\n",
       "      <th>1</th>\n",
       "      <th>2</th>\n",
       "      <th>3</th>\n",
       "      <th>4</th>\n",
       "      <th>5</th>\n",
       "      <th>6</th>\n",
       "      <th>7</th>\n",
       "      <th>8</th>\n",
       "      <th>9</th>\n",
       "      <th>...</th>\n",
       "      <th>40</th>\n",
       "      <th>41</th>\n",
       "      <th>42</th>\n",
       "      <th>43</th>\n",
       "      <th>44</th>\n",
       "      <th>45</th>\n",
       "      <th>46</th>\n",
       "      <th>47</th>\n",
       "      <th>48</th>\n",
       "      <th>49</th>\n",
       "    </tr>\n",
       "  </thead>\n",
       "  <tbody>\n",
       "    <tr>\n",
       "      <th>0</th>\n",
       "      <td>(2449, 23rd Street, Potrero Terrace, SF, Calif...</td>\n",
       "      <td>None</td>\n",
       "      <td>(909, Grant Avenue, Chinatown, SF, California,...</td>\n",
       "      <td>(888, Stockton Street, Chinatown, SF, Californ...</td>\n",
       "      <td>(Limón Rotisserie, 1001, South Van Ness Avenue...</td>\n",
       "      <td>(Domino's Pizza, 876, Geary Street, Tenderloin...</td>\n",
       "      <td>(AT&amp;T Park, 24, Willie Mays Plaza, South Beach...</td>\n",
       "      <td>(726, Clement Street, Richmond District, SF, C...</td>\n",
       "      <td>(Good Mong Kok Bakery, 1039, Stockton Street, ...</td>\n",
       "      <td>(Good Eats Cafe, 200, Pine Street, Financial D...</td>\n",
       "      <td>...</td>\n",
       "      <td>None</td>\n",
       "      <td>(AT&amp;T Park, 24, Willie Mays Plaza, South Beach...</td>\n",
       "      <td>(Twitter, 1355, Market Street, Civic Center, S...</td>\n",
       "      <td>(Ocean Avenue, Ingleside, SF, California, 9413...</td>\n",
       "      <td>(4683, Mission Street, Excelsior, SF, Californ...</td>\n",
       "      <td>(1101, Stockton Street, Chinatown, SF, Califor...</td>\n",
       "      <td>(958, Illinois Street, Dogpatch, SF, Californi...</td>\n",
       "      <td>(2331-2333, Chestnut Street, Marina District, ...</td>\n",
       "      <td>(Mikkeller Bar, 34, Mason Street, Union Square...</td>\n",
       "      <td>None</td>\n",
       "    </tr>\n",
       "    <tr>\n",
       "      <th>1</th>\n",
       "      <td>None</td>\n",
       "      <td>(1101, Grant Avenue, Chinatown, SF, California...</td>\n",
       "      <td>None</td>\n",
       "      <td>(1117, Stockton Street, Chinatown, SF, Califor...</td>\n",
       "      <td>(Brioche Bakery &amp; Cafe, 210, Columbus Avenue, ...</td>\n",
       "      <td>(Heartbaker, 1408, Clement Street, Richmond Di...</td>\n",
       "      <td>(Wa Li Bakery &amp; Cafe, 1249, Stockton Street, N...</td>\n",
       "      <td>(California Street, Financial District, SF, Ca...</td>\n",
       "      <td>(Geary Boulevard, Western Addition, SF, Califo...</td>\n",
       "      <td>(Golden Horse Restaurant, 1060, Hyde Street, N...</td>\n",
       "      <td>...</td>\n",
       "      <td>(Saiwalks, Vietnamese Street Food, 3348, Stein...</td>\n",
       "      <td>(205, Franklin Street, Hayes Valley, SF, Calif...</td>\n",
       "      <td>(Mission Street, St. Mary's Park, SF, Californ...</td>\n",
       "      <td>(Pier 41, The Embarcadero, North Beach, SF, Ca...</td>\n",
       "      <td>(Pier 39, North Beach, SF, California, 94107, ...</td>\n",
       "      <td>None</td>\n",
       "      <td>(AT&amp;T Park, 24, Willie Mays Plaza, South Beach...</td>\n",
       "      <td>(Market Street, Financial District, SF, Califo...</td>\n",
       "      <td>None</td>\n",
       "      <td>(Heritage Marina Hotel, 2550, Van Ness Avenue,...</td>\n",
       "    </tr>\n",
       "  </tbody>\n",
       "</table>\n",
       "<p>2 rows × 50 columns</p>\n",
       "</div>"
      ],
      "text/plain": [
       "                                                  0   \\\n",
       "0  (2449, 23rd Street, Potrero Terrace, SF, Calif...   \n",
       "1                                               None   \n",
       "\n",
       "                                                  1   \\\n",
       "0                                               None   \n",
       "1  (1101, Grant Avenue, Chinatown, SF, California...   \n",
       "\n",
       "                                                  2   \\\n",
       "0  (909, Grant Avenue, Chinatown, SF, California,...   \n",
       "1                                               None   \n",
       "\n",
       "                                                  3   \\\n",
       "0  (888, Stockton Street, Chinatown, SF, Californ...   \n",
       "1  (1117, Stockton Street, Chinatown, SF, Califor...   \n",
       "\n",
       "                                                  4   \\\n",
       "0  (Limón Rotisserie, 1001, South Van Ness Avenue...   \n",
       "1  (Brioche Bakery & Cafe, 210, Columbus Avenue, ...   \n",
       "\n",
       "                                                  5   \\\n",
       "0  (Domino's Pizza, 876, Geary Street, Tenderloin...   \n",
       "1  (Heartbaker, 1408, Clement Street, Richmond Di...   \n",
       "\n",
       "                                                  6   \\\n",
       "0  (AT&T Park, 24, Willie Mays Plaza, South Beach...   \n",
       "1  (Wa Li Bakery & Cafe, 1249, Stockton Street, N...   \n",
       "\n",
       "                                                  7   \\\n",
       "0  (726, Clement Street, Richmond District, SF, C...   \n",
       "1  (California Street, Financial District, SF, Ca...   \n",
       "\n",
       "                                                  8   \\\n",
       "0  (Good Mong Kok Bakery, 1039, Stockton Street, ...   \n",
       "1  (Geary Boulevard, Western Addition, SF, Califo...   \n",
       "\n",
       "                                                  9   \\\n",
       "0  (Good Eats Cafe, 200, Pine Street, Financial D...   \n",
       "1  (Golden Horse Restaurant, 1060, Hyde Street, N...   \n",
       "\n",
       "                         ...                          \\\n",
       "0                        ...                           \n",
       "1                        ...                           \n",
       "\n",
       "                                                  40  \\\n",
       "0                                               None   \n",
       "1  (Saiwalks, Vietnamese Street Food, 3348, Stein...   \n",
       "\n",
       "                                                  41  \\\n",
       "0  (AT&T Park, 24, Willie Mays Plaza, South Beach...   \n",
       "1  (205, Franklin Street, Hayes Valley, SF, Calif...   \n",
       "\n",
       "                                                  42  \\\n",
       "0  (Twitter, 1355, Market Street, Civic Center, S...   \n",
       "1  (Mission Street, St. Mary's Park, SF, Californ...   \n",
       "\n",
       "                                                  43  \\\n",
       "0  (Ocean Avenue, Ingleside, SF, California, 9413...   \n",
       "1  (Pier 41, The Embarcadero, North Beach, SF, Ca...   \n",
       "\n",
       "                                                  44  \\\n",
       "0  (4683, Mission Street, Excelsior, SF, Californ...   \n",
       "1  (Pier 39, North Beach, SF, California, 94107, ...   \n",
       "\n",
       "                                                  45  \\\n",
       "0  (1101, Stockton Street, Chinatown, SF, Califor...   \n",
       "1                                               None   \n",
       "\n",
       "                                                  46  \\\n",
       "0  (958, Illinois Street, Dogpatch, SF, Californi...   \n",
       "1  (AT&T Park, 24, Willie Mays Plaza, South Beach...   \n",
       "\n",
       "                                                  47  \\\n",
       "0  (2331-2333, Chestnut Street, Marina District, ...   \n",
       "1  (Market Street, Financial District, SF, Califo...   \n",
       "\n",
       "                                                  48  \\\n",
       "0  (Mikkeller Bar, 34, Mason Street, Union Square...   \n",
       "1                                               None   \n",
       "\n",
       "                                                  49  \n",
       "0                                               None  \n",
       "1  (Heritage Marina Hotel, 2550, Van Ness Avenue,...  \n",
       "\n",
       "[2 rows x 50 columns]"
      ]
     },
     "execution_count": 30,
     "metadata": {},
     "output_type": "execute_result"
    }
   ],
   "source": [
    "df2.head()"
   ]
  },
  {
   "cell_type": "code",
   "execution_count": 46,
   "metadata": {},
   "outputs": [],
   "source": [
    "bar =df2.loc[0,0]"
   ]
  },
  {
   "cell_type": "code",
   "execution_count": 40,
   "metadata": {},
   "outputs": [
    {
     "data": {
      "text/plain": [
       "Location(909, Grant Avenue, Chinatown, SF, California, 94108, United States of America, (37.795304999856, -122.406613368069, 0.0))"
      ]
     },
     "execution_count": 40,
     "metadata": {},
     "output_type": "execute_result"
    }
   ],
   "source": [
    "df2[2][0]"
   ]
  },
  {
   "cell_type": "code",
   "execution_count": 41,
   "metadata": {},
   "outputs": [],
   "source": [
    "df2.to_csv('hmm.csv')"
   ]
  },
  {
   "cell_type": "code",
   "execution_count": 42,
   "metadata": {},
   "outputs": [],
   "source": [
    "foo = pd.read_csv(\"hmm.csv\")"
   ]
  },
  {
   "cell_type": "code",
   "execution_count": 45,
   "metadata": {},
   "outputs": [
    {
     "data": {
      "text/plain": [
       "'2449, 23rd Street, Potrero Terrace, SF, California, 94110, United States of America'"
      ]
     },
     "execution_count": 45,
     "metadata": {},
     "output_type": "execute_result"
    }
   ],
   "source": [
    "foo['0'][0]"
   ]
  },
  {
   "cell_type": "code",
   "execution_count": 51,
   "metadata": {},
   "outputs": [
    {
     "data": {
      "text/plain": [
       "Location(2449, 23rd Street, Potrero Terrace, SF, California, 94110, United States of America, (37.7543434081633, -122.403988857143, 0.0))"
      ]
     },
     "execution_count": 51,
     "metadata": {},
     "output_type": "execute_result"
    }
   ],
   "source": [
    "bar."
   ]
  },
  {
   "cell_type": "code",
   "execution_count": 60,
   "metadata": {},
   "outputs": [],
   "source": [
    "things = ['address', 'latitude', 'longitude']"
   ]
  },
  {
   "cell_type": "code",
   "execution_count": 61,
   "metadata": {},
   "outputs": [
    {
     "data": {
      "text/plain": [
       "'2449, 23rd Street, Potrero Terrace, SF, California, 94110, United States of America'"
      ]
     },
     "execution_count": 61,
     "metadata": {},
     "output_type": "execute_result"
    }
   ],
   "source": [
    "bar.address"
   ]
  },
  {
   "cell_type": "code",
   "execution_count": null,
   "metadata": {},
   "outputs": [],
   "source": []
  },
  {
   "cell_type": "code",
   "execution_count": 62,
   "metadata": {},
   "outputs": [
    {
     "name": "stdout",
     "output_type": "stream",
     "text": [
      "2449, 23rd Street, Potrero Terrace, SF, California, 94110, United States of America\n",
      "37.7543434081633\n",
      "-122.403988857143\n"
     ]
    }
   ],
   "source": [
    "for thing in things:\n",
    "    print(bar.__getattribute__(thing))"
   ]
  },
  {
   "cell_type": "code",
   "execution_count": 75,
   "metadata": {},
   "outputs": [],
   "source": [
    "with open('example2.csv', 'w') as f:\n",
    "    writer = csv.writer(f)\n",
    "    geo_items = []\n",
    "    for thing in things:\n",
    "        geo_item = bar.__getattribute__(thing)\n",
    "    writer.writerow(geo_item)"
   ]
  },
  {
   "cell_type": "code",
   "execution_count": 76,
   "metadata": {},
   "outputs": [],
   "source": [
    "foo2 = pd.read_csv(\"example2.csv\")"
   ]
  },
  {
   "cell_type": "code",
   "execution_count": 86,
   "metadata": {},
   "outputs": [],
   "source": [
    "with open('example3.csv', 'w') as f:\n",
    "    geo_items = []\n",
    "    for thing in things:\n",
    "        geo_items.append(str(bar.__getattribute__(thing)))\n",
    "    for line in geo_items:\n",
    "        f.write(line)\n",
    "        f.write(', ')"
   ]
  },
  {
   "cell_type": "code",
   "execution_count": 87,
   "metadata": {},
   "outputs": [],
   "source": [
    "foo3 = pd.read_csv(\"example3.csv\")"
   ]
  },
  {
   "cell_type": "code",
   "execution_count": 88,
   "metadata": {},
   "outputs": [
    {
     "data": {
      "text/html": [
       "<div>\n",
       "<style scoped>\n",
       "    .dataframe tbody tr th:only-of-type {\n",
       "        vertical-align: middle;\n",
       "    }\n",
       "\n",
       "    .dataframe tbody tr th {\n",
       "        vertical-align: top;\n",
       "    }\n",
       "\n",
       "    .dataframe thead th {\n",
       "        text-align: right;\n",
       "    }\n",
       "</style>\n",
       "<table border=\"1\" class=\"dataframe\">\n",
       "  <thead>\n",
       "    <tr style=\"text-align: right;\">\n",
       "      <th></th>\n",
       "      <th>2449</th>\n",
       "      <th>23rd Street</th>\n",
       "      <th>Potrero Terrace</th>\n",
       "      <th>SF</th>\n",
       "      <th>California</th>\n",
       "      <th>94110</th>\n",
       "      <th>United States of America</th>\n",
       "      <th>37.7543434081633</th>\n",
       "      <th>-122.403988857143</th>\n",
       "      <th></th>\n",
       "    </tr>\n",
       "  </thead>\n",
       "  <tbody>\n",
       "  </tbody>\n",
       "</table>\n",
       "</div>"
      ],
      "text/plain": [
       "Empty DataFrame\n",
       "Columns: [2449,  23rd Street,  Potrero Terrace,  SF,  California,  94110,  United States of America,  37.7543434081633,  -122.403988857143,  ]\n",
       "Index: []"
      ]
     },
     "execution_count": 88,
     "metadata": {},
     "output_type": "execute_result"
    }
   ],
   "source": [
    "foo3"
   ]
  },
  {
   "cell_type": "code",
   "execution_count": 97,
   "metadata": {},
   "outputs": [
    {
     "ename": "IndexError",
     "evalue": "single positional indexer is out-of-bounds",
     "output_type": "error",
     "traceback": [
      "\u001b[0;31m---------------------------------------------------------------------------\u001b[0m",
      "\u001b[0;31mIndexError\u001b[0m                                Traceback (most recent call last)",
      "\u001b[0;32m<ipython-input-97-3b1c59c5bb0f>\u001b[0m in \u001b[0;36m<module>\u001b[0;34m()\u001b[0m\n\u001b[0;32m----> 1\u001b[0;31m \u001b[0mfoo3\u001b[0m\u001b[0;34m.\u001b[0m\u001b[0miloc\u001b[0m\u001b[0;34m[\u001b[0m\u001b[0;36m2449\u001b[0m\u001b[0;34m,\u001b[0m \u001b[0;34m:\u001b[0m\u001b[0;34m]\u001b[0m\u001b[0;34m\u001b[0m\u001b[0m\n\u001b[0m",
      "\u001b[0;32m~/anaconda3/lib/python3.6/site-packages/pandas/core/indexing.py\u001b[0m in \u001b[0;36m__getitem__\u001b[0;34m(self, key)\u001b[0m\n\u001b[1;32m   1365\u001b[0m             \u001b[0;32mexcept\u001b[0m \u001b[0;34m(\u001b[0m\u001b[0mKeyError\u001b[0m\u001b[0;34m,\u001b[0m \u001b[0mIndexError\u001b[0m\u001b[0;34m)\u001b[0m\u001b[0;34m:\u001b[0m\u001b[0;34m\u001b[0m\u001b[0m\n\u001b[1;32m   1366\u001b[0m                 \u001b[0;32mpass\u001b[0m\u001b[0;34m\u001b[0m\u001b[0m\n\u001b[0;32m-> 1367\u001b[0;31m             \u001b[0;32mreturn\u001b[0m \u001b[0mself\u001b[0m\u001b[0;34m.\u001b[0m\u001b[0m_getitem_tuple\u001b[0m\u001b[0;34m(\u001b[0m\u001b[0mkey\u001b[0m\u001b[0;34m)\u001b[0m\u001b[0;34m\u001b[0m\u001b[0m\n\u001b[0m\u001b[1;32m   1368\u001b[0m         \u001b[0;32melse\u001b[0m\u001b[0;34m:\u001b[0m\u001b[0;34m\u001b[0m\u001b[0m\n\u001b[1;32m   1369\u001b[0m             \u001b[0;31m# we by definition only have the 0th axis\u001b[0m\u001b[0;34m\u001b[0m\u001b[0;34m\u001b[0m\u001b[0m\n",
      "\u001b[0;32m~/anaconda3/lib/python3.6/site-packages/pandas/core/indexing.py\u001b[0m in \u001b[0;36m_getitem_tuple\u001b[0;34m(self, tup)\u001b[0m\n\u001b[1;32m   1735\u001b[0m     \u001b[0;32mdef\u001b[0m \u001b[0m_getitem_tuple\u001b[0m\u001b[0;34m(\u001b[0m\u001b[0mself\u001b[0m\u001b[0;34m,\u001b[0m \u001b[0mtup\u001b[0m\u001b[0;34m)\u001b[0m\u001b[0;34m:\u001b[0m\u001b[0;34m\u001b[0m\u001b[0m\n\u001b[1;32m   1736\u001b[0m \u001b[0;34m\u001b[0m\u001b[0m\n\u001b[0;32m-> 1737\u001b[0;31m         \u001b[0mself\u001b[0m\u001b[0;34m.\u001b[0m\u001b[0m_has_valid_tuple\u001b[0m\u001b[0;34m(\u001b[0m\u001b[0mtup\u001b[0m\u001b[0;34m)\u001b[0m\u001b[0;34m\u001b[0m\u001b[0m\n\u001b[0m\u001b[1;32m   1738\u001b[0m         \u001b[0;32mtry\u001b[0m\u001b[0;34m:\u001b[0m\u001b[0;34m\u001b[0m\u001b[0m\n\u001b[1;32m   1739\u001b[0m             \u001b[0;32mreturn\u001b[0m \u001b[0mself\u001b[0m\u001b[0;34m.\u001b[0m\u001b[0m_getitem_lowerdim\u001b[0m\u001b[0;34m(\u001b[0m\u001b[0mtup\u001b[0m\u001b[0;34m)\u001b[0m\u001b[0;34m\u001b[0m\u001b[0m\n",
      "\u001b[0;32m~/anaconda3/lib/python3.6/site-packages/pandas/core/indexing.py\u001b[0m in \u001b[0;36m_has_valid_tuple\u001b[0;34m(self, key)\u001b[0m\n\u001b[1;32m    202\u001b[0m             \u001b[0;32mif\u001b[0m \u001b[0mi\u001b[0m \u001b[0;34m>=\u001b[0m \u001b[0mself\u001b[0m\u001b[0;34m.\u001b[0m\u001b[0mobj\u001b[0m\u001b[0;34m.\u001b[0m\u001b[0mndim\u001b[0m\u001b[0;34m:\u001b[0m\u001b[0;34m\u001b[0m\u001b[0m\n\u001b[1;32m    203\u001b[0m                 \u001b[0;32mraise\u001b[0m \u001b[0mIndexingError\u001b[0m\u001b[0;34m(\u001b[0m\u001b[0;34m'Too many indexers'\u001b[0m\u001b[0;34m)\u001b[0m\u001b[0;34m\u001b[0m\u001b[0m\n\u001b[0;32m--> 204\u001b[0;31m             \u001b[0;32mif\u001b[0m \u001b[0;32mnot\u001b[0m \u001b[0mself\u001b[0m\u001b[0;34m.\u001b[0m\u001b[0m_has_valid_type\u001b[0m\u001b[0;34m(\u001b[0m\u001b[0mk\u001b[0m\u001b[0;34m,\u001b[0m \u001b[0mi\u001b[0m\u001b[0;34m)\u001b[0m\u001b[0;34m:\u001b[0m\u001b[0;34m\u001b[0m\u001b[0m\n\u001b[0m\u001b[1;32m    205\u001b[0m                 raise ValueError(\"Location based indexing can only have \"\n\u001b[1;32m    206\u001b[0m                                  \u001b[0;34m\"[{types}] types\"\u001b[0m\u001b[0;34m\u001b[0m\u001b[0m\n",
      "\u001b[0;32m~/anaconda3/lib/python3.6/site-packages/pandas/core/indexing.py\u001b[0m in \u001b[0;36m_has_valid_type\u001b[0;34m(self, key, axis)\u001b[0m\n\u001b[1;32m   1670\u001b[0m             \u001b[0;32mreturn\u001b[0m \u001b[0;32mTrue\u001b[0m\u001b[0;34m\u001b[0m\u001b[0m\n\u001b[1;32m   1671\u001b[0m         \u001b[0;32melif\u001b[0m \u001b[0mis_integer\u001b[0m\u001b[0;34m(\u001b[0m\u001b[0mkey\u001b[0m\u001b[0;34m)\u001b[0m\u001b[0;34m:\u001b[0m\u001b[0;34m\u001b[0m\u001b[0m\n\u001b[0;32m-> 1672\u001b[0;31m             \u001b[0;32mreturn\u001b[0m \u001b[0mself\u001b[0m\u001b[0;34m.\u001b[0m\u001b[0m_is_valid_integer\u001b[0m\u001b[0;34m(\u001b[0m\u001b[0mkey\u001b[0m\u001b[0;34m,\u001b[0m \u001b[0maxis\u001b[0m\u001b[0;34m)\u001b[0m\u001b[0;34m\u001b[0m\u001b[0m\n\u001b[0m\u001b[1;32m   1673\u001b[0m         \u001b[0;32melif\u001b[0m \u001b[0mis_list_like_indexer\u001b[0m\u001b[0;34m(\u001b[0m\u001b[0mkey\u001b[0m\u001b[0;34m)\u001b[0m\u001b[0;34m:\u001b[0m\u001b[0;34m\u001b[0m\u001b[0m\n\u001b[1;32m   1674\u001b[0m             \u001b[0;32mreturn\u001b[0m \u001b[0mself\u001b[0m\u001b[0;34m.\u001b[0m\u001b[0m_is_valid_list_like\u001b[0m\u001b[0;34m(\u001b[0m\u001b[0mkey\u001b[0m\u001b[0;34m,\u001b[0m \u001b[0maxis\u001b[0m\u001b[0;34m)\u001b[0m\u001b[0;34m\u001b[0m\u001b[0m\n",
      "\u001b[0;32m~/anaconda3/lib/python3.6/site-packages/pandas/core/indexing.py\u001b[0m in \u001b[0;36m_is_valid_integer\u001b[0;34m(self, key, axis)\u001b[0m\n\u001b[1;32m   1711\u001b[0m         \u001b[0ml\u001b[0m \u001b[0;34m=\u001b[0m \u001b[0mlen\u001b[0m\u001b[0;34m(\u001b[0m\u001b[0max\u001b[0m\u001b[0;34m)\u001b[0m\u001b[0;34m\u001b[0m\u001b[0m\n\u001b[1;32m   1712\u001b[0m         \u001b[0;32mif\u001b[0m \u001b[0mkey\u001b[0m \u001b[0;34m>=\u001b[0m \u001b[0ml\u001b[0m \u001b[0;32mor\u001b[0m \u001b[0mkey\u001b[0m \u001b[0;34m<\u001b[0m \u001b[0;34m-\u001b[0m\u001b[0ml\u001b[0m\u001b[0;34m:\u001b[0m\u001b[0;34m\u001b[0m\u001b[0m\n\u001b[0;32m-> 1713\u001b[0;31m             \u001b[0;32mraise\u001b[0m \u001b[0mIndexError\u001b[0m\u001b[0;34m(\u001b[0m\u001b[0;34m\"single positional indexer is out-of-bounds\"\u001b[0m\u001b[0;34m)\u001b[0m\u001b[0;34m\u001b[0m\u001b[0m\n\u001b[0m\u001b[1;32m   1714\u001b[0m         \u001b[0;32mreturn\u001b[0m \u001b[0;32mTrue\u001b[0m\u001b[0;34m\u001b[0m\u001b[0m\n\u001b[1;32m   1715\u001b[0m \u001b[0;34m\u001b[0m\u001b[0m\n",
      "\u001b[0;31mIndexError\u001b[0m: single positional indexer is out-of-bounds"
     ]
    }
   ],
   "source": [
    "foo3.iloc[2449, :]"
   ]
  },
  {
   "cell_type": "code",
   "execution_count": null,
   "metadata": {},
   "outputs": [],
   "source": []
  }
 ],
 "metadata": {
  "kernelspec": {
   "display_name": "Python 3",
   "language": "python",
   "name": "python3"
  },
  "language_info": {
   "codemirror_mode": {
    "name": "ipython",
    "version": 3
   },
   "file_extension": ".py",
   "mimetype": "text/x-python",
   "name": "python",
   "nbconvert_exporter": "python",
   "pygments_lexer": "ipython3",
   "version": "3.6.4"
  }
 },
 "nbformat": 4,
 "nbformat_minor": 2
}
