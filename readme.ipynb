{
 "cells": [
  {
   "cell_type": "markdown",
   "metadata": {},
   "source": [
    "# SFeaters\n",
    "![alt text](img/website_header.png)"
   ]
  },
  {
   "cell_type": "markdown",
   "metadata": {},
   "source": [
    "# Abstract"
   ]
  },
  {
   "cell_type": "markdown",
   "metadata": {},
   "source": [
    "San Francisco publishes its restaurant health inspection data in monthly basis. This data set covers the past three years. Based on the violation history, we should be able to tell the future performance of a restaurant.  \n",
    "The 3 year period was segmented into 6 different ones, and the latest 6 months were used as target. That is, if a restaurant  has one or more violations during the period, it is labeled as “True”.  \n",
    "This predictor is able to tell if a restaurant will pass or fail the health inspection in the next 6 months with 71.2% accuracy. "
   ]
  },
  {
   "cell_type": "markdown",
   "metadata": {},
   "source": [
    "# How does the predictor work?"
   ]
  },
  {
   "cell_type": "markdown",
   "metadata": {},
   "source": [
    "Data: SF city health inspection (past 3 years)  \n",
    "The objective of data cleaning was to get the data in the following form.\n",
    "![alt text](img/time_periods_segmentation.png)"
   ]
  },
  {
   "cell_type": "markdown",
   "metadata": {},
   "source": [
    "# Data cleaning and EDA"
   ]
  },
  {
   "cell_type": "markdown",
   "metadata": {},
   "source": [
    "## Features considered  \n",
    "- 5 periods assigned: 7-9,10-12, 13-15, 16-24, 25-36 month ago  \n",
    "- Zip codes  \n",
    "- Yelp customer ratings  \n",
    "- Yelp food price  \n",
    "- Business geo coords  \n",
    "- Business turnover rates  \n",
    "- Years of restaurant in business"
   ]
  },
  {
   "cell_type": "markdown",
   "metadata": {},
   "source": [
    "## Sources:\n",
    "- Yelp ratings and prices: Web-scraping  \n",
    "- Business geo coords: geopy  \n",
    "- Business turnover rates and years in business: another dataset from SF city"
   ]
  },
  {
   "cell_type": "markdown",
   "metadata": {},
   "source": [
    "## Data cleaning pipeline\n",
    "![alt text](img/pipeline.png)"
   ]
  },
  {
   "cell_type": "markdown",
   "metadata": {},
   "source": [
    "## Data before and after cleaning\n",
    "### Before\n",
    "![alt text](img/data_before.png)\n",
    "### After\n",
    "![alt text](img/data_after.png)"
   ]
  },
  {
   "cell_type": "markdown",
   "metadata": {},
   "source": [
    "## Scatter plot for different periods\n",
    "![alt text](img/scatter_plot.png)"
   ]
  },
  {
   "cell_type": "markdown",
   "metadata": {},
   "source": [
    "# Modeling"
   ]
  },
  {
   "cell_type": "markdown",
   "metadata": {},
   "source": [
    "## Algorithms considered:  \n",
    "1. Logistic regression  \n",
    "2. Gradient boosting  \n",
    "3. Decision tree  \n",
    "4. Random forest  \n",
    "5. Ada boost  \n",
    "\n",
    "Gradient boost was slightly better than the rest.  \n",
    "Accuracy: 71.2%  \n",
    "Precision: 71.2%  \n",
    "Recall: 59.1%  \n",
    "FP rate: 19.1%  \n",
    "F1: 64.6%  \n",
    "\n",
    "Class balance (overall true rate) = 44%"
   ]
  },
  {
   "cell_type": "markdown",
   "metadata": {},
   "source": [
    "## Gradient Boosting  \n",
    "Final modeling:  \n",
    "Estimator: 40  \n",
    "Max feature: 4  \n",
    "Learning rate: 0.08  \n",
    "Max depth: 8  \n",
    "Sub-sample: 0.4  \n",
    "\n",
    "![alt text](img/grad_boost.png)"
   ]
  },
  {
   "cell_type": "markdown",
   "metadata": {},
   "source": [
    "## ROC Curve of Gradient Boosting  \n",
    "![alt text](img/roc_curve2.png)\n",
    "#### AUC = 0.78"
   ]
  },
  {
   "cell_type": "markdown",
   "metadata": {},
   "source": [
    "## Precision, Recall, F1, Accuracy, & AUC\n",
    "![alt text](img/model_comparison.png)  \n",
    "They perform about the same.  \n",
    "Gradient boost is slightly better than the rest. (best F1 value) "
   ]
  },
  {
   "cell_type": "markdown",
   "metadata": {},
   "source": [
    "## Enemble model\n",
    "5 models were combined to make a prediction.  \n",
    "  \n",
    "Best of 5 wins  -->  70.3% No effect on accuracy  \n",
    "( performs worse than Grad Boosting, 71.2% )"
   ]
  },
  {
   "cell_type": "markdown",
   "metadata": {},
   "source": [
    "## Confusion matrix of Gradient Boost\n",
    "![alt text](img/confusion_matrix_theory.png)\n",
    "![alt text](img/confusion_matrix_grad_boost.png)  \n",
    "Precision: 71.2%  \n",
    "Recall: 59.1%  \n",
    "FP rate: 19.1%  \n",
    "F1: 64.6%  "
   ]
  },
  {
   "cell_type": "markdown",
   "metadata": {},
   "source": [
    "# Analysis"
   ]
  },
  {
   "cell_type": "markdown",
   "metadata": {},
   "source": [
    "## Missing signatures in violation map\n",
    "![alt text](img/sf_restaurants_maps.png)"
   ]
  },
  {
   "cell_type": "markdown",
   "metadata": {},
   "source": [
    "## Two areas without violation signatures \n",
    "Below are two areas with signatures shown at entire SF restaurant map, but missing in the violation map.  \n",
    "The Haight and NoPa areas (Next to Golden Gate Park)  \n",
    "Why?  \n",
    "![alt text](img/haight_nopa.png)"
   ]
  },
  {
   "cell_type": "markdown",
   "metadata": {},
   "source": [
    "## Histograms for ratings and prices  \n",
    "![alt text](img/rating_price.png)  \n",
    "Customer ratings and food prices have no correlation with food safety."
   ]
  },
  {
   "cell_type": "markdown",
   "metadata": {},
   "source": [
    "# Next Steps"
   ]
  },
  {
   "cell_type": "markdown",
   "metadata": {},
   "source": [
    "### 1. Restaurant category information from Yelp:\n",
    "####     Type of food: Chinese, French, Mediterranean, seafood, ramen, Southern,  ...\n",
    "#### 2. Time series analysis on this data."
   ]
  },
  {
   "cell_type": "code",
   "execution_count": null,
   "metadata": {},
   "outputs": [],
   "source": []
  },
  {
   "cell_type": "code",
   "execution_count": null,
   "metadata": {},
   "outputs": [],
   "source": []
  },
  {
   "cell_type": "code",
   "execution_count": null,
   "metadata": {},
   "outputs": [],
   "source": []
  }
 ],
 "metadata": {
  "kernelspec": {
   "display_name": "Python 3",
   "language": "python",
   "name": "python3"
  },
  "language_info": {
   "codemirror_mode": {
    "name": "ipython",
    "version": 3
   },
   "file_extension": ".py",
   "mimetype": "text/x-python",
   "name": "python",
   "nbconvert_exporter": "python",
   "pygments_lexer": "ipython3",
   "version": "3.6.4"
  }
 },
 "nbformat": 4,
 "nbformat_minor": 2
}
