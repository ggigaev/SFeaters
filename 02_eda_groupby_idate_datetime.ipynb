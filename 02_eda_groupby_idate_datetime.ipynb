{
 "cells": [
  {
   "cell_type": "code",
   "execution_count": 7,
   "metadata": {},
   "outputs": [],
   "source": [
    "import numpy as np\n",
    "import pandas as pd\n",
    "from numpy import nan\n",
    "import math"
   ]
  },
  {
   "cell_type": "code",
   "execution_count": 8,
   "metadata": {},
   "outputs": [],
   "source": [
    "df = pd.read_csv('data/df_periods.csv')"
   ]
  },
  {
   "cell_type": "code",
   "execution_count": 9,
   "metadata": {},
   "outputs": [],
   "source": [
    "# create a datetime column for inspection date\n",
    "df['inspect_date'] = pd.to_datetime(df.inspection_date)"
   ]
  },
  {
   "cell_type": "code",
   "execution_count": 10,
   "metadata": {},
   "outputs": [
    {
     "data": {
      "text/html": [
       "<div>\n",
       "<style scoped>\n",
       "    .dataframe tbody tr th:only-of-type {\n",
       "        vertical-align: middle;\n",
       "    }\n",
       "\n",
       "    .dataframe tbody tr th {\n",
       "        vertical-align: top;\n",
       "    }\n",
       "\n",
       "    .dataframe thead th {\n",
       "        text-align: right;\n",
       "    }\n",
       "</style>\n",
       "<table border=\"1\" class=\"dataframe\">\n",
       "  <thead>\n",
       "    <tr style=\"text-align: right;\">\n",
       "      <th></th>\n",
       "      <th>Unnamed: 0</th>\n",
       "      <th>business_id</th>\n",
       "      <th>business_name</th>\n",
       "      <th>business_address</th>\n",
       "      <th>business_city</th>\n",
       "      <th>business_state</th>\n",
       "      <th>business_postal_code</th>\n",
       "      <th>business_latitude</th>\n",
       "      <th>business_longitude</th>\n",
       "      <th>business_location</th>\n",
       "      <th>...</th>\n",
       "      <th>inspection_id</th>\n",
       "      <th>inspection_date</th>\n",
       "      <th>inspection_score</th>\n",
       "      <th>inspection_type</th>\n",
       "      <th>violation_id</th>\n",
       "      <th>violation_description</th>\n",
       "      <th>risk_category</th>\n",
       "      <th>short_inspect_date</th>\n",
       "      <th>short_violation_id</th>\n",
       "      <th>inspect_date</th>\n",
       "    </tr>\n",
       "  </thead>\n",
       "  <tbody>\n",
       "    <tr>\n",
       "      <th>0</th>\n",
       "      <td>0</td>\n",
       "      <td>1757</td>\n",
       "      <td>Dar Bar Pakistani/Indian Cusine</td>\n",
       "      <td>1412 Polk St</td>\n",
       "      <td>San Francisco</td>\n",
       "      <td>CA</td>\n",
       "      <td>94109</td>\n",
       "      <td>37.789784</td>\n",
       "      <td>-122.420455</td>\n",
       "      <td>(37.789784, -122.420455)</td>\n",
       "      <td>...</td>\n",
       "      <td>1757_20170928</td>\n",
       "      <td>9/28/2017 0:00</td>\n",
       "      <td>86.0</td>\n",
       "      <td>Routine - Unscheduled</td>\n",
       "      <td>1757_20170928_103131</td>\n",
       "      <td>Moderate risk vermin infestation</td>\n",
       "      <td>Moderate Risk</td>\n",
       "      <td>20170928</td>\n",
       "      <td>103131</td>\n",
       "      <td>2017-09-28</td>\n",
       "    </tr>\n",
       "    <tr>\n",
       "      <th>1</th>\n",
       "      <td>1</td>\n",
       "      <td>4864</td>\n",
       "      <td>DRAGON CITY BAKERY &amp; CAFE</td>\n",
       "      <td>2367 MISSION St</td>\n",
       "      <td>San Francisco</td>\n",
       "      <td>CA</td>\n",
       "      <td>94110</td>\n",
       "      <td>37.759174</td>\n",
       "      <td>-122.419066</td>\n",
       "      <td>(37.759174, -122.419066)</td>\n",
       "      <td>...</td>\n",
       "      <td>4864_20161206</td>\n",
       "      <td>12/6/2016 0:00</td>\n",
       "      <td>84.0</td>\n",
       "      <td>Routine - Unscheduled</td>\n",
       "      <td>4864_20161206_103157</td>\n",
       "      <td>Food safety certificate or food handler card n...</td>\n",
       "      <td>Low Risk</td>\n",
       "      <td>20161206</td>\n",
       "      <td>103157</td>\n",
       "      <td>2016-12-06</td>\n",
       "    </tr>\n",
       "  </tbody>\n",
       "</table>\n",
       "<p>2 rows × 21 columns</p>\n",
       "</div>"
      ],
      "text/plain": [
       "   Unnamed: 0  business_id                    business_name business_address  \\\n",
       "0           0         1757  Dar Bar Pakistani/Indian Cusine     1412 Polk St   \n",
       "1           1         4864        DRAGON CITY BAKERY & CAFE  2367 MISSION St   \n",
       "\n",
       "   business_city business_state business_postal_code  business_latitude  \\\n",
       "0  San Francisco             CA                94109          37.789784   \n",
       "1  San Francisco             CA                94110          37.759174   \n",
       "\n",
       "   business_longitude         business_location      ...       inspection_id  \\\n",
       "0         -122.420455  (37.789784, -122.420455)      ...       1757_20170928   \n",
       "1         -122.419066  (37.759174, -122.419066)      ...       4864_20161206   \n",
       "\n",
       "  inspection_date inspection_score        inspection_type  \\\n",
       "0  9/28/2017 0:00             86.0  Routine - Unscheduled   \n",
       "1  12/6/2016 0:00             84.0  Routine - Unscheduled   \n",
       "\n",
       "           violation_id                              violation_description  \\\n",
       "0  1757_20170928_103131                   Moderate risk vermin infestation   \n",
       "1  4864_20161206_103157  Food safety certificate or food handler card n...   \n",
       "\n",
       "   risk_category short_inspect_date  short_violation_id  inspect_date  \n",
       "0  Moderate Risk           20170928              103131    2017-09-28  \n",
       "1       Low Risk           20161206              103157    2016-12-06  \n",
       "\n",
       "[2 rows x 21 columns]"
      ]
     },
     "execution_count": 10,
     "metadata": {},
     "output_type": "execute_result"
    }
   ],
   "source": [
    "df.head(2)"
   ]
  },
  {
   "cell_type": "code",
   "execution_count": 11,
   "metadata": {},
   "outputs": [],
   "source": [
    "# df_short is full rows with 4 columns only\n",
    "df_short = df[['business_id', 'inspect_date', 'risk_category', 'short_violation_id']]"
   ]
  },
  {
   "cell_type": "code",
   "execution_count": 12,
   "metadata": {},
   "outputs": [
    {
     "data": {
      "text/plain": [
       "False"
      ]
     },
     "execution_count": 12,
     "metadata": {},
     "output_type": "execute_result"
    }
   ],
   "source": [
    "a = df_short['short_violation_id']\n",
    "a.isnull().any()"
   ]
  },
  {
   "cell_type": "code",
   "execution_count": 13,
   "metadata": {},
   "outputs": [
    {
     "name": "stderr",
     "output_type": "stream",
     "text": [
      "/home/soong/anaconda3/lib/python3.6/site-packages/ipykernel_launcher.py:1: SettingWithCopyWarning: \n",
      "A value is trying to be set on a copy of a slice from a DataFrame.\n",
      "Try using .loc[row_indexer,col_indexer] = value instead\n",
      "\n",
      "See the caveats in the documentation: http://pandas.pydata.org/pandas-docs/stable/indexing.html#indexing-view-versus-copy\n",
      "  \"\"\"Entry point for launching an IPython kernel.\n"
     ]
    }
   ],
   "source": [
    "df_short['short_violation_id'] = df_short['short_violation_id'].apply(np.int64)"
   ]
  },
  {
   "cell_type": "code",
   "execution_count": 14,
   "metadata": {},
   "outputs": [
    {
     "data": {
      "text/plain": [
       "business_id                            61\n",
       "inspect_date          2015-08-27 00:00:00\n",
       "risk_category                    Low Risk\n",
       "short_violation_id                 103149\n",
       "Name: 29, dtype: object"
      ]
     },
     "execution_count": 14,
     "metadata": {},
     "output_type": "execute_result"
    }
   ],
   "source": [
    "df_short.iloc[29]"
   ]
  },
  {
   "cell_type": "code",
   "execution_count": 15,
   "metadata": {},
   "outputs": [
    {
     "data": {
      "text/plain": [
       "5229"
      ]
     },
     "execution_count": 15,
     "metadata": {},
     "output_type": "execute_result"
    }
   ],
   "source": [
    "len(df_short['business_id'].unique())"
   ]
  },
  {
   "cell_type": "code",
   "execution_count": 1,
   "metadata": {},
   "outputs": [],
   "source": [
    "#df_short.business_id.value_counts()"
   ]
  },
  {
   "cell_type": "markdown",
   "metadata": {},
   "source": [
    "### Let's aggregate risk_category and short_violation_id group by business_id and short_inspection_date"
   ]
  },
  {
   "cell_type": "code",
   "execution_count": 17,
   "metadata": {},
   "outputs": [],
   "source": [
    "# Let's use df_short to do the aggregation"
   ]
  },
  {
   "cell_type": "code",
   "execution_count": 18,
   "metadata": {},
   "outputs": [],
   "source": [
    "n305 = df_short.groupby(['business_id', 'inspect_date'])['risk_category'].unique()"
   ]
  },
  {
   "cell_type": "code",
   "execution_count": 19,
   "metadata": {},
   "outputs": [
    {
     "data": {
      "text/plain": [
       "pandas.core.series.Series"
      ]
     },
     "execution_count": 19,
     "metadata": {},
     "output_type": "execute_result"
    }
   ],
   "source": [
    "type(n305)"
   ]
  },
  {
   "cell_type": "code",
   "execution_count": 20,
   "metadata": {},
   "outputs": [],
   "source": [
    "list_n305 = n305.tolist()"
   ]
  },
  {
   "cell_type": "code",
   "execution_count": 21,
   "metadata": {},
   "outputs": [],
   "source": [
    "m259 = df_short.groupby(['business_id', 'inspect_date'])['short_violation_id'].unique()"
   ]
  },
  {
   "cell_type": "code",
   "execution_count": 22,
   "metadata": {},
   "outputs": [],
   "source": [
    "df_grouped = pd.DataFrame(m259)"
   ]
  },
  {
   "cell_type": "code",
   "execution_count": 23,
   "metadata": {},
   "outputs": [
    {
     "data": {
      "text/html": [
       "<div>\n",
       "<style scoped>\n",
       "    .dataframe tbody tr th:only-of-type {\n",
       "        vertical-align: middle;\n",
       "    }\n",
       "\n",
       "    .dataframe tbody tr th {\n",
       "        vertical-align: top;\n",
       "    }\n",
       "\n",
       "    .dataframe thead th {\n",
       "        text-align: right;\n",
       "    }\n",
       "</style>\n",
       "<table border=\"1\" class=\"dataframe\">\n",
       "  <thead>\n",
       "    <tr style=\"text-align: right;\">\n",
       "      <th></th>\n",
       "      <th></th>\n",
       "      <th>short_violation_id</th>\n",
       "    </tr>\n",
       "    <tr>\n",
       "      <th>business_id</th>\n",
       "      <th>inspect_date</th>\n",
       "      <th></th>\n",
       "    </tr>\n",
       "  </thead>\n",
       "  <tbody>\n",
       "    <tr>\n",
       "      <th rowspan=\"2\" valign=\"top\">19</th>\n",
       "      <th>2016-05-13</th>\n",
       "      <td>[103144, 103157, 103154]</td>\n",
       "    </tr>\n",
       "    <tr>\n",
       "      <th>2017-12-11</th>\n",
       "      <td>[103144, 103116]</td>\n",
       "    </tr>\n",
       "    <tr>\n",
       "      <th>24</th>\n",
       "      <th>2016-03-11</th>\n",
       "      <td>[103154]</td>\n",
       "    </tr>\n",
       "  </tbody>\n",
       "</table>\n",
       "</div>"
      ],
      "text/plain": [
       "                                short_violation_id\n",
       "business_id inspect_date                          \n",
       "19          2016-05-13    [103144, 103157, 103154]\n",
       "            2017-12-11            [103144, 103116]\n",
       "24          2016-03-11                    [103154]"
      ]
     },
     "execution_count": 23,
     "metadata": {},
     "output_type": "execute_result"
    }
   ],
   "source": [
    "df_grouped.head(3)"
   ]
  },
  {
   "cell_type": "code",
   "execution_count": 24,
   "metadata": {},
   "outputs": [
    {
     "data": {
      "text/plain": [
       "pandas.core.series.Series"
      ]
     },
     "execution_count": 24,
     "metadata": {},
     "output_type": "execute_result"
    }
   ],
   "source": [
    "#df_grouped.loc[df_grouped['business_id'==19]]\n",
    "bid_vnum = df_grouped.reset_index().groupby('business_id')['inspect_date'].nunique()\n",
    "type(bid_vnum)"
   ]
  },
  {
   "cell_type": "code",
   "execution_count": 53,
   "metadata": {},
   "outputs": [],
   "source": [
    "#bid_vnum.sort_values(axis=0, ascending=False)"
   ]
  },
  {
   "cell_type": "markdown",
   "metadata": {},
   "source": [
    "## Let's look at restaurants with more than 5 violation dates"
   ]
  },
  {
   "cell_type": "code",
   "execution_count": 26,
   "metadata": {},
   "outputs": [
    {
     "data": {
      "text/plain": [
       "74"
      ]
     },
     "execution_count": 26,
     "metadata": {},
     "output_type": "execute_result"
    }
   ],
   "source": [
    "len(bid_vnum[bid_vnum.values >5])"
   ]
  },
  {
   "cell_type": "code",
   "execution_count": 27,
   "metadata": {},
   "outputs": [],
   "source": [
    "# List the restaurants with more than 5 violation dates\n",
    "more_than5 = bid_vnum[bid_vnum.values >5]"
   ]
  },
  {
   "cell_type": "code",
   "execution_count": 28,
   "metadata": {},
   "outputs": [],
   "source": [
    "# business ids with more than 5 violation dates\n",
    "bid_mt5 = more_than5.index\n",
    "bid_mt5\n",
    "bid_mt5=list(bid_mt5)"
   ]
  },
  {
   "cell_type": "code",
   "execution_count": 29,
   "metadata": {},
   "outputs": [],
   "source": [
    "# Show bid_mt5 restaurants from df_grouped\n",
    "#df_grouped.loc[bid_mt5]"
   ]
  },
  {
   "cell_type": "markdown",
   "metadata": {},
   "source": [
    "## Let's look at restaurants with 5 violation dates"
   ]
  },
  {
   "cell_type": "code",
   "execution_count": 30,
   "metadata": {},
   "outputs": [
    {
     "data": {
      "text/plain": [
       "147"
      ]
     },
     "execution_count": 30,
     "metadata": {},
     "output_type": "execute_result"
    }
   ],
   "source": [
    "len(bid_vnum[bid_vnum.values ==5])"
   ]
  },
  {
   "cell_type": "code",
   "execution_count": 31,
   "metadata": {},
   "outputs": [],
   "source": [
    "# List the restaurants with 5 violation dates\n",
    "with5 = bid_vnum[bid_vnum.values == 5]"
   ]
  },
  {
   "cell_type": "code",
   "execution_count": 32,
   "metadata": {},
   "outputs": [],
   "source": [
    "# business ids with 5 violation dates\n",
    "bid_with5 = with5.index\n",
    "bid_with5\n",
    "bid_with5=list(bid_with5)"
   ]
  },
  {
   "cell_type": "code",
   "execution_count": 33,
   "metadata": {},
   "outputs": [],
   "source": [
    "# Show bid_mt4 restaurants from df_grouped\n",
    "#df_grouped.loc[bid_with5]"
   ]
  },
  {
   "cell_type": "markdown",
   "metadata": {},
   "source": [
    "## Let's look at restaurants with 4 violation dates"
   ]
  },
  {
   "cell_type": "code",
   "execution_count": 34,
   "metadata": {},
   "outputs": [
    {
     "data": {
      "text/plain": [
       "508"
      ]
     },
     "execution_count": 34,
     "metadata": {},
     "output_type": "execute_result"
    }
   ],
   "source": [
    "len(bid_vnum[bid_vnum.values ==4])"
   ]
  },
  {
   "cell_type": "code",
   "execution_count": 35,
   "metadata": {},
   "outputs": [],
   "source": [
    "with4 = bid_vnum[bid_vnum.values == 4]\n",
    "bid_with4 = with4.index\n",
    "bid_with4\n",
    "bid_with4=list(bid_with4)\n",
    "#df_grouped.loc[bid_with4]"
   ]
  },
  {
   "cell_type": "markdown",
   "metadata": {},
   "source": [
    "## Let's look at restaurants with 3 violation dates"
   ]
  },
  {
   "cell_type": "code",
   "execution_count": 36,
   "metadata": {},
   "outputs": [
    {
     "data": {
      "text/plain": [
       "1297"
      ]
     },
     "execution_count": 36,
     "metadata": {},
     "output_type": "execute_result"
    }
   ],
   "source": [
    "len(bid_vnum[bid_vnum.values ==3])"
   ]
  },
  {
   "cell_type": "code",
   "execution_count": 37,
   "metadata": {},
   "outputs": [],
   "source": [
    "with3 = bid_vnum[bid_vnum.values == 3]\n",
    "bid_with3 = with3.index\n",
    "bid_with3\n",
    "bid_with3=list(bid_with3)\n",
    "#df_grouped.loc[bid_with3]"
   ]
  },
  {
   "cell_type": "markdown",
   "metadata": {},
   "source": [
    "## Let's look at restaurants with 2 violation dates"
   ]
  },
  {
   "cell_type": "code",
   "execution_count": 38,
   "metadata": {},
   "outputs": [
    {
     "data": {
      "text/plain": [
       "1839"
      ]
     },
     "execution_count": 38,
     "metadata": {},
     "output_type": "execute_result"
    }
   ],
   "source": [
    "len(bid_vnum[bid_vnum.values ==2])"
   ]
  },
  {
   "cell_type": "code",
   "execution_count": 39,
   "metadata": {},
   "outputs": [],
   "source": [
    "with2 = bid_vnum[bid_vnum.values == 2]\n",
    "bid_with2 = with2.index\n",
    "bid_with2\n",
    "bid_with2 =list(bid_with2)\n",
    "#df_grouped.loc[bid_with2]"
   ]
  },
  {
   "cell_type": "code",
   "execution_count": 40,
   "metadata": {},
   "outputs": [],
   "source": [
    "df_grouped['risk_category'] = list_n305\n",
    "#df_grouped"
   ]
  },
  {
   "cell_type": "code",
   "execution_count": 41,
   "metadata": {},
   "outputs": [
    {
     "data": {
      "text/plain": [
       "FrozenList(['business_id', 'inspect_date'])"
      ]
     },
     "execution_count": 41,
     "metadata": {},
     "output_type": "execute_result"
    }
   ],
   "source": [
    "df_grouped.index.names"
   ]
  },
  {
   "cell_type": "code",
   "execution_count": 42,
   "metadata": {},
   "outputs": [
    {
     "data": {
      "text/html": [
       "<div>\n",
       "<style scoped>\n",
       "    .dataframe tbody tr th:only-of-type {\n",
       "        vertical-align: middle;\n",
       "    }\n",
       "\n",
       "    .dataframe tbody tr th {\n",
       "        vertical-align: top;\n",
       "    }\n",
       "\n",
       "    .dataframe thead th {\n",
       "        text-align: right;\n",
       "    }\n",
       "</style>\n",
       "<table border=\"1\" class=\"dataframe\">\n",
       "  <thead>\n",
       "    <tr style=\"text-align: right;\">\n",
       "      <th></th>\n",
       "      <th></th>\n",
       "      <th>short_violation_id</th>\n",
       "      <th>risk_category</th>\n",
       "    </tr>\n",
       "    <tr>\n",
       "      <th>business_id</th>\n",
       "      <th>inspect_date</th>\n",
       "      <th></th>\n",
       "      <th></th>\n",
       "    </tr>\n",
       "  </thead>\n",
       "  <tbody>\n",
       "    <tr>\n",
       "      <th>315</th>\n",
       "      <th>2015-05-18</th>\n",
       "      <td>[103114, 103154, 103138]</td>\n",
       "      <td>[High Risk, Low Risk]</td>\n",
       "    </tr>\n",
       "  </tbody>\n",
       "</table>\n",
       "</div>"
      ],
      "text/plain": [
       "                                short_violation_id          risk_category\n",
       "business_id inspect_date                                                 \n",
       "315         2015-05-18    [103114, 103154, 103138]  [High Risk, Low Risk]"
      ]
     },
     "execution_count": 42,
     "metadata": {},
     "output_type": "execute_result"
    }
   ],
   "source": [
    "df_grouped.loc[(315,'2015-05-18'),:]"
   ]
  },
  {
   "cell_type": "markdown",
   "metadata": {},
   "source": [
    "# Use datetime type for inpsection dates with full set of data"
   ]
  },
  {
   "cell_type": "code",
   "execution_count": 43,
   "metadata": {},
   "outputs": [],
   "source": [
    "df['short_violation_id'] = df['short_violation_id'].apply(np.int64)"
   ]
  },
  {
   "cell_type": "code",
   "execution_count": 44,
   "metadata": {},
   "outputs": [],
   "source": [
    "# create a pandas series with groupby\n",
    "m1100 = df.groupby(['business_id', 'inspect_date'])['short_violation_id'].unique()"
   ]
  },
  {
   "cell_type": "code",
   "execution_count": 45,
   "metadata": {},
   "outputs": [],
   "source": [
    "# change series to dataframe\n",
    "df_grouped2 = pd.DataFrame(m1100)"
   ]
  },
  {
   "cell_type": "code",
   "execution_count": 46,
   "metadata": {},
   "outputs": [
    {
     "data": {
      "text/html": [
       "<div>\n",
       "<style scoped>\n",
       "    .dataframe tbody tr th:only-of-type {\n",
       "        vertical-align: middle;\n",
       "    }\n",
       "\n",
       "    .dataframe tbody tr th {\n",
       "        vertical-align: top;\n",
       "    }\n",
       "\n",
       "    .dataframe thead th {\n",
       "        text-align: right;\n",
       "    }\n",
       "</style>\n",
       "<table border=\"1\" class=\"dataframe\">\n",
       "  <thead>\n",
       "    <tr style=\"text-align: right;\">\n",
       "      <th></th>\n",
       "      <th></th>\n",
       "      <th>short_violation_id</th>\n",
       "    </tr>\n",
       "    <tr>\n",
       "      <th>business_id</th>\n",
       "      <th>inspect_date</th>\n",
       "      <th></th>\n",
       "    </tr>\n",
       "  </thead>\n",
       "  <tbody>\n",
       "    <tr>\n",
       "      <th>315</th>\n",
       "      <th>2015-05-18</th>\n",
       "      <td>[103114, 103154, 103138]</td>\n",
       "    </tr>\n",
       "  </tbody>\n",
       "</table>\n",
       "</div>"
      ],
      "text/plain": [
       "                                short_violation_id\n",
       "business_id inspect_date                          \n",
       "315         2015-05-18    [103114, 103154, 103138]"
      ]
     },
     "execution_count": 46,
     "metadata": {},
     "output_type": "execute_result"
    }
   ],
   "source": [
    "df_grouped2.loc[(315,'2015-05-18'),:]"
   ]
  },
  {
   "cell_type": "markdown",
   "metadata": {},
   "source": [
    "## Create a frame for data filling in"
   ]
  },
  {
   "cell_type": "code",
   "execution_count": 47,
   "metadata": {},
   "outputs": [],
   "source": [
    "ndf2 = df.drop_duplicates('business_id')"
   ]
  },
  {
   "cell_type": "code",
   "execution_count": 48,
   "metadata": {},
   "outputs": [],
   "source": [
    "# idf2 is just a frame to be filled with data from df_grouped \n",
    "idf2 = ndf2.reset_index(drop=True)"
   ]
  },
  {
   "cell_type": "code",
   "execution_count": 49,
   "metadata": {},
   "outputs": [],
   "source": [
    "idf2.at[:, 'p1_3'] = 0\n",
    "idf2.at[:, 'p4_6'] = 0\n",
    "idf2.at[:, 'p7_9'] = 0\n",
    "idf2.at[:, 'p10_12'] = 0\n",
    "idf2.at[:, 'p13_18'] = 0\n",
    "idf2.at[:, 'p19_24'] = 0\n",
    "idf2.at[:, 'p25_36'] = 0"
   ]
  },
  {
   "cell_type": "markdown",
   "metadata": {},
   "source": [
    "### Filling up the number of violations per business per inspection date"
   ]
  },
  {
   "cell_type": "code",
   "execution_count": 50,
   "metadata": {},
   "outputs": [],
   "source": [
    "for row in df_grouped2.iterrows():\n",
    "    latest_enddate = pd.to_datetime('2018-03-31')\n",
    "    bid = row[0][0]\n",
    "    date = row[0][1]\n",
    "    date1 = latest_enddate \n",
    "    date2 = latest_enddate - pd.DateOffset(months=3)\n",
    "    date3 = latest_enddate - pd.DateOffset(months=6)\n",
    "    date4 = latest_enddate - pd.DateOffset(months=9)\n",
    "    date5 = latest_enddate - pd.DateOffset(months=12)\n",
    "    date6 = latest_enddate - pd.DateOffset(months=18)\n",
    "    date7 = latest_enddate - pd.DateOffset(months=24)\n",
    "    date8 = latest_enddate - pd.DateOffset(months=36)\n",
    "\n",
    "    if date2 < date <= date1:\n",
    "        num_viols = len(row[1]['short_violation_id'])\n",
    "        idx = idf2.business_id[idf2.business_id ==bid].index.tolist()\n",
    "        idf2.at[idx, 'p1_3'] = num_viols\n",
    "    elif date3 < date <= date2:\n",
    "        num_viols = len(row[1]['short_violation_id'])\n",
    "        idx = idf2.business_id[idf2.business_id ==bid].index.tolist()\n",
    "        idf2.at[idx, 'p4_6'] = num_viols\n",
    "    elif date4 < date <= date3:\n",
    "        num_viols = len(row[1]['short_violation_id'])\n",
    "        idx = idf2.business_id[idf2.business_id ==bid].index.tolist()\n",
    "        idf2.at[idx, 'p7_9'] = num_viols\n",
    "    elif date5 < date <= date4:\n",
    "        num_viols = len(row[1]['short_violation_id'])\n",
    "        idx = idf2.business_id[idf2.business_id ==bid].index.tolist()\n",
    "        idf2.at[idx, 'p10_12'] = num_viols\n",
    "    elif date6 < date <= date5:\n",
    "        num_viols = len(row[1]['short_violation_id'])\n",
    "        idx = idf2.business_id[idf2.business_id ==bid].index.tolist()\n",
    "        idf2.at[idx, 'p13_18'] = num_viols\n",
    "    elif date7 < date <= date6:\n",
    "        num_viols = len(row[1]['short_violation_id'])\n",
    "        idx = idf2.business_id[idf2.business_id ==bid].index.tolist()\n",
    "        idf2.at[idx, 'p19_24'] = num_viols\n",
    "    elif date8 < date <= date7: \n",
    "        num_viols = len(row[1]['short_violation_id'])\n",
    "        idx = idf2.business_id[idf2.business_id ==bid].index.tolist()\n",
    "        idf2.at[idx, 'p25_36'] = num_viols"
   ]
  },
  {
   "cell_type": "code",
   "execution_count": 51,
   "metadata": {},
   "outputs": [
    {
     "data": {
      "text/html": [
       "<div>\n",
       "<style scoped>\n",
       "    .dataframe tbody tr th:only-of-type {\n",
       "        vertical-align: middle;\n",
       "    }\n",
       "\n",
       "    .dataframe tbody tr th {\n",
       "        vertical-align: top;\n",
       "    }\n",
       "\n",
       "    .dataframe thead th {\n",
       "        text-align: right;\n",
       "    }\n",
       "</style>\n",
       "<table border=\"1\" class=\"dataframe\">\n",
       "  <thead>\n",
       "    <tr style=\"text-align: right;\">\n",
       "      <th></th>\n",
       "      <th>Unnamed: 0</th>\n",
       "      <th>business_id</th>\n",
       "      <th>business_name</th>\n",
       "      <th>business_address</th>\n",
       "      <th>business_city</th>\n",
       "      <th>business_state</th>\n",
       "      <th>business_postal_code</th>\n",
       "      <th>business_latitude</th>\n",
       "      <th>business_longitude</th>\n",
       "      <th>business_location</th>\n",
       "      <th>...</th>\n",
       "      <th>short_inspect_date</th>\n",
       "      <th>short_violation_id</th>\n",
       "      <th>inspect_date</th>\n",
       "      <th>p1_3</th>\n",
       "      <th>p4_6</th>\n",
       "      <th>p7_9</th>\n",
       "      <th>p10_12</th>\n",
       "      <th>p13_18</th>\n",
       "      <th>p19_24</th>\n",
       "      <th>p25_36</th>\n",
       "    </tr>\n",
       "  </thead>\n",
       "  <tbody>\n",
       "    <tr>\n",
       "      <th>0</th>\n",
       "      <td>0</td>\n",
       "      <td>1757</td>\n",
       "      <td>Dar Bar Pakistani/Indian Cusine</td>\n",
       "      <td>1412 Polk St</td>\n",
       "      <td>San Francisco</td>\n",
       "      <td>CA</td>\n",
       "      <td>94109</td>\n",
       "      <td>37.789784</td>\n",
       "      <td>-122.420455</td>\n",
       "      <td>(37.789784, -122.420455)</td>\n",
       "      <td>...</td>\n",
       "      <td>20170928</td>\n",
       "      <td>103131</td>\n",
       "      <td>2017-09-28</td>\n",
       "      <td>0</td>\n",
       "      <td>0</td>\n",
       "      <td>5</td>\n",
       "      <td>0</td>\n",
       "      <td>0</td>\n",
       "      <td>6</td>\n",
       "      <td>5</td>\n",
       "    </tr>\n",
       "    <tr>\n",
       "      <th>1</th>\n",
       "      <td>1</td>\n",
       "      <td>4864</td>\n",
       "      <td>DRAGON CITY BAKERY &amp; CAFE</td>\n",
       "      <td>2367 MISSION St</td>\n",
       "      <td>San Francisco</td>\n",
       "      <td>CA</td>\n",
       "      <td>94110</td>\n",
       "      <td>37.759174</td>\n",
       "      <td>-122.419066</td>\n",
       "      <td>(37.759174, -122.419066)</td>\n",
       "      <td>...</td>\n",
       "      <td>20161206</td>\n",
       "      <td>103157</td>\n",
       "      <td>2016-12-06</td>\n",
       "      <td>0</td>\n",
       "      <td>6</td>\n",
       "      <td>0</td>\n",
       "      <td>0</td>\n",
       "      <td>5</td>\n",
       "      <td>5</td>\n",
       "      <td>3</td>\n",
       "    </tr>\n",
       "    <tr>\n",
       "      <th>2</th>\n",
       "      <td>2</td>\n",
       "      <td>79782</td>\n",
       "      <td>Deli 23</td>\n",
       "      <td>2449 23rd St</td>\n",
       "      <td>San Francisco</td>\n",
       "      <td>CA</td>\n",
       "      <td>94110</td>\n",
       "      <td>NaN</td>\n",
       "      <td>NaN</td>\n",
       "      <td>NaN</td>\n",
       "      <td>...</td>\n",
       "      <td>20160503</td>\n",
       "      <td>103120</td>\n",
       "      <td>2016-05-03</td>\n",
       "      <td>4</td>\n",
       "      <td>0</td>\n",
       "      <td>2</td>\n",
       "      <td>0</td>\n",
       "      <td>3</td>\n",
       "      <td>3</td>\n",
       "      <td>2</td>\n",
       "    </tr>\n",
       "    <tr>\n",
       "      <th>3</th>\n",
       "      <td>3</td>\n",
       "      <td>73840</td>\n",
       "      <td>L'acajou Bakery and Cafe</td>\n",
       "      <td>498 09th St Ste. C</td>\n",
       "      <td>San Francisco</td>\n",
       "      <td>CA</td>\n",
       "      <td>94103</td>\n",
       "      <td>NaN</td>\n",
       "      <td>NaN</td>\n",
       "      <td>NaN</td>\n",
       "      <td>...</td>\n",
       "      <td>20171207</td>\n",
       "      <td>103105</td>\n",
       "      <td>2017-12-07</td>\n",
       "      <td>0</td>\n",
       "      <td>5</td>\n",
       "      <td>0</td>\n",
       "      <td>0</td>\n",
       "      <td>6</td>\n",
       "      <td>0</td>\n",
       "      <td>0</td>\n",
       "    </tr>\n",
       "    <tr>\n",
       "      <th>4</th>\n",
       "      <td>4</td>\n",
       "      <td>76437</td>\n",
       "      <td>Sweetheart Cafe</td>\n",
       "      <td>909 Grant Ave</td>\n",
       "      <td>San Francisco</td>\n",
       "      <td>CA</td>\n",
       "      <td>94108</td>\n",
       "      <td>NaN</td>\n",
       "      <td>NaN</td>\n",
       "      <td>NaN</td>\n",
       "      <td>...</td>\n",
       "      <td>20160329</td>\n",
       "      <td>103113</td>\n",
       "      <td>2016-03-29</td>\n",
       "      <td>0</td>\n",
       "      <td>11</td>\n",
       "      <td>0</td>\n",
       "      <td>0</td>\n",
       "      <td>0</td>\n",
       "      <td>6</td>\n",
       "      <td>6</td>\n",
       "    </tr>\n",
       "  </tbody>\n",
       "</table>\n",
       "<p>5 rows × 28 columns</p>\n",
       "</div>"
      ],
      "text/plain": [
       "   Unnamed: 0  business_id                    business_name  \\\n",
       "0           0         1757  Dar Bar Pakistani/Indian Cusine   \n",
       "1           1         4864        DRAGON CITY BAKERY & CAFE   \n",
       "2           2        79782                          Deli 23   \n",
       "3           3        73840         L'acajou Bakery and Cafe   \n",
       "4           4        76437                  Sweetheart Cafe   \n",
       "\n",
       "     business_address  business_city business_state business_postal_code  \\\n",
       "0        1412 Polk St  San Francisco             CA                94109   \n",
       "1     2367 MISSION St  San Francisco             CA                94110   \n",
       "2        2449 23rd St  San Francisco             CA                94110   \n",
       "3  498 09th St Ste. C  San Francisco             CA                94103   \n",
       "4       909 Grant Ave  San Francisco             CA                94108   \n",
       "\n",
       "   business_latitude  business_longitude         business_location   ...    \\\n",
       "0          37.789784         -122.420455  (37.789784, -122.420455)   ...     \n",
       "1          37.759174         -122.419066  (37.759174, -122.419066)   ...     \n",
       "2                NaN                 NaN                       NaN   ...     \n",
       "3                NaN                 NaN                       NaN   ...     \n",
       "4                NaN                 NaN                       NaN   ...     \n",
       "\n",
       "   short_inspect_date short_violation_id inspect_date  p1_3 p4_6 p7_9 p10_12  \\\n",
       "0            20170928             103131   2017-09-28     0    0    5      0   \n",
       "1            20161206             103157   2016-12-06     0    6    0      0   \n",
       "2            20160503             103120   2016-05-03     4    0    2      0   \n",
       "3            20171207             103105   2017-12-07     0    5    0      0   \n",
       "4            20160329             103113   2016-03-29     0   11    0      0   \n",
       "\n",
       "  p13_18  p19_24  p25_36  \n",
       "0      0       6       5  \n",
       "1      5       5       3  \n",
       "2      3       3       2  \n",
       "3      6       0       0  \n",
       "4      0       6       6  \n",
       "\n",
       "[5 rows x 28 columns]"
      ]
     },
     "execution_count": 51,
     "metadata": {},
     "output_type": "execute_result"
    }
   ],
   "source": [
    "idf2.head(5)"
   ]
  },
  {
   "cell_type": "code",
   "execution_count": 52,
   "metadata": {},
   "outputs": [],
   "source": [
    "idf2.to_csv('data/ready4model_v2.csv')"
   ]
  },
  {
   "cell_type": "code",
   "execution_count": null,
   "metadata": {},
   "outputs": [],
   "source": []
  },
  {
   "cell_type": "code",
   "execution_count": null,
   "metadata": {},
   "outputs": [],
   "source": []
  },
  {
   "cell_type": "code",
   "execution_count": null,
   "metadata": {},
   "outputs": [],
   "source": []
  }
 ],
 "metadata": {
  "kernelspec": {
   "display_name": "Python 3",
   "language": "python",
   "name": "python3"
  },
  "language_info": {
   "codemirror_mode": {
    "name": "ipython",
    "version": 3
   },
   "file_extension": ".py",
   "mimetype": "text/x-python",
   "name": "python",
   "nbconvert_exporter": "python",
   "pygments_lexer": "ipython3",
   "version": "3.6.4"
  }
 },
 "nbformat": 4,
 "nbformat_minor": 2
}
