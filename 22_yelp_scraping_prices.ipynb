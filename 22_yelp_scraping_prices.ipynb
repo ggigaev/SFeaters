{
 "cells": [
  {
   "cell_type": "code",
   "execution_count": 2,
   "metadata": {},
   "outputs": [],
   "source": [
    "import requests\n",
    "import json\n",
    "from pymongo import MongoClient\n",
    "from bs4 import BeautifulSoup\n",
    "import pandas as pd"
   ]
  },
  {
   "cell_type": "code",
   "execution_count": 3,
   "metadata": {},
   "outputs": [],
   "source": [
    "# connect to database\n",
    "client = MongoClient('mongodb://localhost:27017')"
   ]
  },
  {
   "cell_type": "code",
   "execution_count": 129,
   "metadata": {},
   "outputs": [],
   "source": [
    "# get html from website\n",
    "text = requests.get('https://www.yelp.com/search?find_desc=Restaurants&start=0&l=p:CA:San_Francisco::%5BWestern_Addition,Westwood_Highlands,Westwood_Park%5D').text"
   ]
  },
  {
   "cell_type": "code",
   "execution_count": 130,
   "metadata": {},
   "outputs": [],
   "source": [
    "# turn html into bs4 object\n",
    "soup = BeautifulSoup(text, 'lxml')\n",
    "#print(soup)"
   ]
  },
  {
   "cell_type": "markdown",
   "metadata": {},
   "source": [
    "### Get prices"
   ]
  },
  {
   "cell_type": "code",
   "execution_count": 121,
   "metadata": {},
   "outputs": [],
   "source": [
    "webpage1 = 'https://www.yelp.com/search?find_desc=Restaurants&start='\n",
    "webpage2 ='&l=p:CA:San_Francisco::%5BWestern_Addition,Westwood_Highlands,Westwood_Park%5D'"
   ]
  },
  {
   "cell_type": "code",
   "execution_count": 131,
   "metadata": {},
   "outputs": [],
   "source": [
    "prices_43 = []\n",
    "for i in range(0, 50, 10):\n",
    "    i = str(i)\n",
    "    nwebpage = webpage1 + i + webpage2\n",
    "    text = requests.get(nwebpage).text\n",
    "    soup = BeautifulSoup(text, 'lxml')\n",
    "    items_tr = soup.select('li.regular-search-result > div > div > div > div > div > h3 > span > a > span')  + soup.select('li.regular-search-result > div > div > div > div > div > div > span > span')\n",
    "    #items_tr = soup.select('li.regular-search-result > div > div > div > div > div > div')\n",
    "    for item in items_tr:\n",
    "        #print(item)\n",
    "        prices_43.append(item)"
   ]
  },
  {
   "cell_type": "code",
   "execution_count": 132,
   "metadata": {},
   "outputs": [
    {
     "data": {
      "text/plain": [
       "80"
      ]
     },
     "execution_count": 132,
     "metadata": {},
     "output_type": "execute_result"
    }
   ],
   "source": [
    "len(prices_43)"
   ]
  },
  {
   "cell_type": "code",
   "execution_count": 133,
   "metadata": {},
   "outputs": [
    {
     "data": {
      "text/plain": [
       "[<span>One Waan</span>,\n",
       " <span>Hops &amp; Hominy</span>,\n",
       " <span>Rusty’s Southern</span>,\n",
       " <span>DragonEats</span>,\n",
       " <span>Tropisueño</span>,\n",
       " <span>Brenda’s French Soul Food</span>,\n",
       " <span>Om Indian Cuisine</span>,\n",
       " <span>Spice of America</span>,\n",
       " <span>Barnzu</span>,\n",
       " <span>Lao Table</span>,\n",
       " <span class=\"business-attribute price-range\">$$</span>,\n",
       " <span class=\"business-attribute price-range\">$$</span>,\n",
       " <span class=\"business-attribute price-range\">$$</span>,\n",
       " <span class=\"business-attribute price-range\">$</span>,\n",
       " <span class=\"business-attribute price-range\">$$</span>,\n",
       " <span class=\"business-attribute price-range\">$$</span>,\n",
       " <span class=\"business-attribute price-range\">$$</span>,\n",
       " <span class=\"business-attribute price-range\">$$</span>,\n",
       " <span class=\"business-attribute price-range\">$$$</span>,\n",
       " <span class=\"business-attribute price-range\">$$</span>,\n",
       " <span>Basil Canteen</span>,\n",
       " <span>Basil Thai Restaurant &amp; Bar</span>,\n",
       " <span>Tacorea</span>,\n",
       " <span>People’s Bistro</span>,\n",
       " <span>Orexi</span>,\n",
       " <span>Rocco’s Café</span>,\n",
       " <span>Benu</span>,\n",
       " <span>Street Taco</span>,\n",
       " <span>Taboun</span>,\n",
       " <span>Hakkasan</span>,\n",
       " <span class=\"business-attribute price-range\">$$</span>,\n",
       " <span class=\"business-attribute price-range\">$$</span>,\n",
       " <span class=\"business-attribute price-range\">$</span>,\n",
       " <span class=\"business-attribute price-range\">$</span>,\n",
       " <span class=\"business-attribute price-range\">$$</span>,\n",
       " <span class=\"business-attribute price-range\">$$</span>,\n",
       " <span class=\"business-attribute price-range\">$$$$</span>,\n",
       " <span class=\"business-attribute price-range\">$</span>,\n",
       " <span class=\"business-attribute price-range\">$</span>,\n",
       " <span class=\"business-attribute price-range\">$$$</span>,\n",
       " <span>Sons &amp; Daughters</span>,\n",
       " <span>1428 HAIGHT Patio Cafe &amp; Crepery</span>,\n",
       " <span>Hogwash</span>,\n",
       " <span>Tratto</span>,\n",
       " <span>Sparrow Bar and Kitchen</span>,\n",
       " <span>Cha Cha Cha</span>,\n",
       " <span>Box Kitchen</span>,\n",
       " <span>Barcha</span>,\n",
       " <span>Mathilde French Bistro</span>,\n",
       " <span>Bergerac</span>,\n",
       " <span class=\"business-attribute price-range\">$$$$</span>,\n",
       " <span class=\"business-attribute price-range\">$$</span>,\n",
       " <span class=\"business-attribute price-range\">$$</span>,\n",
       " <span class=\"business-attribute price-range\">$$</span>,\n",
       " <span class=\"business-attribute price-range\">$$</span>,\n",
       " <span class=\"business-attribute price-range\">$$</span>,\n",
       " <span class=\"business-attribute price-range\">$</span>,\n",
       " <span class=\"business-attribute price-range\">$$</span>,\n",
       " <span class=\"business-attribute price-range\">$$$</span>,\n",
       " <span class=\"business-attribute price-range\">$$</span>,\n",
       " <span>1601 Bar &amp; Kitchen</span>,\n",
       " <span>The Cavalier</span>,\n",
       " <span>Dirty Water</span>,\n",
       " <span>Montesacro Pinseria-Enoteca</span>,\n",
       " <span>The Bird</span>,\n",
       " <span>Chambers</span>,\n",
       " <span>Ichido</span>,\n",
       " <span>The Pink Elephant Alibi</span>,\n",
       " <span>Saison</span>,\n",
       " <span>Akiko’s Restaurant</span>,\n",
       " <span class=\"business-attribute price-range\">$$$</span>,\n",
       " <span class=\"business-attribute price-range\">$$$</span>,\n",
       " <span class=\"business-attribute price-range\">$$</span>,\n",
       " <span class=\"business-attribute price-range\">$$</span>,\n",
       " <span class=\"business-attribute price-range\">$</span>,\n",
       " <span class=\"business-attribute price-range\">$$</span>,\n",
       " <span class=\"business-attribute price-range\">$$$</span>,\n",
       " <span class=\"business-attribute price-range\">$$</span>,\n",
       " <span class=\"business-attribute price-range\">$$$$</span>,\n",
       " <span class=\"business-attribute price-range\">$$</span>]"
      ]
     },
     "execution_count": 133,
     "metadata": {},
     "output_type": "execute_result"
    }
   ],
   "source": [
    "prices_43"
   ]
  },
  {
   "cell_type": "markdown",
   "metadata": {},
   "source": [
    "## Store the prices"
   ]
  },
  {
   "cell_type": "code",
   "execution_count": 74,
   "metadata": {},
   "outputs": [],
   "source": [
    "#total_prices = []"
   ]
  },
  {
   "cell_type": "code",
   "execution_count": 134,
   "metadata": {},
   "outputs": [],
   "source": [
    "total_prices.extend(prices_43)"
   ]
  },
  {
   "cell_type": "code",
   "execution_count": 135,
   "metadata": {},
   "outputs": [
    {
     "data": {
      "text/plain": [
       "8529"
      ]
     },
     "execution_count": 135,
     "metadata": {},
     "output_type": "execute_result"
    }
   ],
   "source": [
    "len(total_prices)"
   ]
  },
  {
   "cell_type": "code",
   "execution_count": 77,
   "metadata": {},
   "outputs": [],
   "source": [
    "#total_prices_lst = []"
   ]
  },
  {
   "cell_type": "code",
   "execution_count": 136,
   "metadata": {},
   "outputs": [],
   "source": [
    "total_prices_lst.append(prices_43)"
   ]
  },
  {
   "cell_type": "code",
   "execution_count": 137,
   "metadata": {},
   "outputs": [
    {
     "data": {
      "text/plain": [
       "7"
      ]
     },
     "execution_count": 137,
     "metadata": {},
     "output_type": "execute_result"
    }
   ],
   "source": [
    "len(total_prices_lst)"
   ]
  },
  {
   "cell_type": "code",
   "execution_count": 138,
   "metadata": {},
   "outputs": [],
   "source": [
    "save_list = []\n",
    "for line in total_prices:\n",
    "    sline = str(line)\n",
    "    save_list.append(sline)\n",
    "    #data = [element.text for element in soup.find_all(\"div\", \"value\")]"
   ]
  },
  {
   "cell_type": "code",
   "execution_count": 139,
   "metadata": {},
   "outputs": [],
   "source": [
    "sdf = pd.DataFrame(save_list)\n",
    "sdf.to_pickle('data/yelp_prices.pkl')"
   ]
  },
  {
   "cell_type": "code",
   "execution_count": 140,
   "metadata": {},
   "outputs": [
    {
     "data": {
      "text/plain": [
       "8529"
      ]
     },
     "execution_count": 140,
     "metadata": {},
     "output_type": "execute_result"
    }
   ],
   "source": [
    "len(pd.read_pickle('data/yelp_prices.pkl'))"
   ]
  },
  {
   "cell_type": "code",
   "execution_count": null,
   "metadata": {},
   "outputs": [],
   "source": []
  }
 ],
 "metadata": {
  "kernelspec": {
   "display_name": "Python 3",
   "language": "python",
   "name": "python3"
  },
  "language_info": {
   "codemirror_mode": {
    "name": "ipython",
    "version": 3
   },
   "file_extension": ".py",
   "mimetype": "text/x-python",
   "name": "python",
   "nbconvert_exporter": "python",
   "pygments_lexer": "ipython3",
   "version": "3.6.4"
  }
 },
 "nbformat": 4,
 "nbformat_minor": 2
}
