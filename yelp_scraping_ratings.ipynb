{
 "cells": [
  {
   "cell_type": "code",
   "execution_count": 214,
   "metadata": {},
   "outputs": [],
   "source": [
    "import requests\n",
    "import json\n",
    "from pymongo import MongoClient\n",
    "from bs4 import BeautifulSoup\n",
    "import pandas as pd"
   ]
  },
  {
   "cell_type": "code",
   "execution_count": 42,
   "metadata": {},
   "outputs": [],
   "source": [
    "# connect to database\n",
    "client = MongoClient('mongodb://localhost:27017')"
   ]
  },
  {
   "cell_type": "code",
   "execution_count": 44,
   "metadata": {},
   "outputs": [
    {
     "data": {
      "text/plain": [
       "'94013'"
      ]
     },
     "execution_count": 44,
     "metadata": {},
     "output_type": "execute_result"
    }
   ],
   "source": [
    "# 33 zip codes to webscraping from in SF\n",
    "with open('data/sf_zipcodes_for_webscraping.txt', 'r') as f:\n",
    "    data = f.read()\n",
    "    zipcodes = []\n",
    "    for zcode in data.split(', '):\n",
    "        zipcodes.append(zcode.strip())\n",
    "zipcodes[0]"
   ]
  },
  {
   "cell_type": "code",
   "execution_count": 45,
   "metadata": {},
   "outputs": [],
   "source": [
    "# get html from website\n",
    "text = requests.get('https://www.yelp.com/search?find_desc=Restaurants&start=0&l=p:CA:San_Francisco::%5BAlamo_Square,Anza_Vista,Ashbury_Heights,Balboa_Terrace,Bayview-Hunters_Point,Bernal_Heights,Castro,Chinatown,Civic_Center,Cole_Valley,Corona_Heights,Crocker-Amazon,Diamond_Heights,Dogpatch,Duboce_Triangle,Embarcadero,Excelsior,Fillmore%5D').text"
   ]
  },
  {
   "cell_type": "code",
   "execution_count": 46,
   "metadata": {},
   "outputs": [],
   "source": [
    "# turn html into bs4 object\n",
    "soup = BeautifulSoup(text, 'lxml')\n",
    "#print(soup)"
   ]
  },
  {
   "cell_type": "code",
   "execution_count": 47,
   "metadata": {},
   "outputs": [],
   "source": [
    "# create empty movies list for storage\n",
    "restaurants = []"
   ]
  },
  {
   "cell_type": "code",
   "execution_count": 48,
   "metadata": {},
   "outputs": [
    {
     "name": "stdout",
     "output_type": "stream",
     "text": [
      "<span>The Front Porch</span>\n",
      "<span>Frances</span>\n",
      "<span>Saucy Asian</span>\n",
      "<span>Kitchen Story</span>\n",
      "<span>Emmy’s Spaghetti Shack</span>\n",
      "<span>Serpentine</span>\n",
      "<span>Lark</span>\n",
      "<span>Cuisine of Nepal</span>\n",
      "<span>Gilberth’s Latin Fusion Restaurant</span>\n",
      "<span>3rd Cousin</span>\n"
     ]
    }
   ],
   "source": [
    "items_tr = soup.select('  h3 > span > a > span')\n",
    "for item in items_tr:\n",
    "    print(item)"
   ]
  },
  {
   "cell_type": "markdown",
   "metadata": {},
   "source": [
    "## Get 1000 business names"
   ]
  },
  {
   "cell_type": "code",
   "execution_count": 54,
   "metadata": {},
   "outputs": [],
   "source": [
    "webpage1 = 'https://www.yelp.com/search?find_desc=Restaurants&start='\n",
    "webpage2 ='&l=p:CA:San_Francisco::%5BAlamo_Square,Anza_Vista,Ashbury_Heights,Balboa_Terrace,Bayview-Hunters_Point,Bernal_Heights,Castro,Chinatown,Civic_Center,Cole_Valley,Corona_Heights,Crocker-Amazon,Diamond_Heights,Dogpatch,Duboce_Triangle,Embarcadero,Excelsior,Fillmore%5D'"
   ]
  },
  {
   "cell_type": "code",
   "execution_count": 57,
   "metadata": {},
   "outputs": [
    {
     "data": {
      "text/plain": [
       "'https://www.yelp.com/search?find_desc=Restaurants&start=20&l=p:CA:San_Francisco::%5BAlamo_Square,Anza_Vista,Ashbury_Heights,Balboa_Terrace,Bayview-Hunters_Point,Bernal_Heights,Castro,Chinatown,Civic_Center,Cole_Valley,Corona_Heights,Crocker-Amazon,Diamond_Heights,Dogpatch,Duboce_Triangle,Embarcadero,Excelsior,Fillmore%5D'"
      ]
     },
     "execution_count": 57,
     "metadata": {},
     "output_type": "execute_result"
    }
   ],
   "source": [
    "nwebpage = webpage1 + '20' + webpage2\n",
    "nwebpage"
   ]
  },
  {
   "cell_type": "code",
   "execution_count": 147,
   "metadata": {},
   "outputs": [],
   "source": [
    "names = []\n",
    "for i in range(0, 30, 10):\n",
    "    i = str(i)\n",
    "    nwebpage = webpage1 + i + webpage2\n",
    "    text = requests.get(nwebpage).text\n",
    "    soup = BeautifulSoup(text, 'lxml')\n",
    "    #items_tr = soup.select('  h3 > span > a > span')  \n",
    "    items_tr = soup.select('li.regular-search-result > div > div > div > div > div > h3 > span > a > span')\n",
    "    #items_tr2 = soup.select('li.regular-search-result > div > div > div > div > div > h3 > span')\n",
    "    for item in items_tr:\n",
    "        #print(type(item), item.getText())\n",
    "        names.append(item)"
   ]
  },
  {
   "cell_type": "code",
   "execution_count": null,
   "metadata": {},
   "outputs": [],
   "source": []
  },
  {
   "cell_type": "markdown",
   "metadata": {},
   "source": [
    "### Get 1000 ratings\n",
    "Remove the first one. It must be the rating of the web site developer."
   ]
  },
  {
   "cell_type": "code",
   "execution_count": 204,
   "metadata": {},
   "outputs": [],
   "source": [
    "webpage1 = 'https://www.yelp.com/search?find_desc=Restaurants&start='\n",
    "webpage2 ='&l=p:CA:San_Francisco::[Western_Addition,Westwood_Highlands,Westwood_Park]'"
   ]
  },
  {
   "cell_type": "code",
   "execution_count": 205,
   "metadata": {},
   "outputs": [],
   "source": [
    "ratings_43 = []\n",
    "for i in range(0, 50, 10):\n",
    "    i = str(i)\n",
    "    nwebpage = webpage1 + i + webpage2\n",
    "    text = requests.get(nwebpage).text\n",
    "    soup = BeautifulSoup(text, 'lxml')\n",
    "    items_tr = soup.select('li.regular-search-result > div > div > div > div > div > h3 > span > a > span')  + soup.select('li.regular-search-result > div > div > div > div > div > div > div > img')\n",
    "    #items_tr = soup.select('li.regular-search-result > div > div > div > div > div > div')\n",
    "    for item in items_tr:\n",
    "        #print(item)\n",
    "        ratings_43.append(item)"
   ]
  },
  {
   "cell_type": "code",
   "execution_count": 206,
   "metadata": {},
   "outputs": [
    {
     "data": {
      "text/plain": [
       "86"
      ]
     },
     "execution_count": 206,
     "metadata": {},
     "output_type": "execute_result"
    }
   ],
   "source": [
    "len(ratings_43)"
   ]
  },
  {
   "cell_type": "code",
   "execution_count": null,
   "metadata": {},
   "outputs": [],
   "source": []
  },
  {
   "cell_type": "markdown",
   "metadata": {},
   "source": [
    "## Store the ratings"
   ]
  },
  {
   "cell_type": "code",
   "execution_count": 208,
   "metadata": {},
   "outputs": [],
   "source": [
    "total_ratings.extend(ratings_43)"
   ]
  },
  {
   "cell_type": "code",
   "execution_count": 209,
   "metadata": {},
   "outputs": [
    {
     "data": {
      "text/plain": [
       "8810"
      ]
     },
     "execution_count": 209,
     "metadata": {},
     "output_type": "execute_result"
    }
   ],
   "source": [
    "len(total_ratings)"
   ]
  },
  {
   "cell_type": "code",
   "execution_count": 210,
   "metadata": {},
   "outputs": [],
   "source": [
    "tot_ratings_lst.append(ratings_43)"
   ]
  },
  {
   "cell_type": "code",
   "execution_count": 211,
   "metadata": {},
   "outputs": [
    {
     "data": {
      "text/plain": [
       "7"
      ]
     },
     "execution_count": 211,
     "metadata": {},
     "output_type": "execute_result"
    }
   ],
   "source": [
    "len(tot_ratings_lst)"
   ]
  },
  {
   "cell_type": "code",
   "execution_count": 267,
   "metadata": {},
   "outputs": [],
   "source": [
    "save_list = []\n",
    "for line in total_ratings:\n",
    "    sline = str(line)\n",
    "    save_list.append(sline)\n",
    "    #data = [element.text for element in soup.find_all(\"div\", \"value\")]"
   ]
  },
  {
   "cell_type": "code",
   "execution_count": 268,
   "metadata": {},
   "outputs": [],
   "source": [
    "sdf = pd.DataFrame(save_list)\n",
    "sdf.to_pickle('data/yelp_ratings.pkl')"
   ]
  },
  {
   "cell_type": "code",
   "execution_count": 270,
   "metadata": {},
   "outputs": [
    {
     "data": {
      "text/plain": [
       "8810"
      ]
     },
     "execution_count": 270,
     "metadata": {},
     "output_type": "execute_result"
    }
   ],
   "source": [
    "len(pd.read_pickle('data/yelp_ratings.pkl'))"
   ]
  },
  {
   "cell_type": "code",
   "execution_count": null,
   "metadata": {},
   "outputs": [],
   "source": []
  }
 ],
 "metadata": {
  "kernelspec": {
   "display_name": "Python 3",
   "language": "python",
   "name": "python3"
  },
  "language_info": {
   "codemirror_mode": {
    "name": "ipython",
    "version": 3
   },
   "file_extension": ".py",
   "mimetype": "text/x-python",
   "name": "python",
   "nbconvert_exporter": "python",
   "pygments_lexer": "ipython3",
   "version": "3.6.4"
  }
 },
 "nbformat": 4,
 "nbformat_minor": 2
}
