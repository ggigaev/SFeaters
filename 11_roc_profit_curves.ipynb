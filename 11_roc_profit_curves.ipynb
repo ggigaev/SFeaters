{
 "cells": [
  {
   "cell_type": "code",
   "execution_count": 3,
   "metadata": {},
   "outputs": [],
   "source": [
    "import numpy as np\n",
    "import pandas as pd\n",
    "from sklearn.linear_model import LogisticRegression\n",
    "from sklearn.ensemble import GradientBoostingRegressor, GradientBoostingClassifier\n",
    "from sklearn.model_selection import train_test_split\n",
    "import matplotlib.pyplot as plt\n",
    "from mpl_toolkits.mplot3d import Axes3D\n",
    "plt.style.use('seaborn-notebook')\n",
    "%matplotlib inline\n",
    "from sklearn.metrics import accuracy_score\n",
    "from sklearn.metrics import confusion_matrix\n",
    "from sklearn.metrics import roc_auc_score\n",
    "from sklearn.metrics import roc_curve\n",
    "import src.scrubbing_develop as scrubbing\n",
    "import src.evaluation_develop as evalu\n",
    "from src.roc import plot_roc"
   ]
  },
  {
   "cell_type": "code",
   "execution_count": 4,
   "metadata": {},
   "outputs": [],
   "source": [
    "df7 = pd.read_pickle('data/sf_inspection_master.pkl')"
   ]
  },
  {
   "cell_type": "code",
   "execution_count": 5,
   "metadata": {},
   "outputs": [],
   "source": [
    "df7.to_pickle('data/sf_inspection.pkl')"
   ]
  },
  {
   "cell_type": "code",
   "execution_count": 6,
   "metadata": {},
   "outputs": [],
   "source": [
    "df8 = pd.read_pickle('data/sf_inspection.pkl')"
   ]
  },
  {
   "cell_type": "markdown",
   "metadata": {},
   "source": [
    "## Find out the total number of restaurants in the SF health inspection report"
   ]
  },
  {
   "cell_type": "code",
   "execution_count": 7,
   "metadata": {},
   "outputs": [
    {
     "data": {
      "text/html": [
       "<div>\n",
       "<style scoped>\n",
       "    .dataframe tbody tr th:only-of-type {\n",
       "        vertical-align: middle;\n",
       "    }\n",
       "\n",
       "    .dataframe tbody tr th {\n",
       "        vertical-align: top;\n",
       "    }\n",
       "\n",
       "    .dataframe thead th {\n",
       "        text-align: right;\n",
       "    }\n",
       "</style>\n",
       "<table border=\"1\" class=\"dataframe\">\n",
       "  <thead>\n",
       "    <tr style=\"text-align: right;\">\n",
       "      <th></th>\n",
       "      <th>business_id</th>\n",
       "      <th>business_name</th>\n",
       "      <th>business_address</th>\n",
       "      <th>business_city</th>\n",
       "      <th>business_state</th>\n",
       "      <th>business_postal_code</th>\n",
       "      <th>business_latitude</th>\n",
       "      <th>business_longitude</th>\n",
       "      <th>business_location</th>\n",
       "      <th>business_phone_number</th>\n",
       "      <th>...</th>\n",
       "      <th>94133</th>\n",
       "      <th>94134</th>\n",
       "      <th>94143</th>\n",
       "      <th>94158</th>\n",
       "      <th>95105</th>\n",
       "      <th>p7_36</th>\n",
       "      <th>rating</th>\n",
       "      <th>price</th>\n",
       "      <th>longitude_round</th>\n",
       "      <th>latitude_round</th>\n",
       "    </tr>\n",
       "  </thead>\n",
       "  <tbody>\n",
       "    <tr>\n",
       "      <th>0</th>\n",
       "      <td>1757</td>\n",
       "      <td>Dar Bar Pakistani/Indian Cusine</td>\n",
       "      <td>1412 Polk St</td>\n",
       "      <td>San Francisco</td>\n",
       "      <td>CA</td>\n",
       "      <td>94109</td>\n",
       "      <td>37.789784</td>\n",
       "      <td>-122.420455</td>\n",
       "      <td>(37.789784, -122.420455)</td>\n",
       "      <td>NaN</td>\n",
       "      <td>...</td>\n",
       "      <td>0</td>\n",
       "      <td>0</td>\n",
       "      <td>0</td>\n",
       "      <td>0</td>\n",
       "      <td>0</td>\n",
       "      <td>16</td>\n",
       "      <td>3.687796</td>\n",
       "      <td>1.772778</td>\n",
       "      <td>-122.42</td>\n",
       "      <td>37.79</td>\n",
       "    </tr>\n",
       "  </tbody>\n",
       "</table>\n",
       "<p>1 rows × 70 columns</p>\n",
       "</div>"
      ],
      "text/plain": [
       "   business_id                    business_name business_address  \\\n",
       "0         1757  Dar Bar Pakistani/Indian Cusine     1412 Polk St   \n",
       "\n",
       "   business_city business_state business_postal_code  business_latitude  \\\n",
       "0  San Francisco             CA                94109          37.789784   \n",
       "\n",
       "   business_longitude         business_location  business_phone_number  \\\n",
       "0         -122.420455  (37.789784, -122.420455)                    NaN   \n",
       "\n",
       "        ...       94133 94134  94143 94158 95105 p7_36    rating     price  \\\n",
       "0       ...           0     0      0     0     0    16  3.687796  1.772778   \n",
       "\n",
       "  longitude_round  latitude_round  \n",
       "0         -122.42           37.79  \n",
       "\n",
       "[1 rows x 70 columns]"
      ]
     },
     "execution_count": 7,
     "metadata": {},
     "output_type": "execute_result"
    }
   ],
   "source": [
    "df7.head(1)"
   ]
  },
  {
   "cell_type": "code",
   "execution_count": 8,
   "metadata": {},
   "outputs": [],
   "source": [
    "f1034 = df7['business_address'].unique()"
   ]
  },
  {
   "cell_type": "code",
   "execution_count": 9,
   "metadata": {},
   "outputs": [
    {
     "data": {
      "text/plain": [
       "4533"
      ]
     },
     "execution_count": 9,
     "metadata": {},
     "output_type": "execute_result"
    }
   ],
   "source": [
    "len(list(f1034))"
   ]
  },
  {
   "cell_type": "markdown",
   "metadata": {},
   "source": [
    "## Import clean data from pickle"
   ]
  },
  {
   "cell_type": "code",
   "execution_count": 10,
   "metadata": {},
   "outputs": [],
   "source": [
    "df8 = pd.read_pickle('data/sf_inspection2.pkl')"
   ]
  },
  {
   "cell_type": "markdown",
   "metadata": {},
   "source": [
    "## Modeling: logistic regression and gradient boosting"
   ]
  },
  {
   "cell_type": "code",
   "execution_count": 11,
   "metadata": {},
   "outputs": [],
   "source": [
    "y = df8['y_label']\n",
    "X = df8[['p7_9', 'p10_12', 'p13_18', 'p19_24', 'p25_36', '94013', '94014', '94080', '94101', '94102', '94103', '94104',\n",
    "       '94105', '94107', '94108', '94109', '94110', '94111', '94112', '94114',\n",
    "       '94115', '94116', '94117', '94118', '94120', '94121', '94122', '94123',\n",
    "       '94124', '94127', '94129', '94130', '94131', '94132', '94133', '94134',\n",
    "       '94143', '94158']]"
   ]
  },
  {
   "cell_type": "code",
   "execution_count": 12,
   "metadata": {},
   "outputs": [],
   "source": [
    "X_tr, X_test, y_tr, y_test = train_test_split(X, y, test_size=0.25, random_state=38)"
   ]
  },
  {
   "cell_type": "markdown",
   "metadata": {},
   "source": [
    "### Let's stash X_test and y_test away for only test set purpose. Split X_train and y_train again for train and validation."
   ]
  },
  {
   "cell_type": "code",
   "execution_count": 13,
   "metadata": {},
   "outputs": [],
   "source": [
    "X_train, X_validation, y_train, y_validation = train_test_split(X_tr, y_tr, test_size=0.25, random_state=28)"
   ]
  },
  {
   "cell_type": "code",
   "execution_count": 14,
   "metadata": {},
   "outputs": [
    {
     "data": {
      "text/plain": [
       "LogisticRegression(C=1.0, class_weight=None, dual=False, fit_intercept=True,\n",
       "          intercept_scaling=1, max_iter=100, multi_class='ovr', n_jobs=1,\n",
       "          penalty='l2', random_state=None, solver='liblinear', tol=0.0001,\n",
       "          verbose=0, warm_start=False)"
      ]
     },
     "execution_count": 14,
     "metadata": {},
     "output_type": "execute_result"
    }
   ],
   "source": [
    "log_model = LogisticRegression()\n",
    "log_model.fit(X_train,y_train)"
   ]
  },
  {
   "cell_type": "code",
   "execution_count": 15,
   "metadata": {},
   "outputs": [
    {
     "data": {
      "text/plain": [
       "array([[-0.40518605, -0.24633135,  0.07590432,  0.18925423,  0.11127685,\n",
       "         0.        ,  0.08676416,  0.        ,  0.        , -0.3891833 ,\n",
       "         0.45053804,  1.14957605, -0.11758996, -0.73413507, -0.06419537,\n",
       "         1.13403706,  1.37134309, -0.20583216, -0.01628042,  0.75256999,\n",
       "        -0.79661287,  0.62498681, -0.0849984 ,  0.00966387, -0.30427112,\n",
       "        -0.07869748,  0.55801264,  1.80633784, -0.39766452,  0.49712313,\n",
       "        -0.29723071, -0.31138788, -0.04337178,  0.537783  ,  0.4749317 ,\n",
       "         0.40737264,  0.        , -0.9495466 ]])"
      ]
     },
     "execution_count": 15,
     "metadata": {},
     "output_type": "execute_result"
    }
   ],
   "source": [
    "log_model.coef_"
   ]
  },
  {
   "cell_type": "code",
   "execution_count": 16,
   "metadata": {},
   "outputs": [
    {
     "data": {
      "text/plain": [
       "array([-0.78708681])"
      ]
     },
     "execution_count": 16,
     "metadata": {},
     "output_type": "execute_result"
    }
   ],
   "source": [
    "log_model.intercept_"
   ]
  },
  {
   "cell_type": "code",
   "execution_count": 17,
   "metadata": {},
   "outputs": [
    {
     "data": {
      "text/plain": [
       "0.6895424836601307"
      ]
     },
     "execution_count": 17,
     "metadata": {},
     "output_type": "execute_result"
    }
   ],
   "source": [
    "log_model.score(X_validation, y_validation)"
   ]
  },
  {
   "cell_type": "markdown",
   "metadata": {},
   "source": [
    "# Gradient Boosting Model"
   ]
  },
  {
   "cell_type": "code",
   "execution_count": 18,
   "metadata": {},
   "outputs": [
    {
     "name": "stdout",
     "output_type": "stream",
     "text": [
      "Learning rate:  0.05\n",
      "Accuracy score (training): 0.575\n",
      "Accuracy score (validation): 0.614\n",
      "Learning rate:  0.1\n",
      "Accuracy score (training): 0.599\n",
      "Accuracy score (validation): 0.623\n",
      "Learning rate:  0.25\n",
      "Accuracy score (training): 0.666\n",
      "Accuracy score (validation): 0.675\n",
      "Learning rate:  0.5\n",
      "Accuracy score (training): 0.697\n",
      "Accuracy score (validation): 0.698\n",
      "Learning rate:  0.75\n",
      "Accuracy score (training): 0.697\n",
      "Accuracy score (validation): 0.693\n",
      "Learning rate:  1\n",
      "Accuracy score (training): 0.692\n",
      "Accuracy score (validation): 0.690\n"
     ]
    }
   ],
   "source": [
    "learning_rates = [0.05, 0.1, 0.25, 0.5, 0.75, 1]\n",
    "for learning_rate in learning_rates:\n",
    "    gb = GradientBoostingClassifier(n_estimators=20, learning_rate = learning_rate, max_features=2, max_depth = 2, random_state = 0)\n",
    "    gb.fit(X_train, y_train)\n",
    "    print(\"Learning rate: \", learning_rate)\n",
    "    print(\"Accuracy score (training): {0:.3f}\".format(gb.score(X_train, y_train)))\n",
    "    print(\"Accuracy score (validation): {0:.3f}\".format(gb.score(X_validation, y_validation)))"
   ]
  },
  {
   "cell_type": "code",
   "execution_count": 19,
   "metadata": {},
   "outputs": [
    {
     "name": "stdout",
     "output_type": "stream",
     "text": [
      "Accuracy score (training): 0.697\n",
      "Accuracy score (validation): 0.693\n"
     ]
    }
   ],
   "source": [
    "# Let's use learning rate of 0.75\n",
    "gb = GradientBoostingClassifier(n_estimators=20, learning_rate = 0.75, max_features=2, max_depth = 2, random_state = 0)\n",
    "gb.fit(X_train, y_train)\n",
    "print(\"Accuracy score (training): {0:.3f}\".format(gb.score(X_train, y_train)))\n",
    "print(\"Accuracy score (validation): {0:.3f}\".format(gb.score(X_validation, y_validation)))\n",
    "# The \"validation\" here is a correct term. It is not a \"test\" set."
   ]
  },
  {
   "cell_type": "markdown",
   "metadata": {},
   "source": [
    "### Cofusion matrix"
   ]
  },
  {
   "cell_type": "code",
   "execution_count": 20,
   "metadata": {},
   "outputs": [],
   "source": [
    "y_predictions = gb.predict(X_test)"
   ]
  },
  {
   "cell_type": "code",
   "execution_count": 21,
   "metadata": {},
   "outputs": [],
   "source": [
    "tn, fp, fn, tp = confusion_matrix(y_test, y_predictions).ravel()"
   ]
  },
  {
   "cell_type": "code",
   "execution_count": 22,
   "metadata": {},
   "outputs": [
    {
     "name": "stdout",
     "output_type": "stream",
     "text": [
      "True Negative: 540\n",
      "True Positive: 314\n",
      "False Negative: 230\n",
      "False Positive: 141\n"
     ]
    }
   ],
   "source": [
    "print(\"True Negative: {}\".format(tn))\n",
    "print(\"True Positive: {}\".format(tp))\n",
    "print(\"False Negative: {}\".format(fn))\n",
    "print(\"False Positive: {}\".format(fp))"
   ]
  },
  {
   "cell_type": "code",
   "execution_count": 23,
   "metadata": {},
   "outputs": [],
   "source": [
    "#y = int(y.values == True)\n",
    "ay = y[:]\n",
    "ay = 1*y.values"
   ]
  },
  {
   "cell_type": "code",
   "execution_count": 24,
   "metadata": {},
   "outputs": [
    {
     "data": {
      "image/png": "[encoded data removed]",
      "text/plain": [
       "<matplotlib.figure.Figure at 0x7f5de80735c0>"
      ]
     },
     "metadata": {},
     "output_type": "display_data"
    },
    {
     "data": {
      "image/png": "[encoded data removed]",
      "text/plain": [
       "<matplotlib.figure.Figure at 0x7f5db9ac80b8>"
      ]
     },
     "metadata": {},
     "output_type": "display_data"
    },
    {
     "name": "stdout",
     "output_type": "stream",
     "text": [
      "\n",
      "Plotting completed.\n"
     ]
    }
   ],
   "source": [
    "plot_roc(X, ay, LogisticRegression)\n",
    "plot_roc(X, ay, GradientBoostingClassifier)\n",
    "# plot_roc(X, y, MultinomialNB) error\n",
    "print('\\nPlotting completed.')"
   ]
  },
  {
   "cell_type": "markdown",
   "metadata": {},
   "source": [
    "### Plotting Methods"
   ]
  },
  {
   "cell_type": "code",
   "execution_count": 25,
   "metadata": {},
   "outputs": [],
   "source": [
    "def plot_roc(y_test, X_test, model, model_name):\n",
    "    AUC = roc_auc_score(y_test, gb.predict_proba(X_test)[:,1])\n",
    "    fpr, tpr, thresholds = roc_curve(y_test, gb.predict_proba(X_test)[:,1])\n",
    "    \n",
    "    plt.figure()\n",
    "    lw = 2\n",
    "    plt.plot(fpr, tpr, color='darkorange', lw=lw, label='ROC curve (area = %0.2f)' % AUC)\n",
    "    plt.plot([0, 1], [0, 1], color='navy', lw=lw, linestyle='--')\n",
    "    plt.xlim([0.0, 1.0])\n",
    "    plt.ylim([0.0, 1.05])\n",
    "    plt.xlabel('False Positive Rate')\n",
    "    plt.ylabel('True Positive Rate')\n",
    "    plt.title('Receiver operating characteristic {}'.format(model_name))\n",
    "    plt.legend(loc=\"lower right\");"
   ]
  },
  {
   "cell_type": "code",
   "execution_count": 26,
   "metadata": {},
   "outputs": [],
   "source": [
    "def plot_profit_curve(scoring, profit_matrix, num_points=100):\n",
    "    x_threshold, y_profit = scoring.profit_curve(num_points=num_points, profit_matrix=profit_matrix)\n",
    "    \n",
    "    fig, ax = plt.subplots()\n",
    "    ax.plot(x_threshold, y_profit)\n",
    "    \n",
    "    ymax = max(y_profit)\n",
    "    xpos = y_profit.index(ymax)\n",
    "    xmax = x_threshold[xpos]\n",
    "    \n",
    "    text= \"x={:.3f}, y={:.3f}\".format(xmax, ymax)\n",
    "    bbox_props = dict(boxstyle=\"square,pad=0.3\", fc=\"w\", ec=\"k\", lw=0.72)\n",
    "    arrowprops=dict(arrowstyle=\"->\",connectionstyle=\"angle,angleA=180,angleB=60\")\n",
    "    kw = dict(xycoords='data',textcoords=\"axes fraction\", arrowprops=arrowprops, bbox=bbox_props, ha=\"right\", va=\"top\")\n",
    "    ax.annotate(text, xy=(xmax, ymax), xytext=(0.94,0.96), **kw)\n",
    "    #ax.set_ylim(min(y_profit), ymax*2)\n",
    "    ax.set_ylim(min(y_profit), ymax*1.7)\n",
    "    ax.set_xlabel('Threshold For Predicting Inspection Fail')\n",
    "    ax.set_ylabel('Profit')\n",
    "    ax.set_title('Profit Curve')\n",
    "    plt.show()"
   ]
  },
  {
   "cell_type": "markdown",
   "metadata": {},
   "source": [
    "## Profit curve"
   ]
  },
  {
   "cell_type": "code",
   "execution_count": 27,
   "metadata": {},
   "outputs": [
    {
     "name": "stdout",
     "output_type": "stream",
     "text": [
      "Accuracy: 0.6971428571428572\n",
      "Precision 0.6901098901098901\n",
      "Recall 0.5772058823529411\n",
      "F1 0.6286286286286286\n"
     ]
    }
   ],
   "source": [
    "scoring = evalu.Scores(model=gb, X_test=X_test, y_test=y_test)\n",
    "scoring.scores()"
   ]
  },
  {
   "cell_type": "code",
   "execution_count": 28,
   "metadata": {},
   "outputs": [],
   "source": [
    "# customer, investment on facility/training, fine by the city\n",
    "investment = 40  # equipment replacement and employee training\n",
    "fine = 80   # penalty by the city \n",
    "\n",
    "false_pos = (-1)*investment\n",
    "true_pos  = fine - investment\n",
    "false_neg = 0\n",
    "true_neg  = 0\n",
    "\n",
    "profit_matrix = [[true_neg, false_pos],[false_neg, true_pos]]"
   ]
  },
  {
   "cell_type": "code",
   "execution_count": 29,
   "metadata": {},
   "outputs": [
    {
     "data": {
      "image/png": "[encoded data removed]",
      "text/plain": [
       "<matplotlib.figure.Figure at 0x7f5db15744e0>"
      ]
     },
     "metadata": {},
     "output_type": "display_data"
    }
   ],
   "source": [
    "plot_profit_curve(scoring, profit_matrix, num_points=100)"
   ]
  },
  {
   "cell_type": "code",
   "execution_count": null,
   "metadata": {},
   "outputs": [],
   "source": []
  },
  {
   "cell_type": "code",
   "execution_count": null,
   "metadata": {},
   "outputs": [],
   "source": []
  },
  {
   "cell_type": "code",
   "execution_count": null,
   "metadata": {},
   "outputs": [],
   "source": []
  }
 ],
 "metadata": {
  "kernelspec": {
   "display_name": "Python 3",
   "language": "python",
   "name": "python3"
  },
  "language_info": {
   "codemirror_mode": {
    "name": "ipython",
    "version": 3
   },
   "file_extension": ".py",
   "mimetype": "text/x-python",
   "name": "python",
   "nbconvert_exporter": "python",
   "pygments_lexer": "ipython3",
   "version": "3.6.4"
  }
 },
 "nbformat": 4,
 "nbformat_minor": 2
}
