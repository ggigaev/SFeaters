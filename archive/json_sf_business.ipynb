{
 "cells": [
  {
   "cell_type": "code",
   "execution_count": 2,
   "metadata": {},
   "outputs": [],
   "source": [
    "import requests\n",
    "import json\n",
    "from pymongo import MongoClient\n",
    "import pandas as pd\n",
    "import numpy as np\n",
    "import matplotlib.pyplot as plt"
   ]
  },
  {
   "cell_type": "code",
   "execution_count": 3,
   "metadata": {},
   "outputs": [],
   "source": [
    "# connect to database\n",
    "client = MongoClient('mongodb://localhost:27017')"
   ]
  },
  {
   "cell_type": "code",
   "execution_count": 4,
   "metadata": {},
   "outputs": [],
   "source": [
    "text = requests.get(\n",
    "    'https://data.sfgov.org/resource/vbiu-2p9h.json', params = {\n",
    "    '$$app_token': 'BWMtkkWRa5zcIXSe00oiDeF7R',\n",
    "    '$limit': 100000000}).text"
   ]
  },
  {
   "cell_type": "code",
   "execution_count": 5,
   "metadata": {},
   "outputs": [],
   "source": [
    "# turn json into a dict\n",
    "data = json.loads(text)"
   ]
  },
  {
   "cell_type": "code",
   "execution_count": 6,
   "metadata": {},
   "outputs": [],
   "source": [
    "# create a database and a collection\n",
    "business = client.sf_business.business"
   ]
  },
  {
   "cell_type": "code",
   "execution_count": 26,
   "metadata": {},
   "outputs": [
    {
     "data": {
      "text/plain": [
       "{'_id': ObjectId('5acdbf5f472f9712acd34854'),\n",
       " 'business_zip': '94608',\n",
       " 'certificate_number': '1063991',\n",
       " 'city': 'Emeryville',\n",
       " 'dba_name': 'Smart Building Inc',\n",
       " 'dba_start_date': '2017-01-15T00:00:00.000',\n",
       " 'full_business_address': '5801 Christie Ave #475',\n",
       " 'location_start_date': '2017-01-15T00:00:00.000',\n",
       " 'mail_city': 'Oakland',\n",
       " 'mail_state': 'CA',\n",
       " 'mail_zipcode': '94604',\n",
       " 'mailing_address_1': 'Po Box 29046',\n",
       " 'naic_code': '2300-2399',\n",
       " 'naic_code_description': 'Construction',\n",
       " 'ownership_name': 'Smart Building Inc',\n",
       " 'parking_tax': False,\n",
       " 'state': 'CA',\n",
       " 'transient_occupancy_tax': False,\n",
       " 'ttxid': '1133278-01-171'}"
      ]
     },
     "execution_count": 26,
     "metadata": {},
     "output_type": "execute_result"
    }
   ],
   "source": [
    "business.find_one()"
   ]
  },
  {
   "cell_type": "code",
   "execution_count": 22,
   "metadata": {},
   "outputs": [],
   "source": [
    "# insert the flight data into the database\n",
    "#business.insert_many(data)"
   ]
  },
  {
   "cell_type": "code",
   "execution_count": 29,
   "metadata": {},
   "outputs": [
    {
     "data": {
      "text/plain": [
       "['Construction',\n",
       " 'Private Education and Health Services',\n",
       " 'Food Services',\n",
       " 'Real Estate and Rental and Leasing Services',\n",
       " 'Professional, Scientific, and Technical Services',\n",
       " 'Administrative and Support Services',\n",
       " 'Wholesale Trade',\n",
       " 'Multiple',\n",
       " 'Retail Trade',\n",
       " 'Arts, Entertainment, and Recreation',\n",
       " 'Transportation and Warehousing',\n",
       " 'Accommodations',\n",
       " 'Manufacturing',\n",
       " 'Information',\n",
       " 'Certain Services',\n",
       " 'Financial Services',\n",
       " 'Insurance',\n",
       " 'Utilities']"
      ]
     },
     "execution_count": 29,
     "metadata": {},
     "output_type": "execute_result"
    }
   ],
   "source": [
    "business.distinct('naic_code_description')"
   ]
  },
  {
   "cell_type": "code",
   "execution_count": null,
   "metadata": {},
   "outputs": [],
   "source": []
  },
  {
   "cell_type": "code",
   "execution_count": null,
   "metadata": {},
   "outputs": [],
   "source": []
  }
 ],
 "metadata": {
  "kernelspec": {
   "display_name": "Python 3",
   "language": "python",
   "name": "python3"
  },
  "language_info": {
   "codemirror_mode": {
    "name": "ipython",
    "version": 3
   },
   "file_extension": ".py",
   "mimetype": "text/x-python",
   "name": "python",
   "nbconvert_exporter": "python",
   "pygments_lexer": "ipython3",
   "version": "3.6.4"
  }
 },
 "nbformat": 4,
 "nbformat_minor": 2
}
