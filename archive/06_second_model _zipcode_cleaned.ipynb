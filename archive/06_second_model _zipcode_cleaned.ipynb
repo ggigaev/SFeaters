{
 "cells": [
  {
   "cell_type": "code",
   "execution_count": 1,
   "metadata": {},
   "outputs": [],
   "source": [
    "import numpy as np\n",
    "import pandas as pd\n",
    "from sklearn.linear_model import LogisticRegression\n",
    "from sklearn.ensemble import GradientBoostingRegressor, GradientBoostingClassifier\n",
    "from sklearn.model_selection import train_test_split\n",
    "import matplotlib.pyplot as plt\n",
    "from mpl_toolkits.mplot3d import Axes3D\n",
    "plt.style.use('seaborn-notebook')\n",
    "%matplotlib inline"
   ]
  },
  {
   "cell_type": "code",
   "execution_count": 2,
   "metadata": {},
   "outputs": [],
   "source": [
    "df = pd.read_csv('data/data_zipcode_cleaned_0423.csv')"
   ]
  },
  {
   "cell_type": "code",
   "execution_count": 3,
   "metadata": {},
   "outputs": [],
   "source": [
    "# Using 9 months period as y label\n",
    "df['y_label'] = (df['p1_3'] + df['p4_6'] + df['p7_9']) > 0"
   ]
  },
  {
   "cell_type": "markdown",
   "metadata": {},
   "source": [
    "# Make dummies for zipcodes"
   ]
  },
  {
   "cell_type": "code",
   "execution_count": 4,
   "metadata": {},
   "outputs": [],
   "source": [
    "#pd.get_dummies(df['business_postal_code'])"
   ]
  },
  {
   "cell_type": "code",
   "execution_count": 5,
   "metadata": {},
   "outputs": [
    {
     "data": {
      "text/plain": [
       "Index(['Unnamed: 0', 'Unnamed: 0.1', 'Unnamed: 0.1.1', 'business_id',\n",
       "       'business_name', 'business_address', 'business_city', 'business_state',\n",
       "       'business_postal_code', 'business_latitude', 'business_longitude',\n",
       "       'business_location', 'business_phone_number', 'inspection_id',\n",
       "       'inspection_date', 'inspection_score', 'inspection_type',\n",
       "       'violation_id', 'violation_description', 'risk_category',\n",
       "       'short_inspect_date', 'short_violation_id', 'inspect_date', 'p1_3',\n",
       "       'p4_6', 'p7_9', 'p10_12', 'p13_18', 'p19_24', 'p25_36', 'y_label'],\n",
       "      dtype='object')"
      ]
     },
     "execution_count": 5,
     "metadata": {},
     "output_type": "execute_result"
    }
   ],
   "source": [
    "df.columns"
   ]
  },
  {
   "cell_type": "code",
   "execution_count": 40,
   "metadata": {},
   "outputs": [
    {
     "data": {
      "text/plain": [
       "Index(['Unnamed: 0', 'Unnamed: 0.1', 'Unnamed: 0.1.1', 'business_id',\n",
       "       'business_name', 'business_address', 'business_city', 'business_state',\n",
       "       'business_postal_code', 'business_latitude',\n",
       "       ...\n",
       "       '94129', '94130', '94131', '94132', '94133', '94134', '94143', '94158',\n",
       "       '95105', 'zzzzz'],\n",
       "      dtype='object', length=103)"
      ]
     },
     "execution_count": 40,
     "metadata": {},
     "output_type": "execute_result"
    }
   ],
   "source": [
    "df = pd.concat([df, pd.get_dummies(df['business_postal_code'])], axis=1)\n",
    "df.columns"
   ]
  },
  {
   "cell_type": "code",
   "execution_count": 7,
   "metadata": {},
   "outputs": [],
   "source": [
    "df2 = df.drop(['zzzzz'], axis=1)"
   ]
  },
  {
   "cell_type": "code",
   "execution_count": 8,
   "metadata": {},
   "outputs": [
    {
     "data": {
      "text/plain": [
       "Index(['Unnamed: 0', 'Unnamed: 0.1', 'Unnamed: 0.1.1', 'business_id',\n",
       "       'business_name', 'business_address', 'business_city', 'business_state',\n",
       "       'business_postal_code', 'business_latitude', 'business_longitude',\n",
       "       'business_location', 'business_phone_number', 'inspection_id',\n",
       "       'inspection_date', 'inspection_score', 'inspection_type',\n",
       "       'violation_id', 'violation_description', 'risk_category',\n",
       "       'short_inspect_date', 'short_violation_id', 'inspect_date', 'p1_3',\n",
       "       'p4_6', 'p7_9', 'p10_12', 'p13_18', 'p19_24', 'p25_36', 'y_label',\n",
       "       '92672', '94013', '94014', '94080', '94101', '94102', '94103', '94104',\n",
       "       '94105', '94107', '94108', '94109', '94110', '94111', '94112', '94114',\n",
       "       '94115', '94116', '94117', '94118', '94120', '94121', '94122', '94123',\n",
       "       '94124', '94127', '94129', '94130', '94131', '94132', '94133', '94134',\n",
       "       '94143', '94158', '95105'],\n",
       "      dtype='object')"
      ]
     },
     "execution_count": 8,
     "metadata": {},
     "output_type": "execute_result"
    }
   ],
   "source": [
    "df2.columns"
   ]
  },
  {
   "cell_type": "code",
   "execution_count": 12,
   "metadata": {},
   "outputs": [
    {
     "data": {
      "text/plain": [
       "array(['Unnamed: 0', 'Unnamed: 0.1', 'Unnamed: 0.1.1', 'business_id',\n",
       "       'business_name', 'business_address', 'business_city',\n",
       "       'business_state', 'business_postal_code', 'business_latitude',\n",
       "       'business_longitude', 'business_location', 'business_phone_number',\n",
       "       'inspection_id', 'inspection_date', 'inspection_score',\n",
       "       'inspection_type', 'violation_id', 'violation_description',\n",
       "       'risk_category', 'short_inspect_date', 'short_violation_id',\n",
       "       'inspect_date', 'p1_3', 'p4_6', 'p7_9', 'p10_12', 'p13_18',\n",
       "       'p19_24', 'p25_36', 'y_label', '92672', '94013', '94014', '94080',\n",
       "       '94101', '94102', '94103', '94104', '94105', '94107', '94108',\n",
       "       '94109', '94110', '94111', '94112', '94114', '94115', '94116',\n",
       "       '94117', '94118', '94120', '94121', '94122', '94123', '94124',\n",
       "       '94127', '94129', '94130', '94131', '94132', '94133', '94134',\n",
       "       '94143', '94158', '95105'], dtype=object)"
      ]
     },
     "execution_count": 12,
     "metadata": {},
     "output_type": "execute_result"
    }
   ],
   "source": [
    "df2.columns.values"
   ]
  },
  {
   "cell_type": "code",
   "execution_count": 25,
   "metadata": {},
   "outputs": [],
   "source": [
    "# create a text file with column names, so that they can be used for feature \n",
    "# selection. Remove 95105 and 92672, which do not belong to SF.\n",
    "s = ''\n",
    "for i in df2.columns.values:\n",
    "    s += i + ', '"
   ]
  },
  {
   "cell_type": "code",
   "execution_count": 26,
   "metadata": {},
   "outputs": [],
   "source": [
    "with open('data/col_names.txt', 'w') as f:\n",
    "    f.write(s)"
   ]
  },
  {
   "cell_type": "code",
   "execution_count": 42,
   "metadata": {},
   "outputs": [],
   "source": [
    "y = df2['y_label']\n",
    "X = df2[['p10_12', 'p13_18', 'p19_24', 'p25_36', '94013', '94014', '94080', '94101', '94102', '94103', '94104',\n",
    "       '94105', '94107', '94108', '94109', '94110', '94111', '94112', '94114',\n",
    "       '94115', '94116', '94117', '94118', '94120', '94121', '94122', '94123',\n",
    "       '94124', '94127', '94129', '94130', '94131', '94132', '94133', '94134',\n",
    "       '94143', '94158']]"
   ]
  },
  {
   "cell_type": "code",
   "execution_count": 43,
   "metadata": {},
   "outputs": [],
   "source": [
    "X_tr, X_test, y_tr, y_test = train_test_split(X, y, test_size=0.25, random_state=38)"
   ]
  },
  {
   "cell_type": "markdown",
   "metadata": {},
   "source": [
    "## Let's stash X_test and y_test away for only test set purpose. Split X_train and y_train again for train and validation."
   ]
  },
  {
   "cell_type": "code",
   "execution_count": 44,
   "metadata": {},
   "outputs": [],
   "source": [
    "X_train, X_validation, y_train, y_validation = train_test_split(X_tr, y_tr, test_size=0.25, random_state=28)"
   ]
  },
  {
   "cell_type": "code",
   "execution_count": 45,
   "metadata": {},
   "outputs": [
    {
     "data": {
      "text/plain": [
       "LogisticRegression(C=1.0, class_weight=None, dual=False, fit_intercept=True,\n",
       "          intercept_scaling=1, max_iter=100, multi_class='ovr', n_jobs=1,\n",
       "          penalty='l2', random_state=None, solver='liblinear', tol=0.0001,\n",
       "          verbose=0, warm_start=False)"
      ]
     },
     "execution_count": 45,
     "metadata": {},
     "output_type": "execute_result"
    }
   ],
   "source": [
    "log_model = LogisticRegression()\n",
    "log_model.fit(X_train,y_train)"
   ]
  },
  {
   "cell_type": "code",
   "execution_count": 46,
   "metadata": {},
   "outputs": [
    {
     "data": {
      "text/plain": [
       "array([[-0.43839924, -0.07915832,  0.13217221,  0.01327126,  0.        ,\n",
       "        -0.4607488 ,  0.36312195,  0.42414452,  0.03396266,  0.46095747,\n",
       "         1.41283528,  0.12920134, -0.20170406,  0.07326997,  0.72164796,\n",
       "         1.92400157, -0.11243817,  0.55662967,  0.85845043, -1.1790387 ,\n",
       "        -0.13737307, -0.2332825 ,  0.49191878, -0.41121283,  0.28387545,\n",
       "         0.88415598,  1.54680027, -0.06004234,  0.17983336, -0.4449442 ,\n",
       "        -0.69428182,  0.67522965,  1.27355397,  0.44143793,  0.60578207,\n",
       "         0.78705684, -0.93323218]])"
      ]
     },
     "execution_count": 46,
     "metadata": {},
     "output_type": "execute_result"
    }
   ],
   "source": [
    "log_model.coef_"
   ]
  },
  {
   "cell_type": "code",
   "execution_count": 47,
   "metadata": {},
   "outputs": [
    {
     "data": {
      "text/plain": [
       "array([0.19493948])"
      ]
     },
     "execution_count": 47,
     "metadata": {},
     "output_type": "execute_result"
    }
   ],
   "source": [
    "log_model.intercept_"
   ]
  },
  {
   "cell_type": "code",
   "execution_count": 48,
   "metadata": {},
   "outputs": [],
   "source": [
    "#log_model.predict(X_validation)"
   ]
  },
  {
   "cell_type": "code",
   "execution_count": 49,
   "metadata": {},
   "outputs": [
    {
     "data": {
      "text/plain": [
       "0.6901121304791029"
      ]
     },
     "execution_count": 49,
     "metadata": {},
     "output_type": "execute_result"
    }
   ],
   "source": [
    "log_model.score(X_validation, y_validation)"
   ]
  },
  {
   "cell_type": "markdown",
   "metadata": {},
   "source": [
    "## Find out if my data set is unbalanced or not"
   ]
  },
  {
   "cell_type": "code",
   "execution_count": 50,
   "metadata": {},
   "outputs": [
    {
     "data": {
      "text/plain": [
       "True     3310\n",
       "False    1919\n",
       "Name: y_label, dtype: int64"
      ]
     },
     "execution_count": 50,
     "metadata": {},
     "output_type": "execute_result"
    }
   ],
   "source": [
    "y.value_counts()"
   ]
  },
  {
   "cell_type": "code",
   "execution_count": 51,
   "metadata": {},
   "outputs": [],
   "source": [
    "num_true = y.value_counts()[True]\n",
    "num_false = y.value_counts()[False]"
   ]
  },
  {
   "cell_type": "code",
   "execution_count": 52,
   "metadata": {},
   "outputs": [
    {
     "data": {
      "text/plain": [
       "0.6330082233696691"
      ]
     },
     "execution_count": 52,
     "metadata": {},
     "output_type": "execute_result"
    }
   ],
   "source": [
    "True_rate = num_true/(num_true + num_false)\n",
    "True_rate"
   ]
  },
  {
   "cell_type": "markdown",
   "metadata": {},
   "source": [
    "## Gradient Boosting Model"
   ]
  },
  {
   "cell_type": "code",
   "execution_count": 53,
   "metadata": {},
   "outputs": [
    {
     "name": "stdout",
     "output_type": "stream",
     "text": [
      "Learning rate:  0.05\n",
      "Accuracy score (training): 0.628\n",
      "Accuracy score (validation): 0.626\n",
      "Learning rate:  0.1\n",
      "Accuracy score (training): 0.645\n",
      "Accuracy score (validation): 0.639\n",
      "Learning rate:  0.25\n",
      "Accuracy score (training): 0.706\n",
      "Accuracy score (validation): 0.683\n",
      "Learning rate:  0.5\n",
      "Accuracy score (training): 0.709\n",
      "Accuracy score (validation): 0.700\n",
      "Learning rate:  0.75\n",
      "Accuracy score (training): 0.719\n",
      "Accuracy score (validation): 0.712\n",
      "Learning rate:  1\n",
      "Accuracy score (training): 0.716\n",
      "Accuracy score (validation): 0.715\n"
     ]
    }
   ],
   "source": [
    "learning_rates = [0.05, 0.1, 0.25, 0.5, 0.75, 1]\n",
    "for learning_rate in learning_rates:\n",
    "    gb = GradientBoostingClassifier(n_estimators=20, learning_rate = learning_rate, max_features=2, max_depth = 2, random_state = 0)\n",
    "    gb.fit(X_train, y_train)\n",
    "    print(\"Learning rate: \", learning_rate)\n",
    "    print(\"Accuracy score (training): {0:.3f}\".format(gb.score(X_train, y_train)))\n",
    "    print(\"Accuracy score (validation): {0:.3f}\".format(gb.score(X_validation, y_validation)))"
   ]
  },
  {
   "cell_type": "code",
   "execution_count": 54,
   "metadata": {},
   "outputs": [
    {
     "name": "stdout",
     "output_type": "stream",
     "text": [
      "Accuracy score (training): 0.719\n",
      "Accuracy score (validation): 0.712\n"
     ]
    }
   ],
   "source": [
    "# Let's use learning rate of 0.75\n",
    "gb = GradientBoostingClassifier(n_estimators=20, learning_rate = 0.75, max_features=2, max_depth = 2, random_state = 0)\n",
    "gb.fit(X_train, y_train)\n",
    "print(\"Accuracy score (training): {0:.3f}\".format(gb.score(X_train, y_train)))\n",
    "print(\"Accuracy score (validation): {0:.3f}\".format(gb.score(X_validation, y_validation)))\n",
    "# The \"validation\" here is a correct term. It is not a \"test\" set."
   ]
  },
  {
   "cell_type": "code",
   "execution_count": null,
   "metadata": {},
   "outputs": [],
   "source": []
  },
  {
   "cell_type": "code",
   "execution_count": null,
   "metadata": {},
   "outputs": [],
   "source": []
  },
  {
   "cell_type": "code",
   "execution_count": null,
   "metadata": {},
   "outputs": [],
   "source": []
  }
 ],
 "metadata": {
  "kernelspec": {
   "display_name": "Python 3",
   "language": "python",
   "name": "python3"
  },
  "language_info": {
   "codemirror_mode": {
    "name": "ipython",
    "version": 3
   },
   "file_extension": ".py",
   "mimetype": "text/x-python",
   "name": "python",
   "nbconvert_exporter": "python",
   "pygments_lexer": "ipython3",
   "version": "3.6.4"
  }
 },
 "nbformat": 4,
 "nbformat_minor": 2
}
