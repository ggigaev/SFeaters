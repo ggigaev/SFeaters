{
 "cells": [
  {
   "cell_type": "code",
   "execution_count": 1,
   "metadata": {},
   "outputs": [],
   "source": [
    "import numpy as np\n",
    "import pandas as pd\n",
    "import csv\n",
    "import geopy\n",
    "from geopy.geocoders import Nominatim\n",
    "from geopy.exc import GeocoderTimedOut"
   ]
  },
  {
   "cell_type": "markdown",
   "metadata": {},
   "source": [
    "## Indetify missing geo coord import ones and create the list of addresses for re-trial"
   ]
  },
  {
   "cell_type": "code",
   "execution_count": 2,
   "metadata": {},
   "outputs": [],
   "source": [
    "df = pd.read_csv('data/first_round_geo_imported.csv')"
   ]
  },
  {
   "cell_type": "code",
   "execution_count": 52,
   "metadata": {},
   "outputs": [
    {
     "data": {
      "text/plain": [
       "5229"
      ]
     },
     "execution_count": 52,
     "metadata": {},
     "output_type": "execute_result"
    }
   ],
   "source": [
    "len(df)"
   ]
  },
  {
   "cell_type": "code",
   "execution_count": 3,
   "metadata": {},
   "outputs": [
    {
     "data": {
      "text/html": [
       "<div>\n",
       "<style scoped>\n",
       "    .dataframe tbody tr th:only-of-type {\n",
       "        vertical-align: middle;\n",
       "    }\n",
       "\n",
       "    .dataframe tbody tr th {\n",
       "        vertical-align: top;\n",
       "    }\n",
       "\n",
       "    .dataframe thead th {\n",
       "        text-align: right;\n",
       "    }\n",
       "</style>\n",
       "<table border=\"1\" class=\"dataframe\">\n",
       "  <thead>\n",
       "    <tr style=\"text-align: right;\">\n",
       "      <th></th>\n",
       "      <th>Unnamed: 0</th>\n",
       "      <th>Unnamed: 0.1</th>\n",
       "      <th>Unnamed: 0.1.1</th>\n",
       "      <th>business_id</th>\n",
       "      <th>business_name</th>\n",
       "      <th>business_address</th>\n",
       "      <th>business_city</th>\n",
       "      <th>business_state</th>\n",
       "      <th>business_postal_code</th>\n",
       "      <th>business_latitude</th>\n",
       "      <th>...</th>\n",
       "      <th>short_inspect_date</th>\n",
       "      <th>short_violation_id</th>\n",
       "      <th>inspect_date</th>\n",
       "      <th>p1_3</th>\n",
       "      <th>p4_6</th>\n",
       "      <th>p7_9</th>\n",
       "      <th>p10_12</th>\n",
       "      <th>p13_18</th>\n",
       "      <th>p19_24</th>\n",
       "      <th>p25_36</th>\n",
       "    </tr>\n",
       "  </thead>\n",
       "  <tbody>\n",
       "    <tr>\n",
       "      <th>0</th>\n",
       "      <td>0</td>\n",
       "      <td>0</td>\n",
       "      <td>0</td>\n",
       "      <td>1757</td>\n",
       "      <td>Dar Bar Pakistani/Indian Cusine</td>\n",
       "      <td>1412 Polk St</td>\n",
       "      <td>San Francisco</td>\n",
       "      <td>CA</td>\n",
       "      <td>94109</td>\n",
       "      <td>37.789784</td>\n",
       "      <td>...</td>\n",
       "      <td>20170928</td>\n",
       "      <td>103131</td>\n",
       "      <td>2017-09-28</td>\n",
       "      <td>0</td>\n",
       "      <td>0</td>\n",
       "      <td>5</td>\n",
       "      <td>0</td>\n",
       "      <td>0</td>\n",
       "      <td>6</td>\n",
       "      <td>5</td>\n",
       "    </tr>\n",
       "    <tr>\n",
       "      <th>1</th>\n",
       "      <td>1</td>\n",
       "      <td>1</td>\n",
       "      <td>1</td>\n",
       "      <td>4864</td>\n",
       "      <td>DRAGON CITY BAKERY &amp; CAFE</td>\n",
       "      <td>2367 MISSION St</td>\n",
       "      <td>San Francisco</td>\n",
       "      <td>CA</td>\n",
       "      <td>94110</td>\n",
       "      <td>37.759174</td>\n",
       "      <td>...</td>\n",
       "      <td>20161206</td>\n",
       "      <td>103157</td>\n",
       "      <td>2016-12-06</td>\n",
       "      <td>0</td>\n",
       "      <td>6</td>\n",
       "      <td>0</td>\n",
       "      <td>0</td>\n",
       "      <td>5</td>\n",
       "      <td>5</td>\n",
       "      <td>3</td>\n",
       "    </tr>\n",
       "    <tr>\n",
       "      <th>2</th>\n",
       "      <td>2</td>\n",
       "      <td>2</td>\n",
       "      <td>2</td>\n",
       "      <td>79782</td>\n",
       "      <td>Deli 23</td>\n",
       "      <td>2449 23rd St</td>\n",
       "      <td>San Francisco</td>\n",
       "      <td>CA</td>\n",
       "      <td>94110</td>\n",
       "      <td>37.754343</td>\n",
       "      <td>...</td>\n",
       "      <td>20160503</td>\n",
       "      <td>103120</td>\n",
       "      <td>2016-05-03</td>\n",
       "      <td>4</td>\n",
       "      <td>0</td>\n",
       "      <td>2</td>\n",
       "      <td>0</td>\n",
       "      <td>3</td>\n",
       "      <td>3</td>\n",
       "      <td>2</td>\n",
       "    </tr>\n",
       "    <tr>\n",
       "      <th>3</th>\n",
       "      <td>3</td>\n",
       "      <td>3</td>\n",
       "      <td>3</td>\n",
       "      <td>73840</td>\n",
       "      <td>L'acajou Bakery and Cafe</td>\n",
       "      <td>498 09th St Ste. C</td>\n",
       "      <td>San Francisco</td>\n",
       "      <td>CA</td>\n",
       "      <td>94103</td>\n",
       "      <td>NaN</td>\n",
       "      <td>...</td>\n",
       "      <td>20171207</td>\n",
       "      <td>103105</td>\n",
       "      <td>2017-12-07</td>\n",
       "      <td>0</td>\n",
       "      <td>5</td>\n",
       "      <td>0</td>\n",
       "      <td>0</td>\n",
       "      <td>6</td>\n",
       "      <td>0</td>\n",
       "      <td>0</td>\n",
       "    </tr>\n",
       "    <tr>\n",
       "      <th>4</th>\n",
       "      <td>4</td>\n",
       "      <td>4</td>\n",
       "      <td>4</td>\n",
       "      <td>76437</td>\n",
       "      <td>Sweetheart Cafe</td>\n",
       "      <td>909 Grant Ave</td>\n",
       "      <td>San Francisco</td>\n",
       "      <td>CA</td>\n",
       "      <td>94108</td>\n",
       "      <td>37.795305</td>\n",
       "      <td>...</td>\n",
       "      <td>20160329</td>\n",
       "      <td>103113</td>\n",
       "      <td>2016-03-29</td>\n",
       "      <td>0</td>\n",
       "      <td>11</td>\n",
       "      <td>0</td>\n",
       "      <td>0</td>\n",
       "      <td>0</td>\n",
       "      <td>6</td>\n",
       "      <td>6</td>\n",
       "    </tr>\n",
       "  </tbody>\n",
       "</table>\n",
       "<p>5 rows × 30 columns</p>\n",
       "</div>"
      ],
      "text/plain": [
       "   Unnamed: 0  Unnamed: 0.1  Unnamed: 0.1.1  business_id  \\\n",
       "0           0             0               0         1757   \n",
       "1           1             1               1         4864   \n",
       "2           2             2               2        79782   \n",
       "3           3             3               3        73840   \n",
       "4           4             4               4        76437   \n",
       "\n",
       "                     business_name    business_address  business_city  \\\n",
       "0  Dar Bar Pakistani/Indian Cusine        1412 Polk St  San Francisco   \n",
       "1        DRAGON CITY BAKERY & CAFE     2367 MISSION St  San Francisco   \n",
       "2                          Deli 23        2449 23rd St  San Francisco   \n",
       "3         L'acajou Bakery and Cafe  498 09th St Ste. C  San Francisco   \n",
       "4                  Sweetheart Cafe       909 Grant Ave  San Francisco   \n",
       "\n",
       "  business_state business_postal_code  business_latitude  ...    \\\n",
       "0             CA                94109          37.789784  ...     \n",
       "1             CA                94110          37.759174  ...     \n",
       "2             CA                94110          37.754343  ...     \n",
       "3             CA                94103                NaN  ...     \n",
       "4             CA                94108          37.795305  ...     \n",
       "\n",
       "   short_inspect_date short_violation_id  inspect_date p1_3 p4_6  p7_9 p10_12  \\\n",
       "0            20170928             103131    2017-09-28    0    0     5      0   \n",
       "1            20161206             103157    2016-12-06    0    6     0      0   \n",
       "2            20160503             103120    2016-05-03    4    0     2      0   \n",
       "3            20171207             103105    2017-12-07    0    5     0      0   \n",
       "4            20160329             103113    2016-03-29    0   11     0      0   \n",
       "\n",
       "  p13_18 p19_24 p25_36  \n",
       "0      0      6      5  \n",
       "1      5      5      3  \n",
       "2      3      3      2  \n",
       "3      6      0      0  \n",
       "4      0      6      6  \n",
       "\n",
       "[5 rows x 30 columns]"
      ]
     },
     "execution_count": 3,
     "metadata": {},
     "output_type": "execute_result"
    }
   ],
   "source": [
    "df.head()"
   ]
  },
  {
   "cell_type": "code",
   "execution_count": 4,
   "metadata": {},
   "outputs": [],
   "source": [
    "mask = df['business_latitude'].isnull().values"
   ]
  },
  {
   "cell_type": "code",
   "execution_count": 5,
   "metadata": {},
   "outputs": [
    {
     "data": {
      "text/html": [
       "<div>\n",
       "<style scoped>\n",
       "    .dataframe tbody tr th:only-of-type {\n",
       "        vertical-align: middle;\n",
       "    }\n",
       "\n",
       "    .dataframe tbody tr th {\n",
       "        vertical-align: top;\n",
       "    }\n",
       "\n",
       "    .dataframe thead th {\n",
       "        text-align: right;\n",
       "    }\n",
       "</style>\n",
       "<table border=\"1\" class=\"dataframe\">\n",
       "  <thead>\n",
       "    <tr style=\"text-align: right;\">\n",
       "      <th></th>\n",
       "      <th>Unnamed: 0</th>\n",
       "      <th>Unnamed: 0.1</th>\n",
       "      <th>Unnamed: 0.1.1</th>\n",
       "      <th>business_id</th>\n",
       "      <th>business_name</th>\n",
       "      <th>business_address</th>\n",
       "      <th>business_city</th>\n",
       "      <th>business_state</th>\n",
       "      <th>business_postal_code</th>\n",
       "      <th>business_latitude</th>\n",
       "      <th>...</th>\n",
       "      <th>short_inspect_date</th>\n",
       "      <th>short_violation_id</th>\n",
       "      <th>inspect_date</th>\n",
       "      <th>p1_3</th>\n",
       "      <th>p4_6</th>\n",
       "      <th>p7_9</th>\n",
       "      <th>p10_12</th>\n",
       "      <th>p13_18</th>\n",
       "      <th>p19_24</th>\n",
       "      <th>p25_36</th>\n",
       "    </tr>\n",
       "  </thead>\n",
       "  <tbody>\n",
       "    <tr>\n",
       "      <th>3</th>\n",
       "      <td>3</td>\n",
       "      <td>3</td>\n",
       "      <td>3</td>\n",
       "      <td>73840</td>\n",
       "      <td>L'acajou Bakery and Cafe</td>\n",
       "      <td>498 09th St Ste. C</td>\n",
       "      <td>San Francisco</td>\n",
       "      <td>CA</td>\n",
       "      <td>94103</td>\n",
       "      <td>NaN</td>\n",
       "      <td>...</td>\n",
       "      <td>20171207</td>\n",
       "      <td>103105</td>\n",
       "      <td>2017-12-07</td>\n",
       "      <td>0</td>\n",
       "      <td>5</td>\n",
       "      <td>0</td>\n",
       "      <td>0</td>\n",
       "      <td>6</td>\n",
       "      <td>0</td>\n",
       "      <td>0</td>\n",
       "    </tr>\n",
       "    <tr>\n",
       "      <th>11</th>\n",
       "      <td>11</td>\n",
       "      <td>11</td>\n",
       "      <td>11</td>\n",
       "      <td>82880</td>\n",
       "      <td>Don Pablo</td>\n",
       "      <td>Off The Grid</td>\n",
       "      <td>San Francisco</td>\n",
       "      <td>CA</td>\n",
       "      <td>NaN</td>\n",
       "      <td>NaN</td>\n",
       "      <td>...</td>\n",
       "      <td>20160309</td>\n",
       "      <td>103148</td>\n",
       "      <td>2016-03-09</td>\n",
       "      <td>0</td>\n",
       "      <td>0</td>\n",
       "      <td>0</td>\n",
       "      <td>3</td>\n",
       "      <td>0</td>\n",
       "      <td>6</td>\n",
       "      <td>2</td>\n",
       "    </tr>\n",
       "  </tbody>\n",
       "</table>\n",
       "<p>2 rows × 30 columns</p>\n",
       "</div>"
      ],
      "text/plain": [
       "    Unnamed: 0  Unnamed: 0.1  Unnamed: 0.1.1  business_id  \\\n",
       "3            3             3               3        73840   \n",
       "11          11            11              11        82880   \n",
       "\n",
       "               business_name    business_address  business_city  \\\n",
       "3   L'acajou Bakery and Cafe  498 09th St Ste. C  San Francisco   \n",
       "11                 Don Pablo        Off The Grid  San Francisco   \n",
       "\n",
       "   business_state business_postal_code  business_latitude  ...    \\\n",
       "3              CA                94103                NaN  ...     \n",
       "11             CA                  NaN                NaN  ...     \n",
       "\n",
       "    short_inspect_date short_violation_id  inspect_date p1_3 p4_6  p7_9  \\\n",
       "3             20171207             103105    2017-12-07    0    5     0   \n",
       "11            20160309             103148    2016-03-09    0    0     0   \n",
       "\n",
       "   p10_12 p13_18 p19_24 p25_36  \n",
       "3       0      6      0      0  \n",
       "11      3      0      6      2  \n",
       "\n",
       "[2 rows x 30 columns]"
      ]
     },
     "execution_count": 5,
     "metadata": {},
     "output_type": "execute_result"
    }
   ],
   "source": [
    "df[mask].head(2)"
   ]
  },
  {
   "cell_type": "code",
   "execution_count": 6,
   "metadata": {},
   "outputs": [
    {
     "data": {
      "text/plain": [
       "742"
      ]
     },
     "execution_count": 6,
     "metadata": {},
     "output_type": "execute_result"
    }
   ],
   "source": [
    "len(df[mask])"
   ]
  },
  {
   "cell_type": "code",
   "execution_count": 7,
   "metadata": {},
   "outputs": [],
   "source": [
    "# 742 businesses where geo coords were not transferred\n",
    "df_742 = df[mask]"
   ]
  },
  {
   "cell_type": "code",
   "execution_count": 8,
   "metadata": {},
   "outputs": [],
   "source": [
    "address_no_geocoord = df_742['business_address']"
   ]
  },
  {
   "cell_type": "code",
   "execution_count": 9,
   "metadata": {},
   "outputs": [],
   "source": [
    "address_nogeo_lst = address_no_geocoord.values"
   ]
  },
  {
   "cell_type": "code",
   "execution_count": 10,
   "metadata": {},
   "outputs": [],
   "source": [
    "num_vars = ['Off the Grid', 'Off The Grid', 'OFF The Grid', 'OFF THE GRID', 'Approved private locations', 'Approved Private Locations','Approved Locations']\n",
    "L_nogeo = []\n",
    "for address in address_nogeo_lst:\n",
    "    #if address != 'Off the Grid' and address != 'Off The Grid':\n",
    "    if ~(address in num_vars):\n",
    "        L_nogeo.append(address)"
   ]
  },
  {
   "cell_type": "code",
   "execution_count": 1,
   "metadata": {},
   "outputs": [],
   "source": [
    "#L_nogeo"
   ]
  },
  {
   "cell_type": "code",
   "execution_count": 34,
   "metadata": {},
   "outputs": [],
   "source": [
    "## Let's run geopy"
   ]
  },
  {
   "cell_type": "code",
   "execution_count": 11,
   "metadata": {},
   "outputs": [],
   "source": [
    "geolocator = Nominatim(timeout = 20)"
   ]
  },
  {
   "cell_type": "code",
   "execution_count": 12,
   "metadata": {},
   "outputs": [
    {
     "name": "stdout",
     "output_type": "stream",
     "text": [
      "Mission Street, St. Mary's Park, SF, California, 94134, United States of America -122.4291725 37.7308875\n"
     ]
    }
   ],
   "source": [
    "location = geolocator.geocode(\"2740 Mission St SF CA\")\n",
    "print(location.address, location.longitude, location.latitude)"
   ]
  },
  {
   "cell_type": "code",
   "execution_count": 13,
   "metadata": {},
   "outputs": [],
   "source": [
    "# add SF CA to addresses\n",
    "L_nogeo_SFCA = []\n",
    "for address in L_nogeo:\n",
    "    L_nogeo_SFCA.append(address + ' SF CA')"
   ]
  },
  {
   "cell_type": "code",
   "execution_count": 14,
   "metadata": {},
   "outputs": [],
   "source": [
    "def do_geocode2(address):\n",
    "    try:\n",
    "        return geolocator.geocode(address)\n",
    "    except GeocoderTimedOut:\n",
    "        time.sleep(1)\n",
    "        return do_geocode(address)"
   ]
  },
  {
   "cell_type": "code",
   "execution_count": 84,
   "metadata": {},
   "outputs": [],
   "source": [
    "write_file = \"data/geo_coords_sf_742.csv\"\n",
    "with open(write_file, \"w\") as output:\n",
    "    for address in L_nogeo_SFCA[0:50]:  #742\n",
    "        location = do_geocode2(address)\n",
    "        if location != None:\n",
    "            output.write(address + ',' + str(location.longitude) + ',' + str(location.latitude) +  '\\n')"
   ]
  },
  {
   "cell_type": "code",
   "execution_count": 85,
   "metadata": {},
   "outputs": [
    {
     "name": "stdout",
     "output_type": "stream",
     "text": [
      "['Off The Grid SF CA', '-122.4314265', '37.806651']\n",
      "['2301 Market St SF CA', '-122.3987948', '37.7913412']\n",
      "['2740 Mission St SF CA', '-122.4291725', '37.7308875']\n",
      "['2348 Mission Street SF CA', '-122.4291725', '37.7308875']\n",
      "['5937 Geary Blvd SF CA', '-122.4255764', '37.7851991']\n",
      "['200 Columbus St SF CA', '-122.4088136', '37.7994755']\n",
      "['977 A North Point St SF CA', '-122.423183959184', '37.8052633877551']\n",
      "['1548 Ocean Ave SF CA', '-122.4514762', '37.7229098']\n",
      "['2331 Chestnut St SF CA', '-122.441710636423', '37.79976935']\n",
      "['2404 California St SF CA', '-122.3975149', '37.7935273']\n",
      "['5601 Geary Blvd SF CA', '-122.4255764', '37.7851991']\n",
      "['401 13th St SF CA', '-122.4176974', '37.7698728']\n",
      "['2794 California St SF CA', '-122.3975149', '37.7935273']\n",
      "['1919 Ocean Ave SF CA', '-122.4514762', '37.7229098']\n",
      "['3985 17th St SF CA', '-122.409393', '37.764369']\n",
      "['295 B Orizaba Ave SF CA', '-122.462700111111', '37.7141915555556']\n",
      "['Off The Grid SF CA', '-122.4314265', '37.806651']\n",
      "['3348 Steiner St SF CA', '-122.4376967', '37.8003743']\n",
      "['2893 Mission St SF CA', '-122.4291725', '37.7308875']\n",
      "['Pier 41 SF CA', '-122.4118509', '37.8094742']\n",
      "['Pier 39  B-4 SF CA', '-122.4102693', '37.8097913']\n",
      "21\n"
     ]
    }
   ],
   "source": [
    "# show the list of restaurants whose geo coords are grabbed from geopy\n",
    "with open('data/geo_coords_sf_742.csv', 'r') as f:\n",
    "    reader = csv.reader(f)\n",
    "    counter = 0\n",
    "    for row in reader:\n",
    "        counter += 1\n",
    "        print(row)\n",
    "        if counter > 20: break\n",
    "print(counter)"
   ]
  },
  {
   "cell_type": "code",
   "execution_count": null,
   "metadata": {},
   "outputs": [],
   "source": []
  },
  {
   "cell_type": "markdown",
   "metadata": {},
   "source": [
    "## Import geo coords to the dataframe"
   ]
  },
  {
   "cell_type": "code",
   "execution_count": 86,
   "metadata": {},
   "outputs": [],
   "source": [
    "df2 = df_742"
   ]
  },
  {
   "cell_type": "code",
   "execution_count": 87,
   "metadata": {},
   "outputs": [],
   "source": [
    "df2 = df2.reset_index()"
   ]
  },
  {
   "cell_type": "code",
   "execution_count": 88,
   "metadata": {},
   "outputs": [],
   "source": [
    "with open('data/geo_coords_sf_742.csv', 'r') as f:\n",
    "    reader = csv.reader(f)\n",
    "    for row in reader:\n",
    "        address = row[0]\n",
    "        longitude = row[1]\n",
    "        latitude = row[2]\n",
    "        n = len(df2)\n",
    "        for idx in range(n):\n",
    "            df_address = df2.loc[idx,'business_address']\n",
    "            if df_address == address[:-6]:  # To remove ' SF CA' at the end of addresses\n",
    "                df2.loc[idx,'business_longitude'] = longitude\n",
    "                df2.loc[idx,'business_latitude'] = latitude"
   ]
  },
  {
   "cell_type": "code",
   "execution_count": 2,
   "metadata": {},
   "outputs": [],
   "source": [
    "#df2['business_latitude']"
   ]
  },
  {
   "cell_type": "code",
   "execution_count": 52,
   "metadata": {},
   "outputs": [],
   "source": [
    "# count of no geo coords\n",
    "mask = df['business_latitude'].isnull().values"
   ]
  },
  {
   "cell_type": "code",
   "execution_count": 53,
   "metadata": {},
   "outputs": [
    {
     "data": {
      "text/plain": [
       "2174"
      ]
     },
     "execution_count": 53,
     "metadata": {},
     "output_type": "execute_result"
    }
   ],
   "source": [
    "mask.sum()"
   ]
  },
  {
   "cell_type": "code",
   "execution_count": 27,
   "metadata": {},
   "outputs": [
    {
     "data": {
      "text/plain": [
       "Unnamed: 0               5229\n",
       "Unnamed: 0.1             5229\n",
       "business_id              5229\n",
       "business_name            5229\n",
       "business_address         5229\n",
       "business_city            5229\n",
       "business_state           5229\n",
       "business_postal_code     5070\n",
       "business_latitude        2998\n",
       "business_longitude       2998\n",
       "business_location        2998\n",
       "business_phone_number    1582\n",
       "inspection_id            5229\n",
       "inspection_date          5229\n",
       "inspection_score         4808\n",
       "inspection_type          5229\n",
       "violation_id             5229\n",
       "violation_description    5229\n",
       "risk_category            5229\n",
       "short_inspect_date       5229\n",
       "short_violation_id       5229\n",
       "inspect_date             5229\n",
       "p1_3                     5229\n",
       "p4_6                     5229\n",
       "p7_9                     5229\n",
       "p10_12                   5229\n",
       "p13_18                   5229\n",
       "p19_24                   5229\n",
       "p25_36                   5229\n",
       "dtype: int64"
      ]
     },
     "execution_count": 27,
     "metadata": {},
     "output_type": "execute_result"
    }
   ],
   "source": [
    "df.count()"
   ]
  },
  {
   "cell_type": "code",
   "execution_count": 17,
   "metadata": {},
   "outputs": [],
   "source": [
    "df.to_csv('data/first_round_geo_imported.csv')"
   ]
  },
  {
   "cell_type": "code",
   "execution_count": null,
   "metadata": {},
   "outputs": [],
   "source": []
  },
  {
   "cell_type": "code",
   "execution_count": null,
   "metadata": {},
   "outputs": [],
   "source": []
  },
  {
   "cell_type": "code",
   "execution_count": null,
   "metadata": {},
   "outputs": [],
   "source": []
  },
  {
   "cell_type": "code",
   "execution_count": null,
   "metadata": {},
   "outputs": [],
   "source": []
  }
 ],
 "metadata": {
  "kernelspec": {
   "display_name": "Python 3",
   "language": "python",
   "name": "python3"
  },
  "language_info": {
   "codemirror_mode": {
    "name": "ipython",
    "version": 3
   },
   "file_extension": ".py",
   "mimetype": "text/x-python",
   "name": "python",
   "nbconvert_exporter": "python",
   "pygments_lexer": "ipython3",
   "version": "3.6.4"
  }
 },
 "nbformat": 4,
 "nbformat_minor": 2
}
