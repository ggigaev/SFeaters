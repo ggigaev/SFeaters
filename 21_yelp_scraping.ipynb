{
 "cells": [
  {
   "cell_type": "code",
   "execution_count": 1,
   "metadata": {},
   "outputs": [],
   "source": [
    "import requests\n",
    "import json\n",
    "from pymongo import MongoClient\n",
    "from bs4 import BeautifulSoup"
   ]
  },
  {
   "cell_type": "code",
   "execution_count": 2,
   "metadata": {},
   "outputs": [],
   "source": [
    "# connect to database\n",
    "client = MongoClient('mongodb://localhost:27017')"
   ]
  },
  {
   "cell_type": "code",
   "execution_count": 3,
   "metadata": {},
   "outputs": [],
   "source": [
    "# get html from website\n",
    "text = requests.get('https://www.yelp.com/search?find_desc=Restaurants&find_loc=San+Francisco,+CA&start=0').text"
   ]
  },
  {
   "cell_type": "code",
   "execution_count": 4,
   "metadata": {},
   "outputs": [],
   "source": [
    "# turn html into bs4 object\n",
    "soup = BeautifulSoup(text, 'lxml')\n",
    "#print(soup)"
   ]
  },
  {
   "cell_type": "code",
   "execution_count": 5,
   "metadata": {},
   "outputs": [],
   "source": [
    "# create empty movies list for storage\n",
    "restaurants = []"
   ]
  },
  {
   "cell_type": "code",
   "execution_count": 6,
   "metadata": {},
   "outputs": [
    {
     "name": "stdout",
     "output_type": "stream",
     "text": [
      "<span>Che Fico</span>\n",
      "<span>Fog Harbor Fish House</span>\n",
      "<span>The House</span>\n",
      "<span>Marlowe</span>\n",
      "<span>Liholiho Yacht Club</span>\n",
      "<span>Gary Danko</span>\n",
      "<span>Marufuku Ramen</span>\n",
      "<span>Loló</span>\n",
      "<span>Hops &amp; Hominy</span>\n",
      "<span>Brenda’s French Soul Food</span>\n"
     ]
    }
   ],
   "source": [
    "items_tr = soup.select('  h3 > span > a > span')\n",
    "for item in items_tr:\n",
    "    print(item)"
   ]
  },
  {
   "cell_type": "markdown",
   "metadata": {},
   "source": [
    "## Get 1000 business names"
   ]
  },
  {
   "cell_type": "code",
   "execution_count": 7,
   "metadata": {},
   "outputs": [],
   "source": [
    "webpage = 'https://www.yelp.com/search?find_desc=Restaurants&find_loc=San+Francisco,+CA&start='"
   ]
  },
  {
   "cell_type": "code",
   "execution_count": 8,
   "metadata": {},
   "outputs": [],
   "source": [
    "names = []\n",
    "for i in range(0, 20, 10):\n",
    "    i = str(i)\n",
    "    nwebpage = webpage + i\n",
    "    text = requests.get(nwebpage).text\n",
    "    soup = BeautifulSoup(text, 'lxml')\n",
    "    items_tr = soup.select('  h3 > span > a > span')\n",
    "    for item in items_tr:\n",
    "        #print(item)\n",
    "        names.append(item)"
   ]
  },
  {
   "cell_type": "code",
   "execution_count": 9,
   "metadata": {},
   "outputs": [
    {
     "data": {
      "text/plain": [
       "[<span>Che Fico</span>,\n",
       " <span>Fog Harbor Fish House</span>,\n",
       " <span>The House</span>,\n",
       " <span>Marlowe</span>,\n",
       " <span>Liholiho Yacht Club</span>,\n",
       " <span>Gary Danko</span>,\n",
       " <span>Marufuku Ramen</span>,\n",
       " <span>Loló</span>,\n",
       " <span>Hops &amp; Hominy</span>,\n",
       " <span>Brenda’s French Soul Food</span>,\n",
       " <span>ChiliCali Indonesian Supper Club</span>,\n",
       " <span>Tropisueño</span>,\n",
       " <span>Farmhouse Kitchen Thai Cuisine</span>,\n",
       " <span>Frances</span>,\n",
       " <span>Scoma’s Restaurant</span>,\n",
       " <span>Beretta</span>,\n",
       " <span>Sotto Mare Oysteria &amp; Seafood</span>,\n",
       " <span>Tacorea</span>,\n",
       " <span>Nopa</span>,\n",
       " <span>Hog Island Oyster Co</span>]"
      ]
     },
     "execution_count": 9,
     "metadata": {},
     "output_type": "execute_result"
    }
   ],
   "source": [
    "names"
   ]
  },
  {
   "cell_type": "code",
   "execution_count": 10,
   "metadata": {},
   "outputs": [
    {
     "ename": "TypeError",
     "evalue": "sequence item 0: expected str instance, Tag found",
     "output_type": "error",
     "traceback": [
      "\u001b[0;31m---------------------------------------------------------------------------\u001b[0m",
      "\u001b[0;31mTypeError\u001b[0m                                 Traceback (most recent call last)",
      "\u001b[0;32m<ipython-input-10-2b7f63b607e7>\u001b[0m in \u001b[0;36m<module>\u001b[0;34m()\u001b[0m\n\u001b[0;32m----> 1\u001b[0;31m \u001b[0msnames\u001b[0m \u001b[0;34m=\u001b[0m \u001b[0;34m''\u001b[0m\u001b[0;34m.\u001b[0m\u001b[0mjoin\u001b[0m\u001b[0;34m(\u001b[0m\u001b[0mnames\u001b[0m\u001b[0;34m)\u001b[0m\u001b[0;34m\u001b[0m\u001b[0m\n\u001b[0m\u001b[1;32m      2\u001b[0m \u001b[0;31m# with open('data/business_names.txt', 'w') as f:\u001b[0m\u001b[0;34m\u001b[0m\u001b[0;34m\u001b[0m\u001b[0m\n\u001b[1;32m      3\u001b[0m \u001b[0;31m#     f.write(names)\u001b[0m\u001b[0;34m\u001b[0m\u001b[0;34m\u001b[0m\u001b[0m\n",
      "\u001b[0;31mTypeError\u001b[0m: sequence item 0: expected str instance, Tag found"
     ]
    }
   ],
   "source": [
    " snames = ''.join(names)\n",
    "# with open('data/business_names.txt', 'w') as f:\n",
    "#     f.write(names)"
   ]
  },
  {
   "cell_type": "code",
   "execution_count": null,
   "metadata": {},
   "outputs": [],
   "source": [
    "len_names = len(names)\n",
    "print(len_names)\n",
    "L_soup_names = []\n",
    "for name in names:\n",
    "    print(type(name))\n",
    "    soup = BeautifulSoup(name, 'html.parser')\n",
    "    clean = soup.get_text()\n",
    "    L_soup_names.append(clean)"
   ]
  },
  {
   "cell_type": "code",
   "execution_count": null,
   "metadata": {},
   "outputs": [],
   "source": [
    "# Html_file= open(\"data/filename\",\"w\")\n",
    "# Html_file.write(snames)\n",
    "# Html_file.close()"
   ]
  },
  {
   "cell_type": "code",
   "execution_count": null,
   "metadata": {},
   "outputs": [],
   "source": []
  },
  {
   "cell_type": "code",
   "execution_count": null,
   "metadata": {},
   "outputs": [],
   "source": []
  },
  {
   "cell_type": "markdown",
   "metadata": {},
   "source": [
    "### Get 1000 ratings\n",
    "Remove the first one. It must be the rating of the web site developer."
   ]
  },
  {
   "cell_type": "code",
   "execution_count": null,
   "metadata": {},
   "outputs": [],
   "source": [
    "webpage = 'https://www.yelp.com/search?find_desc=Restaurants&find_loc=San+Francisco,+CA&start='"
   ]
  },
  {
   "cell_type": "code",
   "execution_count": null,
   "metadata": {},
   "outputs": [],
   "source": [
    "ratings = []\n",
    "for i in range(0, 30, 10):\n",
    "    i = str(i)\n",
    "    nwebpage = webpage + i\n",
    "    text = requests.get(nwebpage).text\n",
    "    soup = BeautifulSoup(text, 'lxml')\n",
    "    items_tr = soup.select('li.regular-search-result > div > div > div > div > div > div > div')\n",
    "    for item in items_tr:\n",
    "        #print(item)\n",
    "        ratings.append(item)"
   ]
  },
  {
   "cell_type": "code",
   "execution_count": null,
   "metadata": {},
   "outputs": [],
   "source": []
  },
  {
   "cell_type": "code",
   "execution_count": null,
   "metadata": {},
   "outputs": [],
   "source": []
  },
  {
   "cell_type": "code",
   "execution_count": null,
   "metadata": {},
   "outputs": [],
   "source": []
  }
 ],
 "metadata": {
  "kernelspec": {
   "display_name": "Python 3",
   "language": "python",
   "name": "python3"
  },
  "language_info": {
   "codemirror_mode": {
    "name": "ipython",
    "version": 3
   },
   "file_extension": ".py",
   "mimetype": "text/x-python",
   "name": "python",
   "nbconvert_exporter": "python",
   "pygments_lexer": "ipython3",
   "version": "3.6.4"
  }
 },
 "nbformat": 4,
 "nbformat_minor": 2
}
