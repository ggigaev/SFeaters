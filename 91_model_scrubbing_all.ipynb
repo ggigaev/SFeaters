{
 "cells": [
  {
   "cell_type": "code",
   "execution_count": 5,
   "metadata": {},
   "outputs": [],
   "source": [
    "import numpy as np\n",
    "import pandas as pd\n",
    "from sklearn.linear_model import LogisticRegression\n",
    "from sklearn.ensemble import GradientBoostingRegressor, GradientBoostingClassifier\n",
    "from sklearn.model_selection import train_test_split\n",
    "import matplotlib.pyplot as plt\n",
    "from mpl_toolkits.mplot3d import Axes3D\n",
    "plt.style.use('seaborn-notebook')\n",
    "%matplotlib inline\n",
    "import csv\n",
    "import src.scrubbing as scrubbing\n",
    "import src.utility "
   ]
  },
  {
   "cell_type": "code",
   "execution_count": 6,
   "metadata": {},
   "outputs": [],
   "source": [
    "df = pd.read_csv('data/Restaurant_Scores_-_LIVES_Standard.csv')"
   ]
  },
  {
   "cell_type": "code",
   "execution_count": null,
   "metadata": {},
   "outputs": [],
   "source": [
    "feature_names = ['p7_9','p10_12', 'p13_18', 'p19_24', 'p25_36', '94013', '94014', '94080', '94101', '94102', '94103', '94104',\n",
    "       '94105', '94107', '94108', '94109', '94110', '94111', '94112', '94114',\n",
    "       '94115', '94116', '94117', '94118', '94120', '94121', '94122', '94123',\n",
    "       '94124', '94127', '94129', '94130', '94131', '94132', '94133', '94134',\n",
    "       '94143', '94158']"
   ]
  },
  {
   "cell_type": "code",
   "execution_count": 12,
   "metadata": {},
   "outputs": [
    {
     "name": "stderr",
     "output_type": "stream",
     "text": [
      "/home/soong/galv/capstone/SFeaters/src/scrubbing.py:27: SettingWithCopyWarning: \n",
      "A value is trying to be set on a copy of a slice from a DataFrame.\n",
      "Try using .loc[row_indexer,col_indexer] = value instead\n",
      "\n",
      "See the caveats in the documentation: http://pandas.pydata.org/pandas-docs/stable/indexing.html#indexing-view-versus-copy\n",
      "  df_viol['short_violation_id'] = L_vid\n",
      "/home/soong/galv/capstone/SFeaters/src/scrubbing.py:43: SettingWithCopyWarning: \n",
      "A value is trying to be set on a copy of a slice from a DataFrame.\n",
      "Try using .loc[row_indexer,col_indexer] = value instead\n",
      "\n",
      "See the caveats in the documentation: http://pandas.pydata.org/pandas-docs/stable/indexing.html#indexing-view-versus-copy\n",
      "  df['inspect_date'] = pd.to_datetime(df.inspection_date)\n",
      "/home/soong/galv/capstone/SFeaters/src/scrubbing.py:44: SettingWithCopyWarning: \n",
      "A value is trying to be set on a copy of a slice from a DataFrame.\n",
      "Try using .loc[row_indexer,col_indexer] = value instead\n",
      "\n",
      "See the caveats in the documentation: http://pandas.pydata.org/pandas-docs/stable/indexing.html#indexing-view-versus-copy\n",
      "  df['short_violation_id'] = df['short_violation_id'].apply(np.int64)\n",
      "/home/soong/galv/capstone/SFeaters/src/scrubbing.py:137: RuntimeWarning: invalid value encountered in greater\n",
      "  mask333 = df['business_longitude'].values > -122.375\n",
      "/home/soong/galv/capstone/SFeaters/src/scrubbing.py:139: RuntimeWarning: invalid value encountered in less\n",
      "  mask334 = df2['business_latitude'].values < 37.70\n",
      "/home/soong/anaconda3/lib/python3.6/site-packages/pandas/core/indexing.py:357: SettingWithCopyWarning: \n",
      "A value is trying to be set on a copy of a slice from a DataFrame.\n",
      "Try using .loc[row_indexer,col_indexer] = value instead\n",
      "\n",
      "See the caveats in the documentation: http://pandas.pydata.org/pandas-docs/stable/indexing.html#indexing-view-versus-copy\n",
      "  self.obj[key] = _infer_fill_value(value)\n",
      "/home/soong/anaconda3/lib/python3.6/site-packages/pandas/core/indexing.py:537: SettingWithCopyWarning: \n",
      "A value is trying to be set on a copy of a slice from a DataFrame.\n",
      "Try using .loc[row_indexer,col_indexer] = value instead\n",
      "\n",
      "See the caveats in the documentation: http://pandas.pydata.org/pandas-docs/stable/indexing.html#indexing-view-versus-copy\n",
      "  self.obj[item] = s\n",
      "/home/soong/galv/capstone/SFeaters/src/utility.py:178: SettingWithCopyWarning: \n",
      "A value is trying to be set on a copy of a slice from a DataFrame.\n",
      "Try using .loc[row_indexer,col_indexer] = value instead\n",
      "\n",
      "See the caveats in the documentation: http://pandas.pydata.org/pandas-docs/stable/indexing.html#indexing-view-versus-copy\n",
      "  df['longitude_round'] = longi\n",
      "/home/soong/galv/capstone/SFeaters/src/utility.py:179: SettingWithCopyWarning: \n",
      "A value is trying to be set on a copy of a slice from a DataFrame.\n",
      "Try using .loc[row_indexer,col_indexer] = value instead\n",
      "\n",
      "See the caveats in the documentation: http://pandas.pydata.org/pandas-docs/stable/indexing.html#indexing-view-versus-copy\n",
      "  df['latitude_round'] = lati\n"
     ]
    }
   ],
   "source": [
    "(df2, X, y) = scrubbing.scrub_all(df, feature_names)"
   ]
  },
  {
   "cell_type": "code",
   "execution_count": 13,
   "metadata": {},
   "outputs": [
    {
     "data": {
      "text/html": [
       "<div>\n",
       "<style scoped>\n",
       "    .dataframe tbody tr th:only-of-type {\n",
       "        vertical-align: middle;\n",
       "    }\n",
       "\n",
       "    .dataframe tbody tr th {\n",
       "        vertical-align: top;\n",
       "    }\n",
       "\n",
       "    .dataframe thead th {\n",
       "        text-align: right;\n",
       "    }\n",
       "</style>\n",
       "<table border=\"1\" class=\"dataframe\">\n",
       "  <thead>\n",
       "    <tr style=\"text-align: right;\">\n",
       "      <th></th>\n",
       "      <th>business_id</th>\n",
       "      <th>business_name</th>\n",
       "      <th>business_address</th>\n",
       "      <th>business_city</th>\n",
       "      <th>business_state</th>\n",
       "      <th>business_postal_code</th>\n",
       "      <th>business_latitude</th>\n",
       "      <th>business_longitude</th>\n",
       "      <th>business_location</th>\n",
       "      <th>business_phone_number</th>\n",
       "      <th>inspection_id</th>\n",
       "      <th>inspection_date</th>\n",
       "      <th>inspection_score</th>\n",
       "      <th>inspection_type</th>\n",
       "      <th>violation_id</th>\n",
       "      <th>violation_description</th>\n",
       "      <th>risk_category</th>\n",
       "      <th>number_turnovers</th>\n",
       "      <th>start_date</th>\n",
       "      <th>duration_business</th>\n",
       "    </tr>\n",
       "  </thead>\n",
       "  <tbody>\n",
       "    <tr>\n",
       "      <th>0</th>\n",
       "      <td>1757</td>\n",
       "      <td>Dar Bar Pakistani/Indian Cusine</td>\n",
       "      <td>1412 Polk St</td>\n",
       "      <td>San Francisco</td>\n",
       "      <td>CA</td>\n",
       "      <td>94109</td>\n",
       "      <td>37.789784</td>\n",
       "      <td>-122.420455</td>\n",
       "      <td>(37.789784, -122.420455)</td>\n",
       "      <td>NaN</td>\n",
       "      <td>1757_20170928</td>\n",
       "      <td>9/28/2017 0:00</td>\n",
       "      <td>86.0</td>\n",
       "      <td>Routine - Unscheduled</td>\n",
       "      <td>1757_20170928_103131</td>\n",
       "      <td>Moderate risk vermin infestation</td>\n",
       "      <td>Moderate Risk</td>\n",
       "      <td>1.000000</td>\n",
       "      <td>2003-02-28</td>\n",
       "      <td>181.030411</td>\n",
       "    </tr>\n",
       "    <tr>\n",
       "      <th>1</th>\n",
       "      <td>4864</td>\n",
       "      <td>DRAGON CITY BAKERY &amp; CAFE</td>\n",
       "      <td>2367 MISSION St</td>\n",
       "      <td>San Francisco</td>\n",
       "      <td>CA</td>\n",
       "      <td>94110</td>\n",
       "      <td>37.759174</td>\n",
       "      <td>-122.419066</td>\n",
       "      <td>(37.759174, -122.419066)</td>\n",
       "      <td>1.415583e+10</td>\n",
       "      <td>4864_20161206</td>\n",
       "      <td>12/6/2016 0:00</td>\n",
       "      <td>84.0</td>\n",
       "      <td>Routine - Unscheduled</td>\n",
       "      <td>4864_20161206_103157</td>\n",
       "      <td>Food safety certificate or food handler card n...</td>\n",
       "      <td>Low Risk</td>\n",
       "      <td>4.051462</td>\n",
       "      <td>NaT</td>\n",
       "      <td>151.872638</td>\n",
       "    </tr>\n",
       "    <tr>\n",
       "      <th>2</th>\n",
       "      <td>79782</td>\n",
       "      <td>Deli 23</td>\n",
       "      <td>2449 23rd St</td>\n",
       "      <td>San Francisco</td>\n",
       "      <td>CA</td>\n",
       "      <td>94110</td>\n",
       "      <td>NaN</td>\n",
       "      <td>NaN</td>\n",
       "      <td>NaN</td>\n",
       "      <td>NaN</td>\n",
       "      <td>79782_20160503</td>\n",
       "      <td>5/3/2016 0:00</td>\n",
       "      <td>92.0</td>\n",
       "      <td>Routine - Unscheduled</td>\n",
       "      <td>79782_20160503_103120</td>\n",
       "      <td>Moderate risk food holding temperature</td>\n",
       "      <td>Moderate Risk</td>\n",
       "      <td>3.000000</td>\n",
       "      <td>2011-06-15</td>\n",
       "      <td>81.512967</td>\n",
       "    </tr>\n",
       "    <tr>\n",
       "      <th>3</th>\n",
       "      <td>73840</td>\n",
       "      <td>L'acajou Bakery and Cafe</td>\n",
       "      <td>498 09th St Ste. C</td>\n",
       "      <td>San Francisco</td>\n",
       "      <td>CA</td>\n",
       "      <td>94103</td>\n",
       "      <td>NaN</td>\n",
       "      <td>NaN</td>\n",
       "      <td>NaN</td>\n",
       "      <td>NaN</td>\n",
       "      <td>73840_20171207</td>\n",
       "      <td>12/7/2017 0:00</td>\n",
       "      <td>71.0</td>\n",
       "      <td>Routine - Unscheduled</td>\n",
       "      <td>73840_20171207_103105</td>\n",
       "      <td>Improper cooling methods</td>\n",
       "      <td>High Risk</td>\n",
       "      <td>4.051462</td>\n",
       "      <td>NaT</td>\n",
       "      <td>151.872638</td>\n",
       "    </tr>\n",
       "    <tr>\n",
       "      <th>4</th>\n",
       "      <td>76437</td>\n",
       "      <td>Sweetheart Cafe</td>\n",
       "      <td>909 Grant Ave</td>\n",
       "      <td>San Francisco</td>\n",
       "      <td>CA</td>\n",
       "      <td>94108</td>\n",
       "      <td>NaN</td>\n",
       "      <td>NaN</td>\n",
       "      <td>NaN</td>\n",
       "      <td>NaN</td>\n",
       "      <td>76437_20160329</td>\n",
       "      <td>3/29/2016 0:00</td>\n",
       "      <td>76.0</td>\n",
       "      <td>Routine - Unscheduled</td>\n",
       "      <td>76437_20160329_103113</td>\n",
       "      <td>Sewage or wastewater contamination</td>\n",
       "      <td>High Risk</td>\n",
       "      <td>2.000000</td>\n",
       "      <td>2010-04-01</td>\n",
       "      <td>95.969116</td>\n",
       "    </tr>\n",
       "  </tbody>\n",
       "</table>\n",
       "</div>"
      ],
      "text/plain": [
       "   business_id                    business_name    business_address  \\\n",
       "0         1757  Dar Bar Pakistani/Indian Cusine        1412 Polk St   \n",
       "1         4864        DRAGON CITY BAKERY & CAFE     2367 MISSION St   \n",
       "2        79782                          Deli 23        2449 23rd St   \n",
       "3        73840         L'acajou Bakery and Cafe  498 09th St Ste. C   \n",
       "4        76437                  Sweetheart Cafe       909 Grant Ave   \n",
       "\n",
       "   business_city business_state business_postal_code  business_latitude  \\\n",
       "0  San Francisco             CA                94109          37.789784   \n",
       "1  San Francisco             CA                94110          37.759174   \n",
       "2  San Francisco             CA                94110                NaN   \n",
       "3  San Francisco             CA                94103                NaN   \n",
       "4  San Francisco             CA                94108                NaN   \n",
       "\n",
       "   business_longitude         business_location  business_phone_number  \\\n",
       "0         -122.420455  (37.789784, -122.420455)                    NaN   \n",
       "1         -122.419066  (37.759174, -122.419066)           1.415583e+10   \n",
       "2                 NaN                       NaN                    NaN   \n",
       "3                 NaN                       NaN                    NaN   \n",
       "4                 NaN                       NaN                    NaN   \n",
       "\n",
       "    inspection_id inspection_date  inspection_score        inspection_type  \\\n",
       "0   1757_20170928  9/28/2017 0:00              86.0  Routine - Unscheduled   \n",
       "1   4864_20161206  12/6/2016 0:00              84.0  Routine - Unscheduled   \n",
       "2  79782_20160503   5/3/2016 0:00              92.0  Routine - Unscheduled   \n",
       "3  73840_20171207  12/7/2017 0:00              71.0  Routine - Unscheduled   \n",
       "4  76437_20160329  3/29/2016 0:00              76.0  Routine - Unscheduled   \n",
       "\n",
       "            violation_id                              violation_description  \\\n",
       "0   1757_20170928_103131                   Moderate risk vermin infestation   \n",
       "1   4864_20161206_103157  Food safety certificate or food handler card n...   \n",
       "2  79782_20160503_103120             Moderate risk food holding temperature   \n",
       "3  73840_20171207_103105                           Improper cooling methods   \n",
       "4  76437_20160329_103113                 Sewage or wastewater contamination   \n",
       "\n",
       "   risk_category  number_turnovers start_date  duration_business  \n",
       "0  Moderate Risk          1.000000 2003-02-28         181.030411  \n",
       "1       Low Risk          4.051462        NaT         151.872638  \n",
       "2  Moderate Risk          3.000000 2011-06-15          81.512967  \n",
       "3      High Risk          4.051462        NaT         151.872638  \n",
       "4      High Risk          2.000000 2010-04-01          95.969116  "
      ]
     },
     "execution_count": 13,
     "metadata": {},
     "output_type": "execute_result"
    }
   ],
   "source": [
    "df2.head()"
   ]
  },
  {
   "cell_type": "code",
   "execution_count": 14,
   "metadata": {},
   "outputs": [],
   "source": [
    "X_tr, X_test, y_tr, y_test = train_test_split(X, y, test_size=0.25, random_state=38)"
   ]
  },
  {
   "cell_type": "code",
   "execution_count": 15,
   "metadata": {},
   "outputs": [],
   "source": [
    "X_train, X_validation, y_train, y_validation = train_test_split(X_tr, y_tr, test_size=0.25, random_state=28)"
   ]
  },
  {
   "cell_type": "code",
   "execution_count": 16,
   "metadata": {},
   "outputs": [
    {
     "data": {
      "text/plain": [
       "LogisticRegression(C=1.0, class_weight=None, dual=False, fit_intercept=True,\n",
       "          intercept_scaling=1, max_iter=100, multi_class='ovr', n_jobs=1,\n",
       "          penalty='l2', random_state=None, solver='liblinear', tol=0.0001,\n",
       "          verbose=0, warm_start=False)"
      ]
     },
     "execution_count": 16,
     "metadata": {},
     "output_type": "execute_result"
    }
   ],
   "source": [
    "log_model = LogisticRegression()\n",
    "log_model.fit(X_train,y_train)"
   ]
  },
  {
   "cell_type": "code",
   "execution_count": 17,
   "metadata": {},
   "outputs": [
    {
     "data": {
      "text/plain": [
       "array([[-0.40518605, -0.24633135,  0.07590432,  0.18925423,  0.11127685,\n",
       "         0.        ,  0.08676416,  0.        ,  0.        , -0.3891833 ,\n",
       "         0.45053804,  1.14957605, -0.11758996, -0.73413507, -0.06419537,\n",
       "         1.13403706,  1.37134309, -0.20583216, -0.01628042,  0.75256999,\n",
       "        -0.79661287,  0.62498681, -0.0849984 ,  0.00966387, -0.30427112,\n",
       "        -0.07869748,  0.55801264,  1.80633784, -0.39766452,  0.49712313,\n",
       "        -0.29723071, -0.31138788, -0.04337178,  0.537783  ,  0.4749317 ,\n",
       "         0.40737264,  0.        , -0.9495466 ]])"
      ]
     },
     "execution_count": 17,
     "metadata": {},
     "output_type": "execute_result"
    }
   ],
   "source": [
    "log_model.coef_"
   ]
  },
  {
   "cell_type": "code",
   "execution_count": 18,
   "metadata": {},
   "outputs": [
    {
     "data": {
      "text/plain": [
       "array([-0.78708681])"
      ]
     },
     "execution_count": 18,
     "metadata": {},
     "output_type": "execute_result"
    }
   ],
   "source": [
    "log_model.intercept_"
   ]
  },
  {
   "cell_type": "code",
   "execution_count": 19,
   "metadata": {},
   "outputs": [
    {
     "data": {
      "text/plain": [
       "0.6895424836601307"
      ]
     },
     "execution_count": 19,
     "metadata": {},
     "output_type": "execute_result"
    }
   ],
   "source": [
    "log_model.score(X_validation, y_validation)"
   ]
  },
  {
   "cell_type": "markdown",
   "metadata": {},
   "source": [
    "## Gradient Boosting Model"
   ]
  },
  {
   "cell_type": "code",
   "execution_count": 20,
   "metadata": {},
   "outputs": [
    {
     "name": "stdout",
     "output_type": "stream",
     "text": [
      "Learning rate:  0.05\n",
      "Accuracy score (training): 0.575\n",
      "Accuracy score (validation): 0.614\n",
      "Learning rate:  0.1\n",
      "Accuracy score (training): 0.599\n",
      "Accuracy score (validation): 0.623\n",
      "Learning rate:  0.25\n",
      "Accuracy score (training): 0.666\n",
      "Accuracy score (validation): 0.675\n",
      "Learning rate:  0.5\n",
      "Accuracy score (training): 0.697\n",
      "Accuracy score (validation): 0.698\n",
      "Learning rate:  0.75\n",
      "Accuracy score (training): 0.697\n",
      "Accuracy score (validation): 0.693\n",
      "Learning rate:  1\n",
      "Accuracy score (training): 0.692\n",
      "Accuracy score (validation): 0.690\n"
     ]
    }
   ],
   "source": [
    "learning_rates = [0.05, 0.1, 0.25, 0.5, 0.75, 1]\n",
    "for learning_rate in learning_rates:\n",
    "    gb = GradientBoostingClassifier(n_estimators=20, learning_rate = learning_rate, max_features=2, max_depth = 2, random_state = 0)\n",
    "    gb.fit(X_train, y_train)\n",
    "    print(\"Learning rate: \", learning_rate)\n",
    "    print(\"Accuracy score (training): {0:.3f}\".format(gb.score(X_train, y_train)))\n",
    "    print(\"Accuracy score (validation): {0:.3f}\".format(gb.score(X_validation, y_validation)))"
   ]
  },
  {
   "cell_type": "code",
   "execution_count": 21,
   "metadata": {},
   "outputs": [
    {
     "name": "stdout",
     "output_type": "stream",
     "text": [
      "Accuracy score (training): 0.697\n",
      "Accuracy score (validation): 0.693\n"
     ]
    }
   ],
   "source": [
    "# Let's use learning rate of 0.75\n",
    "gb = GradientBoostingClassifier(n_estimators=20, learning_rate = 0.75, max_features=2, max_depth = 2, random_state = 0)\n",
    "gb.fit(X_train, y_train)\n",
    "print(\"Accuracy score (training): {0:.3f}\".format(gb.score(X_train, y_train)))\n",
    "print(\"Accuracy score (validation): {0:.3f}\".format(gb.score(X_validation, y_validation)))\n",
    "# The \"validation\" here is a correct term. It is not a \"test\" set."
   ]
  },
  {
   "cell_type": "code",
   "execution_count": null,
   "metadata": {},
   "outputs": [],
   "source": []
  }
 ],
 "metadata": {
  "kernelspec": {
   "display_name": "Python 3",
   "language": "python",
   "name": "python3"
  },
  "language_info": {
   "codemirror_mode": {
    "name": "ipython",
    "version": 3
   },
   "file_extension": ".py",
   "mimetype": "text/x-python",
   "name": "python",
   "nbconvert_exporter": "python",
   "pygments_lexer": "ipython3",
   "version": "3.6.4"
  }
 },
 "nbformat": 4,
 "nbformat_minor": 2
}
