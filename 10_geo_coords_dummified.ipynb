{
 "cells": [
  {
   "cell_type": "code",
   "execution_count": 2,
   "metadata": {},
   "outputs": [],
   "source": [
    "import numpy as np\n",
    "import pandas as pd\n",
    "from sklearn.linear_model import LogisticRegression\n",
    "from sklearn.ensemble import GradientBoostingRegressor, GradientBoostingClassifier\n",
    "from sklearn.model_selection import train_test_split\n",
    "import matplotlib.pyplot as plt\n",
    "from mpl_toolkits.mplot3d import Axes3D\n",
    "plt.style.use('seaborn-notebook')\n",
    "%matplotlib inline"
   ]
  },
  {
   "cell_type": "code",
   "execution_count": 37,
   "metadata": {},
   "outputs": [],
   "source": [
    "df = pd.read_pickle('data/sf_inspection_master.pkl')"
   ]
  },
  {
   "cell_type": "markdown",
   "metadata": {},
   "source": [
    "# Make dummies for geo coords"
   ]
  },
  {
   "cell_type": "code",
   "execution_count": 38,
   "metadata": {},
   "outputs": [],
   "source": [
    "#pd.get_dummies(df['business_postal_code'])"
   ]
  },
  {
   "cell_type": "code",
   "execution_count": 39,
   "metadata": {},
   "outputs": [
    {
     "data": {
      "text/plain": [
       "Index(['business_id', 'business_name', 'business_address', 'business_city',\n",
       "       'business_state', 'business_postal_code', 'business_latitude',\n",
       "       'business_longitude', 'business_location', 'business_phone_number',\n",
       "       'inspection_id', 'inspection_date', 'inspection_score',\n",
       "       'inspection_type', 'violation_id', 'violation_description',\n",
       "       'risk_category', 'short_violation_id', 'inspect_date', 'p1_3', 'p4_6',\n",
       "       'p7_9', 'p10_12', 'p13_18', 'p19_24', 'p25_36', 'number_turnovers',\n",
       "       'start_date', 'duration_business', 'y_label', '92672', '94013', '94014',\n",
       "       '94080', '94101', '94102', '94103', '94104', '94105', '94107', '94108',\n",
       "       '94109', '94110', '94111', '94112', '94114', '94115', '94116', '94117',\n",
       "       '94118', '94120', '94121', '94122', '94123', '94124', '94127', '94129',\n",
       "       '94130', '94131', '94132', '94133', '94134', '94143', '94158', '95105',\n",
       "       'p7_36', 'rating', 'price', 'longitude_round', 'latitude_round'],\n",
       "      dtype='object')"
      ]
     },
     "execution_count": 39,
     "metadata": {},
     "output_type": "execute_result"
    }
   ],
   "source": [
    "df.columns"
   ]
  },
  {
   "cell_type": "code",
   "execution_count": null,
   "metadata": {},
   "outputs": [],
   "source": []
  },
  {
   "cell_type": "code",
   "execution_count": 40,
   "metadata": {},
   "outputs": [
    {
     "data": {
      "text/plain": [
       "122"
      ]
     },
     "execution_count": 40,
     "metadata": {},
     "output_type": "execute_result"
    }
   ],
   "source": [
    "len((df['longitude_round']*1000000 + df['latitude_round']*100).unique())"
   ]
  },
  {
   "cell_type": "code",
   "execution_count": 79,
   "metadata": {},
   "outputs": [],
   "source": [
    "geo_combo = abs(df['longitude_round']*1000000 + df['latitude_round']*100)"
   ]
  },
  {
   "cell_type": "code",
   "execution_count": 83,
   "metadata": {},
   "outputs": [],
   "source": [
    "geo_str = [ str(int(x)) for x in geo_combo]\n",
    "df['geo_coord_combo'] = geo_str"
   ]
  },
  {
   "cell_type": "code",
   "execution_count": 43,
   "metadata": {},
   "outputs": [
    {
     "data": {
      "text/plain": [
       "Index(['business_id', 'business_name', 'business_address', 'business_city',\n",
       "       'business_state', 'business_postal_code', 'business_latitude',\n",
       "       'business_longitude', 'business_location', 'business_phone_number',\n",
       "       ...\n",
       "       '122496225', '122496226', '122496227', '122496228', '122496229',\n",
       "       '122506222', '122506223', '122506224', '122506225', '122506226'],\n",
       "      dtype='object', length=193)"
      ]
     },
     "execution_count": 43,
     "metadata": {},
     "output_type": "execute_result"
    }
   ],
   "source": [
    "df = pd.concat([df, pd.get_dummies(df['geo_coord_combo'])], axis=1)\n",
    "df.columns"
   ]
  },
  {
   "cell_type": "code",
   "execution_count": 44,
   "metadata": {},
   "outputs": [],
   "source": [
    "df2 = df.drop(['122496225'], axis=1)"
   ]
  },
  {
   "cell_type": "code",
   "execution_count": 45,
   "metadata": {},
   "outputs": [
    {
     "data": {
      "text/plain": [
       "Index(['business_id', 'business_name', 'business_address', 'business_city',\n",
       "       'business_state', 'business_postal_code', 'business_latitude',\n",
       "       'business_longitude', 'business_location', 'business_phone_number',\n",
       "       ...\n",
       "       '122496224', '122496226', '122496227', '122496228', '122496229',\n",
       "       '122506222', '122506223', '122506224', '122506225', '122506226'],\n",
       "      dtype='object', length=192)"
      ]
     },
     "execution_count": 45,
     "metadata": {},
     "output_type": "execute_result"
    }
   ],
   "source": [
    "df2.columns"
   ]
  },
  {
   "cell_type": "code",
   "execution_count": 46,
   "metadata": {},
   "outputs": [
    {
     "data": {
      "text/plain": [
       "array(['business_id', 'business_name', 'business_address',\n",
       "       'business_city', 'business_state', 'business_postal_code',\n",
       "       'business_latitude', 'business_longitude', 'business_location',\n",
       "       'business_phone_number', 'inspection_id', 'inspection_date',\n",
       "       'inspection_score', 'inspection_type', 'violation_id',\n",
       "       'violation_description', 'risk_category', 'short_violation_id',\n",
       "       'inspect_date', 'p1_3', 'p4_6', 'p7_9', 'p10_12', 'p13_18',\n",
       "       'p19_24', 'p25_36', 'number_turnovers', 'start_date',\n",
       "       'duration_business', 'y_label', '92672', '94013', '94014', '94080',\n",
       "       '94101', '94102', '94103', '94104', '94105', '94107', '94108',\n",
       "       '94109', '94110', '94111', '94112', '94114', '94115', '94116',\n",
       "       '94117', '94118', '94120', '94121', '94122', '94123', '94124',\n",
       "       '94127', '94129', '94130', '94131', '94132', '94133', '94134',\n",
       "       '94143', '94158', '95105', 'p7_36', 'rating', 'price',\n",
       "       'longitude_round', 'latitude_round', 'geo_coord_combo',\n",
       "       '122376226', '122376227', '122386220', '122386221', '122386222',\n",
       "       '122386223', '122386224', '122386225', '122386226', '122386227',\n",
       "       '122386228', '122386229', '122396219', '122396220', '122396221',\n",
       "       '122396222', '122396223', '122396224', '122396225', '122396226',\n",
       "       '122396227', '122396228', '122396229', '122406219', '122406220',\n",
       "       '122406221', '122406222', '122406223', '122406224', '122406225',\n",
       "       '122406226', '122406227', '122406228', '122406229', '122416219',\n",
       "       '122416220', '122416221', '122416222', '122416223', '122416224',\n",
       "       '122416225', '122416226', '122416227', '122416228', '122416229',\n",
       "       '122426219', '122426220', '122426221', '122426222', '122426223',\n",
       "       '122426224', '122426225', '122426226', '122426227', '122426228',\n",
       "       '122426229', '122436219', '122436220', '122436221', '122436222',\n",
       "       '122436223', '122436224', '122436225', '122436226', '122436227',\n",
       "       '122436228', '122436229', '122446219', '122446220', '122446221',\n",
       "       '122446222', '122446223', '122446224', '122446225', '122446226',\n",
       "       '122446227', '122446228', '122446229', '122456221', '122456222',\n",
       "       '122456223', '122456224', '122456225', '122456226', '122456227',\n",
       "       '122456228', '122456229', '122466222', '122466223', '122466224',\n",
       "       '122466225', '122466226', '122466227', '122466228', '122466229',\n",
       "       '122476222', '122476223', '122476224', '122476225', '122476226',\n",
       "       '122476227', '122476228', '122476229', '122486222', '122486224',\n",
       "       '122486225', '122486226', '122486227', '122486228', '122496221',\n",
       "       '122496222', '122496224', '122496226', '122496227', '122496228',\n",
       "       '122496229', '122506222', '122506223', '122506224', '122506225',\n",
       "       '122506226'], dtype=object)"
      ]
     },
     "execution_count": 46,
     "metadata": {},
     "output_type": "execute_result"
    }
   ],
   "source": [
    "df2.columns.values"
   ]
  },
  {
   "cell_type": "code",
   "execution_count": 47,
   "metadata": {},
   "outputs": [],
   "source": [
    "# create a text file with column names, so that they can be used for feature \n",
    "# selection. Remove 95105 and 92672, which do not belong to SF.\n",
    "s = ''\n",
    "for i in df2.columns.values:\n",
    "    s += i + ', '"
   ]
  },
  {
   "cell_type": "code",
   "execution_count": 48,
   "metadata": {},
   "outputs": [],
   "source": [
    "with open('data/col_names.txt', 'w') as f:\n",
    "    f.write(s)"
   ]
  },
  {
   "cell_type": "code",
   "execution_count": 64,
   "metadata": {},
   "outputs": [],
   "source": [
    "y = df2['y_label']\n",
    "X = df2[['p10_12', 'p13_18', 'p19_24', 'p25_36', '122376226', '122376227', '122386220', '122386221', '122386222',\n",
    "       '122386223', '122386224', '122386225', '122386226', '122386227',\n",
    "       '122386228', '122386229', '122396219', '122396220', '122396221',\n",
    "       '122396222', '122396223', '122396224', '122396225', '122396226',\n",
    "       '122396227', '122396228', '122396229', '122406219', '122406220',\n",
    "       '122406221', '122406222', '122406223', '122406224', '122406225',\n",
    "       '122406226', '122406227', '122406228', '122406229', '122416219',\n",
    "       '122416220', '122416221', '122416222', '122416223', '122416224',\n",
    "       '122416225', '122416226', '122416227', '122416228', '122416229',\n",
    "       '122426219', '122426220', '122426221', '122426222', '122426223',\n",
    "       '122426224', '122426225', '122426226', '122426227', '122426228',\n",
    "       '122426229', '122436219', '122436220', '122436221', '122436222',\n",
    "       '122436223', '122436224', '122436225', '122436226', '122436227',\n",
    "       '122436228', '122436229', '122446219', '122446220', '122446221',\n",
    "       '122446222', '122446223', '122446224', '122446225', '122446226',\n",
    "       '122446227', '122446228', '122446229', '122456221', '122456222',\n",
    "       '122456223', '122456224', '122456225', '122456226', '122456227',\n",
    "       '122456228', '122456229', '122466222', '122466223', '122466224',\n",
    "       '122466225', '122466226', '122466227', '122466228', '122466229',\n",
    "       '122476222', '122476223', '122476224', '122476225', '122476226',\n",
    "       '122476227', '122476228', '122476229', '122486222', '122486224',\n",
    "       '122486225', '122486226', '122486227', '122486228', '122496221',\n",
    "       '122496222', '122496224', '122496226', '122496227', '122496228',\n",
    "       '122496229', '122506222', '122506223', '122506224', '122506225',\n",
    "       '122506226', '94013', '94014', '94080', '94101', '94102', '94103', '94104',\n",
    "       '94105', '94107', '94108', '94109', '94110', '94111', '94112', '94114',\n",
    "       '94115', '94116', '94117', '94118', '94120', '94121', '94122', '94123',\n",
    "       '94124', '94127', '94129', '94130', '94131', '94132', '94133', '94134',\n",
    "       '94143', '94158']]"
   ]
  },
  {
   "cell_type": "code",
   "execution_count": 65,
   "metadata": {},
   "outputs": [],
   "source": [
    "X_tr, X_test, y_tr, y_test = train_test_split(X, y, test_size=0.2, random_state=38)"
   ]
  },
  {
   "cell_type": "markdown",
   "metadata": {},
   "source": [
    "## Let's stash X_test and y_test away for only test set purpose. Split X_train and y_train again for train and validation."
   ]
  },
  {
   "cell_type": "code",
   "execution_count": 66,
   "metadata": {},
   "outputs": [],
   "source": [
    "X_train, X_validation, y_train, y_validation = train_test_split(X_tr, y_tr, test_size=0.25, random_state=28)"
   ]
  },
  {
   "cell_type": "code",
   "execution_count": 67,
   "metadata": {},
   "outputs": [
    {
     "data": {
      "text/plain": [
       "LogisticRegression(C=1.0, class_weight=None, dual=False, fit_intercept=True,\n",
       "          intercept_scaling=1, max_iter=100, multi_class='ovr', n_jobs=1,\n",
       "          penalty='l2', random_state=None, solver='liblinear', tol=0.0001,\n",
       "          verbose=0, warm_start=False)"
      ]
     },
     "execution_count": 67,
     "metadata": {},
     "output_type": "execute_result"
    }
   ],
   "source": [
    "log_model = LogisticRegression()\n",
    "log_model.fit(X_train,y_train)"
   ]
  },
  {
   "cell_type": "code",
   "execution_count": 68,
   "metadata": {},
   "outputs": [
    {
     "data": {
      "text/plain": [
       "array([[-0.1529798 ,  0.10124806,  0.13424308,  0.05603751,  0.13040801,\n",
       "         0.19057994,  0.11711988, -0.47072977, -1.25425618, -1.08742991,\n",
       "        -0.42488751, -0.19682666,  1.07755222,  0.31402353, -0.79692458,\n",
       "         0.        ,  0.5875758 , -0.7854608 ,  0.24447651,  0.32042389,\n",
       "        -0.87143111,  1.21033518,  0.19314095, -0.08556268, -0.09969861,\n",
       "        -0.36240114,  0.51255917,  0.29509485,  0.13405638, -0.17013423,\n",
       "         0.62407076, -0.46419711,  0.40087761, -0.34683572,  0.36923077,\n",
       "         1.14574527,  0.        , -1.24342167,  0.49072135,  1.08156122,\n",
       "         0.85175174, -0.34838347, -0.13943042,  0.28981441,  0.83755585,\n",
       "         0.06733671,  0.23876461,  0.51666884, -0.32870876, -0.47597521,\n",
       "         0.74340514, -0.55106834, -0.04955092, -0.31066673,  0.27266866,\n",
       "         0.45936049,  0.52231471,  0.02236847, -0.59511792,  0.31227459,\n",
       "        -0.35295831,  0.05682354, -0.5787271 , -1.03305266, -0.69584885,\n",
       "        -0.84450606, -0.20754456,  1.2415662 ,  0.72152666, -0.26547497,\n",
       "         0.25590406,  0.        ,  0.02434435,  0.98123421,  1.26472576,\n",
       "         0.13579545,  0.4685062 , -0.24286235, -0.45833457,  0.49788066,\n",
       "        -0.5981796 , -0.25026246, -0.65833692, -0.47958196, -0.32156972,\n",
       "         0.66698821,  0.27293086,  0.32395886, -0.174218  , -0.54324554,\n",
       "        -0.84361111, -0.88126896, -0.00537404,  0.23017461, -0.38445896,\n",
       "         0.29609721, -0.32419743,  0.12541471,  0.34798605, -0.3241135 ,\n",
       "        -0.5135662 , -0.75095172, -1.28037911, -0.03088596,  0.20274626,\n",
       "         0.05590236,  0.42478255, -0.19632471,  0.51731936,  0.7481072 ,\n",
       "         0.97412808,  0.0146474 , -0.32093551,  0.        ,  0.81723421,\n",
       "        -0.95401059,  0.04929173, -1.10145562,  0.34889567, -0.41580854,\n",
       "        -0.20965876, -0.28571198, -0.2881309 ,  0.20160203,  0.43265488,\n",
       "         0.        ,  0.17937615,  0.        , -0.33137377, -0.17672391,\n",
       "         0.36775815,  0.80162859, -0.10660925, -0.33883189,  0.02883714,\n",
       "         0.47861099,  0.7233912 , -0.24419078,  0.25108681,  0.42478591,\n",
       "        -0.49600023,  0.06571747,  0.21081072,  0.06003737,  0.        ,\n",
       "        -0.01825632,  0.53281071,  1.26637135, -0.56901726,  0.3758993 ,\n",
       "         0.        , -0.28463525, -0.37518497,  0.47667711,  0.27519974,\n",
       "        -0.0539646 ,  0.04072717, -0.75498356]])"
      ]
     },
     "execution_count": 68,
     "metadata": {},
     "output_type": "execute_result"
    }
   ],
   "source": [
    "log_model.coef_"
   ]
  },
  {
   "cell_type": "code",
   "execution_count": 69,
   "metadata": {},
   "outputs": [
    {
     "data": {
      "text/plain": [
       "array([-0.90214557])"
      ]
     },
     "execution_count": 69,
     "metadata": {},
     "output_type": "execute_result"
    }
   ],
   "source": [
    "log_model.intercept_"
   ]
  },
  {
   "cell_type": "code",
   "execution_count": 70,
   "metadata": {},
   "outputs": [],
   "source": [
    "#log_model.predict(X_validation)"
   ]
  },
  {
   "cell_type": "code",
   "execution_count": 71,
   "metadata": {},
   "outputs": [
    {
     "data": {
      "text/plain": [
       "0.6469387755102041"
      ]
     },
     "execution_count": 71,
     "metadata": {},
     "output_type": "execute_result"
    }
   ],
   "source": [
    "log_model.score(X_validation, y_validation)"
   ]
  },
  {
   "cell_type": "markdown",
   "metadata": {},
   "source": [
    "## Find out if my data set is unbalanced or not"
   ]
  },
  {
   "cell_type": "code",
   "execution_count": 72,
   "metadata": {},
   "outputs": [
    {
     "data": {
      "text/plain": [
       "False    2781\n",
       "True     2116\n",
       "Name: y_label, dtype: int64"
      ]
     },
     "execution_count": 72,
     "metadata": {},
     "output_type": "execute_result"
    }
   ],
   "source": [
    "y.value_counts()"
   ]
  },
  {
   "cell_type": "code",
   "execution_count": 73,
   "metadata": {},
   "outputs": [],
   "source": [
    "num_true = y.value_counts()[True]\n",
    "num_false = y.value_counts()[False]"
   ]
  },
  {
   "cell_type": "code",
   "execution_count": 74,
   "metadata": {},
   "outputs": [
    {
     "data": {
      "text/plain": [
       "0.43210128650193996"
      ]
     },
     "execution_count": 74,
     "metadata": {},
     "output_type": "execute_result"
    }
   ],
   "source": [
    "True_rate = num_true/(num_true + num_false)\n",
    "True_rate"
   ]
  },
  {
   "cell_type": "markdown",
   "metadata": {},
   "source": [
    "## Gradient Boosting Model"
   ]
  },
  {
   "cell_type": "code",
   "execution_count": 75,
   "metadata": {},
   "outputs": [
    {
     "name": "stdout",
     "output_type": "stream",
     "text": [
      "Learning rate:  0.05\n",
      "Accuracy score (training): 0.571\n",
      "Accuracy score (validation): 0.570\n",
      "Learning rate:  0.1\n",
      "Accuracy score (training): 0.579\n",
      "Accuracy score (validation): 0.577\n",
      "Learning rate:  0.25\n",
      "Accuracy score (training): 0.623\n",
      "Accuracy score (validation): 0.617\n",
      "Learning rate:  0.5\n",
      "Accuracy score (training): 0.630\n",
      "Accuracy score (validation): 0.624\n",
      "Learning rate:  0.75\n",
      "Accuracy score (training): 0.627\n",
      "Accuracy score (validation): 0.632\n",
      "Learning rate:  1\n",
      "Accuracy score (training): 0.633\n",
      "Accuracy score (validation): 0.624\n"
     ]
    }
   ],
   "source": [
    "learning_rates = [0.05, 0.1, 0.25, 0.5, 0.75, 1]\n",
    "for learning_rate in learning_rates:\n",
    "    gb = GradientBoostingClassifier(n_estimators=20, learning_rate = learning_rate, max_features=2, max_depth = 2, random_state = 0)\n",
    "    gb.fit(X_train, y_train)\n",
    "    print(\"Learning rate: \", learning_rate)\n",
    "    print(\"Accuracy score (training): {0:.3f}\".format(gb.score(X_train, y_train)))\n",
    "    print(\"Accuracy score (validation): {0:.3f}\".format(gb.score(X_validation, y_validation)))"
   ]
  },
  {
   "cell_type": "code",
   "execution_count": 76,
   "metadata": {},
   "outputs": [
    {
     "name": "stdout",
     "output_type": "stream",
     "text": [
      "Accuracy score (training): 0.627\n",
      "Accuracy score (validation): 0.632\n"
     ]
    }
   ],
   "source": [
    "# Let's use learning rate of 0.75\n",
    "gb = GradientBoostingClassifier(n_estimators=20, learning_rate = 0.75, max_features=2, max_depth = 2, random_state = 0)\n",
    "gb.fit(X_train, y_train)\n",
    "print(\"Accuracy score (training): {0:.3f}\".format(gb.score(X_train, y_train)))\n",
    "print(\"Accuracy score (validation): {0:.3f}\".format(gb.score(X_validation, y_validation)))\n",
    "# The \"validation\" here is a correct term. It is not a \"test\" set."
   ]
  },
  {
   "cell_type": "code",
   "execution_count": null,
   "metadata": {},
   "outputs": [],
   "source": []
  },
  {
   "cell_type": "code",
   "execution_count": null,
   "metadata": {},
   "outputs": [],
   "source": []
  },
  {
   "cell_type": "code",
   "execution_count": null,
   "metadata": {},
   "outputs": [],
   "source": []
  }
 ],
 "metadata": {
  "kernelspec": {
   "display_name": "Python 3",
   "language": "python",
   "name": "python3"
  },
  "language_info": {
   "codemirror_mode": {
    "name": "ipython",
    "version": 3
   },
   "file_extension": ".py",
   "mimetype": "text/x-python",
   "name": "python",
   "nbconvert_exporter": "python",
   "pygments_lexer": "ipython3",
   "version": "3.6.4"
  }
 },
 "nbformat": 4,
 "nbformat_minor": 2
}
