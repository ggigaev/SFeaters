{
 "cells": [
  {
   "cell_type": "code",
   "execution_count": 49,
   "metadata": {},
   "outputs": [],
   "source": [
    "import numpy as np\n",
    "import pandas as pd\n",
    "from sklearn.ensemble import GradientBoostingRegressor, GradientBoostingClassifier\n",
    "from sklearn.model_selection import train_test_split\n",
    "import matplotlib.pyplot as plt\n",
    "from mpl_toolkits.mplot3d import Axes3D\n",
    "plt.style.use('seaborn-notebook')\n",
    "%matplotlib inline\n",
    "import csv\n",
    "import src.scrubbing as scrubbing\n",
    "import src.utility \n",
    "from sklearn.model_selection import cross_val_score"
   ]
  },
  {
   "cell_type": "code",
   "execution_count": 50,
   "metadata": {},
   "outputs": [],
   "source": [
    "feature_names = ['p7_9','p10_12', 'p13_18', 'p19_24', 'p25_36', '94013', '94014', '94080', '94101', '94102', '94103', '94104',\n",
    "       '94105', '94107', '94108', '94109', '94110', '94111', '94112', '94114',\n",
    "       '94115', '94116', '94117', '94118', '94120', '94121', '94122', '94123',\n",
    "       '94124', '94127', '94129', '94130', '94131', '94132', '94133', '94134',\n",
    "       '94143', '94158']"
   ]
  },
  {
   "cell_type": "code",
   "execution_count": 51,
   "metadata": {},
   "outputs": [],
   "source": [
    "df8 = pd.read_pickle('data/sf_inspection_master.pkl')"
   ]
  },
  {
   "cell_type": "code",
   "execution_count": 52,
   "metadata": {},
   "outputs": [],
   "source": [
    "y = df8['y_label']\n",
    "X = df8[feature_names]"
   ]
  },
  {
   "cell_type": "code",
   "execution_count": 53,
   "metadata": {},
   "outputs": [],
   "source": [
    "X_tr, X_test, y_tr, y_test = train_test_split(X, y, test_size=0.20, random_state=38)"
   ]
  },
  {
   "cell_type": "code",
   "execution_count": 54,
   "metadata": {},
   "outputs": [],
   "source": [
    "X_train, X_validation, y_train, y_validation = train_test_split(X_tr, y_tr, test_size=0.25, random_state=28)"
   ]
  },
  {
   "cell_type": "markdown",
   "metadata": {},
   "source": [
    "# Gradient Boosting Model"
   ]
  },
  {
   "cell_type": "code",
   "execution_count": 66,
   "metadata": {},
   "outputs": [
    {
     "name": "stdout",
     "output_type": "stream",
     "text": [
      "Learning rate:  0.05\n",
      "Accuracy score (training): 0.633\n",
      "Accuracy score (validation): 0.613\n",
      "Learning rate:  0.1\n",
      "Accuracy score (training): 0.720\n",
      "Accuracy score (validation): 0.667\n",
      "Learning rate:  0.25\n",
      "Accuracy score (training): 0.742\n",
      "Accuracy score (validation): 0.704\n",
      "Learning rate:  0.5\n",
      "Accuracy score (training): 0.752\n",
      "Accuracy score (validation): 0.702\n",
      "Learning rate:  0.75\n",
      "Accuracy score (training): 0.758\n",
      "Accuracy score (validation): 0.707\n",
      "Learning rate:  1\n",
      "Accuracy score (training): 0.761\n",
      "Accuracy score (validation): 0.702\n"
     ]
    }
   ],
   "source": [
    "learning_rates = [0.05, 0.1, 0.25, 0.5, 0.75, 1]\n",
    "for learning_rate in learning_rates:\n",
    "    gb = GradientBoostingClassifier(n_estimators=20, learning_rate = learning_rate, max_features=2, max_depth = 5, random_state = 0)\n",
    "    gb.fit(X_train, y_train)\n",
    "    print(\"Learning rate: \", learning_rate)\n",
    "    print(\"Accuracy score (training): {0:.3f}\".format(gb.score(X_train, y_train)))\n",
    "    print(\"Accuracy score (validation): {0:.3f}\".format(gb.score(X_validation, y_validation)))"
   ]
  },
  {
   "cell_type": "code",
   "execution_count": 78,
   "metadata": {},
   "outputs": [
    {
     "name": "stdout",
     "output_type": "stream",
     "text": [
      "Accuracy score (training): 0.776\n",
      "Accuracy score (validation): 0.711\n"
     ]
    }
   ],
   "source": [
    "# Let's use learning rate of 0.5\n",
    "gb = GradientBoostingClassifier(n_estimators=40, learning_rate = 0.5, max_features=2, max_depth = 5, random_state = 0)\n",
    "gb.fit(X_train, y_train)\n",
    "print(\"Accuracy score (training): {0:.3f}\".format(gb.score(X_train, y_train)))\n",
    "print(\"Accuracy score (validation): {0:.3f}\".format(gb.score(X_validation, y_validation)))\n",
    "# The \"validation\" here is a correct term. It is not a \"test\" set."
   ]
  },
  {
   "cell_type": "code",
   "execution_count": 79,
   "metadata": {},
   "outputs": [],
   "source": [
    "scores = cross_val_score(gb, X_tr, y_tr, cv=5)"
   ]
  },
  {
   "cell_type": "code",
   "execution_count": 80,
   "metadata": {},
   "outputs": [
    {
     "data": {
      "text/plain": [
       "array([0.69299363, 0.70498084, 0.71392082, 0.70498084, 0.68965517])"
      ]
     },
     "execution_count": 80,
     "metadata": {},
     "output_type": "execute_result"
    }
   ],
   "source": [
    "scores"
   ]
  },
  {
   "cell_type": "code",
   "execution_count": 81,
   "metadata": {},
   "outputs": [
    {
     "data": {
      "text/plain": [
       "0.701306261235978"
      ]
     },
     "execution_count": 81,
     "metadata": {},
     "output_type": "execute_result"
    }
   ],
   "source": [
    "sum(scores)/len(scores)"
   ]
  },
  {
   "cell_type": "markdown",
   "metadata": {},
   "source": [
    "## Max depth"
   ]
  },
  {
   "cell_type": "code",
   "execution_count": 71,
   "metadata": {},
   "outputs": [
    {
     "name": "stdout",
     "output_type": "stream",
     "text": [
      "Max Depth:  2\n",
      "Accuracy score (training): 0.646\n",
      "Accuracy score (validation): 0.639\n",
      "Max Depth:  3\n",
      "Accuracy score (training): 0.687\n",
      "Accuracy score (validation): 0.680\n",
      "Max Depth:  4\n",
      "Accuracy score (training): 0.733\n",
      "Accuracy score (validation): 0.709\n",
      "Max Depth:  5\n",
      "Accuracy score (training): 0.758\n",
      "Accuracy score (validation): 0.720\n",
      "Max Depth:  6\n",
      "Accuracy score (training): 0.774\n",
      "Accuracy score (validation): 0.717\n",
      "Max Depth:  7\n",
      "Accuracy score (training): 0.813\n",
      "Accuracy score (validation): 0.705\n",
      "Max Depth:  8\n",
      "Accuracy score (training): 0.831\n",
      "Accuracy score (validation): 0.708\n",
      "Max Depth:  100\n",
      "Accuracy score (training): 0.886\n",
      "Accuracy score (validation): 0.687\n"
     ]
    }
   ],
   "source": [
    "max_depths = [2, 3, 4, 5, 6, 7, 8, 100]\n",
    "for max_depth in max_depths:\n",
    "    gb = GradientBoostingClassifier(n_estimators=20, learning_rate = 0.5, max_features=2, max_depth = max_depth, random_state = 38)\n",
    "    gb.fit(X_train, y_train)\n",
    "    print(\"Max Depth: \", max_depth)\n",
    "    print(\"Accuracy score (training): {0:.3f}\".format(gb.score(X_train, y_train)))\n",
    "    print(\"Accuracy score (validation): {0:.3f}\".format(gb.score(X_validation, y_validation)))"
   ]
  },
  {
   "cell_type": "markdown",
   "metadata": {},
   "source": [
    "## n_estimators"
   ]
  },
  {
   "cell_type": "code",
   "execution_count": 77,
   "metadata": {},
   "outputs": [
    {
     "name": "stdout",
     "output_type": "stream",
     "text": [
      "n_estimator:  20\n",
      "Accuracy score (training): 0.758\n",
      "Accuracy score (validation): 0.720\n",
      "n_estimator:  25\n",
      "Accuracy score (training): 0.762\n",
      "Accuracy score (validation): 0.727\n",
      "n_estimator:  30\n",
      "Accuracy score (training): 0.772\n",
      "Accuracy score (validation): 0.723\n",
      "n_estimator:  35\n",
      "Accuracy score (training): 0.774\n",
      "Accuracy score (validation): 0.720\n",
      "n_estimator:  40\n",
      "Accuracy score (training): 0.782\n",
      "Accuracy score (validation): 0.728\n",
      "n_estimator:  45\n",
      "Accuracy score (training): 0.784\n",
      "Accuracy score (validation): 0.727\n",
      "n_estimator:  50\n",
      "Accuracy score (training): 0.790\n",
      "Accuracy score (validation): 0.724\n",
      "n_estimator:  55\n",
      "Accuracy score (training): 0.794\n",
      "Accuracy score (validation): 0.730\n",
      "n_estimator:  60\n",
      "Accuracy score (training): 0.801\n",
      "Accuracy score (validation): 0.718\n"
     ]
    }
   ],
   "source": [
    "n_estimators = [20, 25, 30, 35, 40, 45, 50, 55, 60]\n",
    "for n_estimator in n_estimators:\n",
    "    gb = GradientBoostingClassifier(n_estimators=n_estimator, learning_rate = 0.5, max_features=2, max_depth = 5, random_state = 38)\n",
    "    gb.fit(X_train, y_train)\n",
    "    print(\"n_estimator: \", n_estimator)\n",
    "    print(\"Accuracy score (training): {0:.3f}\".format(gb.score(X_train, y_train)))\n",
    "    print(\"Accuracy score (validation): {0:.3f}\".format(gb.score(X_validation, y_validation)))"
   ]
  },
  {
   "cell_type": "code",
   "execution_count": null,
   "metadata": {},
   "outputs": [],
   "source": []
  },
  {
   "cell_type": "code",
   "execution_count": null,
   "metadata": {},
   "outputs": [],
   "source": []
  },
  {
   "cell_type": "code",
   "execution_count": null,
   "metadata": {},
   "outputs": [],
   "source": []
  }
 ],
 "metadata": {
  "kernelspec": {
   "display_name": "Python 3",
   "language": "python",
   "name": "python3"
  },
  "language_info": {
   "codemirror_mode": {
    "name": "ipython",
    "version": 3
   },
   "file_extension": ".py",
   "mimetype": "text/x-python",
   "name": "python",
   "nbconvert_exporter": "python",
   "pygments_lexer": "ipython3",
   "version": "3.6.4"
  }
 },
 "nbformat": 4,
 "nbformat_minor": 2
}
