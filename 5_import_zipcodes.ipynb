{
 "cells": [
  {
   "cell_type": "code",
   "execution_count": 71,
   "metadata": {},
   "outputs": [],
   "source": [
    "import numpy as np\n",
    "import pandas as pd\n",
    "from sklearn.linear_model import LogisticRegression\n",
    "from sklearn.ensemble import GradientBoostingRegressor, GradientBoostingClassifier\n",
    "from sklearn.model_selection import train_test_split\n",
    "import matplotlib.pyplot as plt\n",
    "from mpl_toolkits.mplot3d import Axes3D\n",
    "plt.style.use('seaborn-notebook')\n",
    "%matplotlib inline"
   ]
  },
  {
   "cell_type": "code",
   "execution_count": 72,
   "metadata": {},
   "outputs": [],
   "source": [
    "df = pd.read_csv('data/ready4model_v2.csv')"
   ]
  },
  {
   "cell_type": "code",
   "execution_count": 73,
   "metadata": {},
   "outputs": [
    {
     "data": {
      "text/plain": [
       "159"
      ]
     },
     "execution_count": 73,
     "metadata": {},
     "output_type": "execute_result"
    }
   ],
   "source": [
    "df['business_postal_code'].isnull().sum()"
   ]
  },
  {
   "cell_type": "code",
   "execution_count": 74,
   "metadata": {},
   "outputs": [
    {
     "data": {
      "text/html": [
       "<div>\n",
       "<style scoped>\n",
       "    .dataframe tbody tr th:only-of-type {\n",
       "        vertical-align: middle;\n",
       "    }\n",
       "\n",
       "    .dataframe tbody tr th {\n",
       "        vertical-align: top;\n",
       "    }\n",
       "\n",
       "    .dataframe thead th {\n",
       "        text-align: right;\n",
       "    }\n",
       "</style>\n",
       "<table border=\"1\" class=\"dataframe\">\n",
       "  <thead>\n",
       "    <tr style=\"text-align: right;\">\n",
       "      <th></th>\n",
       "      <th>Unnamed: 0</th>\n",
       "      <th>Unnamed: 0.1</th>\n",
       "      <th>business_id</th>\n",
       "      <th>business_name</th>\n",
       "      <th>business_address</th>\n",
       "      <th>business_city</th>\n",
       "      <th>business_state</th>\n",
       "      <th>business_postal_code</th>\n",
       "      <th>business_latitude</th>\n",
       "      <th>business_longitude</th>\n",
       "      <th>...</th>\n",
       "      <th>short_inspect_date</th>\n",
       "      <th>short_violation_id</th>\n",
       "      <th>inspect_date</th>\n",
       "      <th>p1_3</th>\n",
       "      <th>p4_6</th>\n",
       "      <th>p7_9</th>\n",
       "      <th>p10_12</th>\n",
       "      <th>p13_18</th>\n",
       "      <th>p19_24</th>\n",
       "      <th>p25_36</th>\n",
       "    </tr>\n",
       "  </thead>\n",
       "  <tbody>\n",
       "    <tr>\n",
       "      <th>0</th>\n",
       "      <td>0</td>\n",
       "      <td>0</td>\n",
       "      <td>1757</td>\n",
       "      <td>Dar Bar Pakistani/Indian Cusine</td>\n",
       "      <td>1412 Polk St</td>\n",
       "      <td>San Francisco</td>\n",
       "      <td>CA</td>\n",
       "      <td>94109</td>\n",
       "      <td>37.789784</td>\n",
       "      <td>-122.420455</td>\n",
       "      <td>...</td>\n",
       "      <td>20170928</td>\n",
       "      <td>103131</td>\n",
       "      <td>2017-09-28</td>\n",
       "      <td>0</td>\n",
       "      <td>0</td>\n",
       "      <td>5</td>\n",
       "      <td>0</td>\n",
       "      <td>0</td>\n",
       "      <td>6</td>\n",
       "      <td>5</td>\n",
       "    </tr>\n",
       "  </tbody>\n",
       "</table>\n",
       "<p>1 rows × 29 columns</p>\n",
       "</div>"
      ],
      "text/plain": [
       "   Unnamed: 0  Unnamed: 0.1  business_id                    business_name  \\\n",
       "0           0             0         1757  Dar Bar Pakistani/Indian Cusine   \n",
       "\n",
       "  business_address  business_city business_state business_postal_code  \\\n",
       "0     1412 Polk St  San Francisco             CA                94109   \n",
       "\n",
       "   business_latitude  business_longitude   ...   short_inspect_date  \\\n",
       "0          37.789784         -122.420455   ...             20170928   \n",
       "\n",
       "   short_violation_id inspect_date p1_3  p4_6 p7_9 p10_12 p13_18 p19_24  \\\n",
       "0              103131   2017-09-28    0     0    5      0      0      6   \n",
       "\n",
       "   p25_36  \n",
       "0       5  \n",
       "\n",
       "[1 rows x 29 columns]"
      ]
     },
     "execution_count": 74,
     "metadata": {},
     "output_type": "execute_result"
    }
   ],
   "source": [
    "df.head(1)"
   ]
  },
  {
   "cell_type": "code",
   "execution_count": 75,
   "metadata": {},
   "outputs": [],
   "source": [
    "# SF business locations file\n",
    "df_b = pd.read_csv('data/Registered_Business_Locations_-_San_Francisco.csv')"
   ]
  },
  {
   "cell_type": "code",
   "execution_count": 76,
   "metadata": {},
   "outputs": [
    {
     "data": {
      "text/plain": [
       "Index(['Location Id', 'Business Account Number', 'Ownership Name', 'DBA Name',\n",
       "       'Street Address', 'City', 'State', 'Source Zipcode',\n",
       "       'Business Start Date', 'Business End Date', 'Location Start Date',\n",
       "       'Location End Date', 'Mail Address', 'Mail City', 'Mail Zipcode',\n",
       "       'Mail State', 'NAICS Code', 'NAICS Code Description', 'Parking Tax',\n",
       "       'Transient Occupancy Tax', 'LIC Code', 'LIC Code Description',\n",
       "       'Supervisor District', 'Neighborhoods - Analysis Boundaries',\n",
       "       'Business Corridor', 'Business Location'],\n",
       "      dtype='object')"
      ]
     },
     "execution_count": 76,
     "metadata": {},
     "output_type": "execute_result"
    }
   ],
   "source": [
    "df_b.columns"
   ]
  },
  {
   "cell_type": "code",
   "execution_count": 77,
   "metadata": {},
   "outputs": [
    {
     "data": {
      "text/html": [
       "<div>\n",
       "<style scoped>\n",
       "    .dataframe tbody tr th:only-of-type {\n",
       "        vertical-align: middle;\n",
       "    }\n",
       "\n",
       "    .dataframe tbody tr th {\n",
       "        vertical-align: top;\n",
       "    }\n",
       "\n",
       "    .dataframe thead th {\n",
       "        text-align: right;\n",
       "    }\n",
       "</style>\n",
       "<table border=\"1\" class=\"dataframe\">\n",
       "  <thead>\n",
       "    <tr style=\"text-align: right;\">\n",
       "      <th></th>\n",
       "      <th>Street Address</th>\n",
       "      <th>Source Zipcode</th>\n",
       "      <th>Business Start Date</th>\n",
       "    </tr>\n",
       "  </thead>\n",
       "  <tbody>\n",
       "    <tr>\n",
       "      <th>0</th>\n",
       "      <td>550 Gene Friend Way</td>\n",
       "      <td>94158.0</td>\n",
       "      <td>12/01/2012</td>\n",
       "    </tr>\n",
       "    <tr>\n",
       "      <th>1</th>\n",
       "      <td>865 Market St #9001</td>\n",
       "      <td>94103.0</td>\n",
       "      <td>12/01/2012</td>\n",
       "    </tr>\n",
       "  </tbody>\n",
       "</table>\n",
       "</div>"
      ],
      "text/plain": [
       "        Street Address  Source Zipcode Business Start Date\n",
       "0  550 Gene Friend Way         94158.0          12/01/2012\n",
       "1  865 Market St #9001         94103.0          12/01/2012"
      ]
     },
     "execution_count": 77,
     "metadata": {},
     "output_type": "execute_result"
    }
   ],
   "source": [
    "# Source zip code is the correct one for the location of the business, not mail zipcode\n",
    "df_b[['Street Address', 'Source Zipcode', 'Business Start Date']].head(2)"
   ]
  },
  {
   "cell_type": "markdown",
   "metadata": {},
   "source": [
    "# Identify and import zip code from SF business loc. \n",
    "Use address instead of business names, since there are no business names in SF business loc file."
   ]
  },
  {
   "cell_type": "code",
   "execution_count": 78,
   "metadata": {},
   "outputs": [
    {
     "data": {
      "text/html": [
       "<div>\n",
       "<style scoped>\n",
       "    .dataframe tbody tr th:only-of-type {\n",
       "        vertical-align: middle;\n",
       "    }\n",
       "\n",
       "    .dataframe tbody tr th {\n",
       "        vertical-align: top;\n",
       "    }\n",
       "\n",
       "    .dataframe thead th {\n",
       "        text-align: right;\n",
       "    }\n",
       "</style>\n",
       "<table border=\"1\" class=\"dataframe\">\n",
       "  <thead>\n",
       "    <tr style=\"text-align: right;\">\n",
       "      <th></th>\n",
       "      <th>Street Address</th>\n",
       "      <th>Source Zipcode</th>\n",
       "      <th>Business Start Date</th>\n",
       "    </tr>\n",
       "  </thead>\n",
       "  <tbody>\n",
       "    <tr>\n",
       "      <th>0</th>\n",
       "      <td>550 Gene Friend Way</td>\n",
       "      <td>94158.0</td>\n",
       "      <td>12/01/2012</td>\n",
       "    </tr>\n",
       "  </tbody>\n",
       "</table>\n",
       "</div>"
      ],
      "text/plain": [
       "        Street Address  Source Zipcode Business Start Date\n",
       "0  550 Gene Friend Way         94158.0          12/01/2012"
      ]
     },
     "execution_count": 78,
     "metadata": {},
     "output_type": "execute_result"
    }
   ],
   "source": [
    "df_b_3cols = df_b[['Street Address', 'Source Zipcode', 'Business Start Date']]\n",
    "df_b_3cols.head(1)"
   ]
  },
  {
   "cell_type": "markdown",
   "metadata": {},
   "source": [
    "## let's identify missing zip code from df"
   ]
  },
  {
   "cell_type": "code",
   "execution_count": 79,
   "metadata": {},
   "outputs": [],
   "source": [
    "df2 = df[['business_postal_code', 'business_address', 'business_name']]"
   ]
  },
  {
   "cell_type": "code",
   "execution_count": 80,
   "metadata": {},
   "outputs": [
    {
     "data": {
      "text/html": [
       "<div>\n",
       "<style scoped>\n",
       "    .dataframe tbody tr th:only-of-type {\n",
       "        vertical-align: middle;\n",
       "    }\n",
       "\n",
       "    .dataframe tbody tr th {\n",
       "        vertical-align: top;\n",
       "    }\n",
       "\n",
       "    .dataframe thead th {\n",
       "        text-align: right;\n",
       "    }\n",
       "</style>\n",
       "<table border=\"1\" class=\"dataframe\">\n",
       "  <thead>\n",
       "    <tr style=\"text-align: right;\">\n",
       "      <th></th>\n",
       "      <th>business_postal_code</th>\n",
       "      <th>business_address</th>\n",
       "      <th>business_name</th>\n",
       "    </tr>\n",
       "  </thead>\n",
       "  <tbody>\n",
       "    <tr>\n",
       "      <th>0</th>\n",
       "      <td>94109</td>\n",
       "      <td>1412 Polk St</td>\n",
       "      <td>Dar Bar Pakistani/Indian Cusine</td>\n",
       "    </tr>\n",
       "  </tbody>\n",
       "</table>\n",
       "</div>"
      ],
      "text/plain": [
       "  business_postal_code business_address                    business_name\n",
       "0                94109     1412 Polk St  Dar Bar Pakistani/Indian Cusine"
      ]
     },
     "execution_count": 80,
     "metadata": {},
     "output_type": "execute_result"
    }
   ],
   "source": [
    "df2.head(1)"
   ]
  },
  {
   "cell_type": "code",
   "execution_count": 81,
   "metadata": {},
   "outputs": [
    {
     "data": {
      "text/html": [
       "<div>\n",
       "<style scoped>\n",
       "    .dataframe tbody tr th:only-of-type {\n",
       "        vertical-align: middle;\n",
       "    }\n",
       "\n",
       "    .dataframe tbody tr th {\n",
       "        vertical-align: top;\n",
       "    }\n",
       "\n",
       "    .dataframe thead th {\n",
       "        text-align: right;\n",
       "    }\n",
       "</style>\n",
       "<table border=\"1\" class=\"dataframe\">\n",
       "  <thead>\n",
       "    <tr style=\"text-align: right;\">\n",
       "      <th></th>\n",
       "      <th>business_postal_code</th>\n",
       "      <th>business_address</th>\n",
       "      <th>business_name</th>\n",
       "    </tr>\n",
       "  </thead>\n",
       "  <tbody>\n",
       "    <tr>\n",
       "      <th>11</th>\n",
       "      <td>NaN</td>\n",
       "      <td>Off The Grid</td>\n",
       "      <td>Don Pablo</td>\n",
       "    </tr>\n",
       "    <tr>\n",
       "      <th>21</th>\n",
       "      <td>NaN</td>\n",
       "      <td>Golden Gate Park</td>\n",
       "      <td>Sam's Chowder Mobile</td>\n",
       "    </tr>\n",
       "  </tbody>\n",
       "</table>\n",
       "</div>"
      ],
      "text/plain": [
       "   business_postal_code  business_address         business_name\n",
       "11                  NaN      Off The Grid             Don Pablo\n",
       "21                  NaN  Golden Gate Park  Sam's Chowder Mobile"
      ]
     },
     "execution_count": 81,
     "metadata": {},
     "output_type": "execute_result"
    }
   ],
   "source": [
    "df_nozip = df2[df2['business_postal_code'].isnull()]\n",
    "df_nozip.head(2)"
   ]
  },
  {
   "cell_type": "code",
   "execution_count": 82,
   "metadata": {},
   "outputs": [],
   "source": [
    "list_nozip_address = df_nozip['business_address'].tolist()"
   ]
  },
  {
   "cell_type": "code",
   "execution_count": 83,
   "metadata": {},
   "outputs": [
    {
     "data": {
      "text/plain": [
       "['Off The Grid',\n",
       " 'Golden Gate Park',\n",
       " '1051 Market St',\n",
       " '510 Stevenson St',\n",
       " '3331 24th St',\n",
       " 'Off The Grid',\n",
       " '6134 Geary Blvd',\n",
       " '3055 23rd St',\n",
       " '79 Sansome St',\n",
       " 'Off the Grid']"
      ]
     },
     "execution_count": 83,
     "metadata": {},
     "output_type": "execute_result"
    }
   ],
   "source": [
    "list_nozip_address[:10]"
   ]
  },
  {
   "cell_type": "code",
   "execution_count": 106,
   "metadata": {},
   "outputs": [],
   "source": [
    "# as seen above SF inspection file is missing addresses, like 'Off The Grid' - many of this."
   ]
  },
  {
   "cell_type": "code",
   "execution_count": 121,
   "metadata": {},
   "outputs": [
    {
     "name": "stdout",
     "output_type": "stream",
     "text": [
      "The number of \"Off The Grid\" is 37.\n",
      "The number of \"Off the Grid\" is 10.\n"
     ]
    }
   ],
   "source": [
    "# How many 'Off The Grid' and 'Off the Grid'?\n",
    "t208 = df_nozip['business_address']\n",
    "n1_off_the_grid = t208[t208=='Off The Grid'].count()\n",
    "n2_off_the_grid = t208[t208=='Off the Grid'].count()\n",
    "print('The number of \"Off The Grid\" is {}.\\nThe number of \"Off the Grid\" is {}.'.\n",
    "      format(n1_off_the_grid, n2_off_the_grid))"
   ]
  },
  {
   "cell_type": "code",
   "execution_count": 84,
   "metadata": {},
   "outputs": [],
   "source": [
    "# let's identify '1051 Market St' zip code in SF business loc"
   ]
  },
  {
   "cell_type": "code",
   "execution_count": 85,
   "metadata": {},
   "outputs": [
    {
     "data": {
      "text/html": [
       "<div>\n",
       "<style scoped>\n",
       "    .dataframe tbody tr th:only-of-type {\n",
       "        vertical-align: middle;\n",
       "    }\n",
       "\n",
       "    .dataframe tbody tr th {\n",
       "        vertical-align: top;\n",
       "    }\n",
       "\n",
       "    .dataframe thead th {\n",
       "        text-align: right;\n",
       "    }\n",
       "</style>\n",
       "<table border=\"1\" class=\"dataframe\">\n",
       "  <thead>\n",
       "    <tr style=\"text-align: right;\">\n",
       "      <th></th>\n",
       "      <th>Street Address</th>\n",
       "      <th>Source Zipcode</th>\n",
       "      <th>Business Start Date</th>\n",
       "    </tr>\n",
       "  </thead>\n",
       "  <tbody>\n",
       "    <tr>\n",
       "      <th>65775</th>\n",
       "      <td>1051 Market St</td>\n",
       "      <td>94103.0</td>\n",
       "      <td>02/01/2008</td>\n",
       "    </tr>\n",
       "    <tr>\n",
       "      <th>135617</th>\n",
       "      <td>1051 Market St</td>\n",
       "      <td>94103.0</td>\n",
       "      <td>12/17/2014</td>\n",
       "    </tr>\n",
       "    <tr>\n",
       "      <th>214983</th>\n",
       "      <td>1051 Market St</td>\n",
       "      <td>94103.0</td>\n",
       "      <td>09/01/2013</td>\n",
       "    </tr>\n",
       "  </tbody>\n",
       "</table>\n",
       "</div>"
      ],
      "text/plain": [
       "        Street Address  Source Zipcode Business Start Date\n",
       "65775   1051 Market St         94103.0          02/01/2008\n",
       "135617  1051 Market St         94103.0          12/17/2014\n",
       "214983  1051 Market St         94103.0          09/01/2013"
      ]
     },
     "execution_count": 85,
     "metadata": {},
     "output_type": "execute_result"
    }
   ],
   "source": [
    "df_b_3cols[df_b_3cols['Street Address'] == '1051 Market St']\n",
    "# The latest business is the one in operaton currently, obviously"
   ]
  },
  {
   "cell_type": "code",
   "execution_count": 86,
   "metadata": {},
   "outputs": [],
   "source": [
    "# Let's get the list of street address and zipcodes"
   ]
  },
  {
   "cell_type": "code",
   "execution_count": 87,
   "metadata": {},
   "outputs": [
    {
     "data": {
      "text/html": [
       "<div>\n",
       "<style scoped>\n",
       "    .dataframe tbody tr th:only-of-type {\n",
       "        vertical-align: middle;\n",
       "    }\n",
       "\n",
       "    .dataframe tbody tr th {\n",
       "        vertical-align: top;\n",
       "    }\n",
       "\n",
       "    .dataframe thead th {\n",
       "        text-align: right;\n",
       "    }\n",
       "</style>\n",
       "<table border=\"1\" class=\"dataframe\">\n",
       "  <thead>\n",
       "    <tr style=\"text-align: right;\">\n",
       "      <th></th>\n",
       "      <th>Street Address</th>\n",
       "      <th>Source Zipcode</th>\n",
       "      <th>Business Start Date</th>\n",
       "    </tr>\n",
       "  </thead>\n",
       "  <tbody>\n",
       "    <tr>\n",
       "      <th>322</th>\n",
       "      <td>1355 Market St</td>\n",
       "      <td>94103.0</td>\n",
       "      <td>12/31/2015</td>\n",
       "    </tr>\n",
       "    <tr>\n",
       "      <th>2978</th>\n",
       "      <td>236 Townsend St</td>\n",
       "      <td>94107.0</td>\n",
       "      <td>10/28/2013</td>\n",
       "    </tr>\n",
       "    <tr>\n",
       "      <th>4553</th>\n",
       "      <td>428 11th St</td>\n",
       "      <td>94103.0</td>\n",
       "      <td>01/26/2017</td>\n",
       "    </tr>\n",
       "  </tbody>\n",
       "</table>\n",
       "</div>"
      ],
      "text/plain": [
       "       Street Address  Source Zipcode Business Start Date\n",
       "322    1355 Market St         94103.0          12/31/2015\n",
       "2978  236 Townsend St         94107.0          10/28/2013\n",
       "4553      428 11th St         94103.0          01/26/2017"
      ]
     },
     "execution_count": 87,
     "metadata": {},
     "output_type": "execute_result"
    }
   ],
   "source": [
    "df_b_matching_ones = df_b_3cols[df_b_3cols['Street Address'].isin(list_nozip_address)]\n",
    "df_b_matching_ones.head(3)"
   ]
  },
  {
   "cell_type": "code",
   "execution_count": 88,
   "metadata": {},
   "outputs": [
    {
     "data": {
      "text/plain": [
       "Off The Grid                  37\n",
       "Off the Grid                  10\n",
       "Approved Locations             4\n",
       "Approved Private Locations     3\n",
       "Justin Herman Plaza            2\n",
       "203 Parnassus Ave              1\n",
       "1051 Market St                 1\n",
       "Name: business_address, dtype: int64"
      ]
     },
     "execution_count": 88,
     "metadata": {},
     "output_type": "execute_result"
    }
   ],
   "source": [
    "df_nozip['business_address'].value_counts()[:7]"
   ]
  },
  {
   "cell_type": "code",
   "execution_count": 89,
   "metadata": {},
   "outputs": [
    {
     "name": "stdout",
     "output_type": "stream",
     "text": [
      "There are 159 businesses with no zip codes in SF inspection.\n",
      "There are 47 addresses with \"Off The Grid\" in SF inspection\n",
      "So we can only save 112 zip codes.\n"
     ]
    }
   ],
   "source": [
    "aaa = len(df_nozip['business_address'])\n",
    "print('There are {} businesses with no zip codes in SF inspection.'.format(aaa))\n",
    "print('There are 47 addresses with \"Off The Grid\" in SF inspection')\n",
    "print('So we can only save 112 zip codes.')"
   ]
  },
  {
   "cell_type": "code",
   "execution_count": 90,
   "metadata": {},
   "outputs": [],
   "source": [
    "# Let's read addresses from list_nozip_address list. And read thru df_b_matching_ones for matching addresses.\n",
    "# Once match address occurs, grap its zip code and paste onto df_update_zipcode."
   ]
  },
  {
   "cell_type": "code",
   "execution_count": 91,
   "metadata": {},
   "outputs": [],
   "source": [
    "df_update_zipcode = df[:]"
   ]
  },
  {
   "cell_type": "code",
   "execution_count": 92,
   "metadata": {},
   "outputs": [
    {
     "data": {
      "text/html": [
       "<div>\n",
       "<style scoped>\n",
       "    .dataframe tbody tr th:only-of-type {\n",
       "        vertical-align: middle;\n",
       "    }\n",
       "\n",
       "    .dataframe tbody tr th {\n",
       "        vertical-align: top;\n",
       "    }\n",
       "\n",
       "    .dataframe thead th {\n",
       "        text-align: right;\n",
       "    }\n",
       "</style>\n",
       "<table border=\"1\" class=\"dataframe\">\n",
       "  <thead>\n",
       "    <tr style=\"text-align: right;\">\n",
       "      <th></th>\n",
       "      <th>Unnamed: 0</th>\n",
       "      <th>Unnamed: 0.1</th>\n",
       "      <th>business_id</th>\n",
       "      <th>business_name</th>\n",
       "      <th>business_address</th>\n",
       "      <th>business_city</th>\n",
       "      <th>business_state</th>\n",
       "      <th>business_postal_code</th>\n",
       "      <th>business_latitude</th>\n",
       "      <th>business_longitude</th>\n",
       "      <th>...</th>\n",
       "      <th>short_inspect_date</th>\n",
       "      <th>short_violation_id</th>\n",
       "      <th>inspect_date</th>\n",
       "      <th>p1_3</th>\n",
       "      <th>p4_6</th>\n",
       "      <th>p7_9</th>\n",
       "      <th>p10_12</th>\n",
       "      <th>p13_18</th>\n",
       "      <th>p19_24</th>\n",
       "      <th>p25_36</th>\n",
       "    </tr>\n",
       "  </thead>\n",
       "  <tbody>\n",
       "    <tr>\n",
       "      <th>0</th>\n",
       "      <td>0</td>\n",
       "      <td>0</td>\n",
       "      <td>1757</td>\n",
       "      <td>Dar Bar Pakistani/Indian Cusine</td>\n",
       "      <td>1412 Polk St</td>\n",
       "      <td>San Francisco</td>\n",
       "      <td>CA</td>\n",
       "      <td>94109</td>\n",
       "      <td>37.789784</td>\n",
       "      <td>-122.420455</td>\n",
       "      <td>...</td>\n",
       "      <td>20170928</td>\n",
       "      <td>103131</td>\n",
       "      <td>2017-09-28</td>\n",
       "      <td>0</td>\n",
       "      <td>0</td>\n",
       "      <td>5</td>\n",
       "      <td>0</td>\n",
       "      <td>0</td>\n",
       "      <td>6</td>\n",
       "      <td>5</td>\n",
       "    </tr>\n",
       "    <tr>\n",
       "      <th>1</th>\n",
       "      <td>1</td>\n",
       "      <td>1</td>\n",
       "      <td>4864</td>\n",
       "      <td>DRAGON CITY BAKERY &amp; CAFE</td>\n",
       "      <td>2367 MISSION St</td>\n",
       "      <td>San Francisco</td>\n",
       "      <td>CA</td>\n",
       "      <td>94110</td>\n",
       "      <td>37.759174</td>\n",
       "      <td>-122.419066</td>\n",
       "      <td>...</td>\n",
       "      <td>20161206</td>\n",
       "      <td>103157</td>\n",
       "      <td>2016-12-06</td>\n",
       "      <td>0</td>\n",
       "      <td>6</td>\n",
       "      <td>0</td>\n",
       "      <td>0</td>\n",
       "      <td>5</td>\n",
       "      <td>5</td>\n",
       "      <td>3</td>\n",
       "    </tr>\n",
       "    <tr>\n",
       "      <th>2</th>\n",
       "      <td>2</td>\n",
       "      <td>2</td>\n",
       "      <td>79782</td>\n",
       "      <td>Deli 23</td>\n",
       "      <td>2449 23rd St</td>\n",
       "      <td>San Francisco</td>\n",
       "      <td>CA</td>\n",
       "      <td>94110</td>\n",
       "      <td>NaN</td>\n",
       "      <td>NaN</td>\n",
       "      <td>...</td>\n",
       "      <td>20160503</td>\n",
       "      <td>103120</td>\n",
       "      <td>2016-05-03</td>\n",
       "      <td>4</td>\n",
       "      <td>0</td>\n",
       "      <td>2</td>\n",
       "      <td>0</td>\n",
       "      <td>3</td>\n",
       "      <td>3</td>\n",
       "      <td>2</td>\n",
       "    </tr>\n",
       "  </tbody>\n",
       "</table>\n",
       "<p>3 rows × 29 columns</p>\n",
       "</div>"
      ],
      "text/plain": [
       "   Unnamed: 0  Unnamed: 0.1  business_id                    business_name  \\\n",
       "0           0             0         1757  Dar Bar Pakistani/Indian Cusine   \n",
       "1           1             1         4864        DRAGON CITY BAKERY & CAFE   \n",
       "2           2             2        79782                          Deli 23   \n",
       "\n",
       "  business_address  business_city business_state business_postal_code  \\\n",
       "0     1412 Polk St  San Francisco             CA                94109   \n",
       "1  2367 MISSION St  San Francisco             CA                94110   \n",
       "2     2449 23rd St  San Francisco             CA                94110   \n",
       "\n",
       "   business_latitude  business_longitude   ...   short_inspect_date  \\\n",
       "0          37.789784         -122.420455   ...             20170928   \n",
       "1          37.759174         -122.419066   ...             20161206   \n",
       "2                NaN                 NaN   ...             20160503   \n",
       "\n",
       "   short_violation_id inspect_date p1_3  p4_6 p7_9 p10_12 p13_18 p19_24  \\\n",
       "0              103131   2017-09-28    0     0    5      0      0      6   \n",
       "1              103157   2016-12-06    0     6    0      0      5      5   \n",
       "2              103120   2016-05-03    4     0    2      0      3      3   \n",
       "\n",
       "   p25_36  \n",
       "0       5  \n",
       "1       3  \n",
       "2       2  \n",
       "\n",
       "[3 rows x 29 columns]"
      ]
     },
     "execution_count": 92,
     "metadata": {},
     "output_type": "execute_result"
    }
   ],
   "source": [
    "df_update_zipcode.head(3)"
   ]
  },
  {
   "cell_type": "code",
   "execution_count": 93,
   "metadata": {},
   "outputs": [
    {
     "data": {
      "text/plain": [
       "1    94110\n",
       "Name: business_postal_code, dtype: object"
      ]
     },
     "execution_count": 93,
     "metadata": {},
     "output_type": "execute_result"
    }
   ],
   "source": [
    "idx = df_update_zipcode[df_update_zipcode['business_address'] == '2367 MISSION St'].index\n",
    "df_update_zipcode.loc[idx,'business_postal_code']"
   ]
  },
  {
   "cell_type": "code",
   "execution_count": 94,
   "metadata": {},
   "outputs": [],
   "source": [
    "# find matching addresses between SF inspection and SF business loc files and update the missing zip codes\n",
    "# in SF inspection\n",
    "for address in list_nozip_address:\n",
    "    for row in df_b_matching_ones.iterrows():\n",
    "        if address == row[1][0]:\n",
    "            idx = df_update_zipcode[df_update_zipcode['business_address'] == address].index\n",
    "            df_update_zipcode.loc[idx,'business_postal_code'] = row[1][1]"
   ]
  },
  {
   "cell_type": "code",
   "execution_count": 95,
   "metadata": {},
   "outputs": [
    {
     "data": {
      "text/plain": [
       "59"
      ]
     },
     "execution_count": 95,
     "metadata": {},
     "output_type": "execute_result"
    }
   ],
   "source": [
    "df_update_zipcode['business_postal_code'].isnull().sum()"
   ]
  },
  {
   "cell_type": "code",
   "execution_count": 96,
   "metadata": {},
   "outputs": [
    {
     "data": {
      "text/plain": [
       "59"
      ]
     },
     "execution_count": 96,
     "metadata": {},
     "output_type": "execute_result"
    }
   ],
   "source": [
    "df['business_postal_code'].isnull().sum()"
   ]
  },
  {
   "cell_type": "markdown",
   "metadata": {},
   "source": [
    "## Let's clean up df_update_zipcode"
   ]
  },
  {
   "cell_type": "code",
   "execution_count": 97,
   "metadata": {},
   "outputs": [
    {
     "data": {
      "text/html": [
       "<div>\n",
       "<style scoped>\n",
       "    .dataframe tbody tr th:only-of-type {\n",
       "        vertical-align: middle;\n",
       "    }\n",
       "\n",
       "    .dataframe tbody tr th {\n",
       "        vertical-align: top;\n",
       "    }\n",
       "\n",
       "    .dataframe thead th {\n",
       "        text-align: right;\n",
       "    }\n",
       "</style>\n",
       "<table border=\"1\" class=\"dataframe\">\n",
       "  <thead>\n",
       "    <tr style=\"text-align: right;\">\n",
       "      <th></th>\n",
       "      <th>Unnamed: 0</th>\n",
       "      <th>Unnamed: 0.1</th>\n",
       "      <th>business_id</th>\n",
       "      <th>business_name</th>\n",
       "      <th>business_address</th>\n",
       "      <th>business_city</th>\n",
       "      <th>business_state</th>\n",
       "      <th>business_postal_code</th>\n",
       "      <th>business_latitude</th>\n",
       "      <th>business_longitude</th>\n",
       "      <th>...</th>\n",
       "      <th>short_inspect_date</th>\n",
       "      <th>short_violation_id</th>\n",
       "      <th>inspect_date</th>\n",
       "      <th>p1_3</th>\n",
       "      <th>p4_6</th>\n",
       "      <th>p7_9</th>\n",
       "      <th>p10_12</th>\n",
       "      <th>p13_18</th>\n",
       "      <th>p19_24</th>\n",
       "      <th>p25_36</th>\n",
       "    </tr>\n",
       "  </thead>\n",
       "  <tbody>\n",
       "    <tr>\n",
       "      <th>0</th>\n",
       "      <td>0</td>\n",
       "      <td>0</td>\n",
       "      <td>1757</td>\n",
       "      <td>Dar Bar Pakistani/Indian Cusine</td>\n",
       "      <td>1412 Polk St</td>\n",
       "      <td>San Francisco</td>\n",
       "      <td>CA</td>\n",
       "      <td>94109</td>\n",
       "      <td>37.789784</td>\n",
       "      <td>-122.420455</td>\n",
       "      <td>...</td>\n",
       "      <td>20170928</td>\n",
       "      <td>103131</td>\n",
       "      <td>2017-09-28</td>\n",
       "      <td>0</td>\n",
       "      <td>0</td>\n",
       "      <td>5</td>\n",
       "      <td>0</td>\n",
       "      <td>0</td>\n",
       "      <td>6</td>\n",
       "      <td>5</td>\n",
       "    </tr>\n",
       "    <tr>\n",
       "      <th>1</th>\n",
       "      <td>1</td>\n",
       "      <td>1</td>\n",
       "      <td>4864</td>\n",
       "      <td>DRAGON CITY BAKERY &amp; CAFE</td>\n",
       "      <td>2367 MISSION St</td>\n",
       "      <td>San Francisco</td>\n",
       "      <td>CA</td>\n",
       "      <td>94110</td>\n",
       "      <td>37.759174</td>\n",
       "      <td>-122.419066</td>\n",
       "      <td>...</td>\n",
       "      <td>20161206</td>\n",
       "      <td>103157</td>\n",
       "      <td>2016-12-06</td>\n",
       "      <td>0</td>\n",
       "      <td>6</td>\n",
       "      <td>0</td>\n",
       "      <td>0</td>\n",
       "      <td>5</td>\n",
       "      <td>5</td>\n",
       "      <td>3</td>\n",
       "    </tr>\n",
       "  </tbody>\n",
       "</table>\n",
       "<p>2 rows × 29 columns</p>\n",
       "</div>"
      ],
      "text/plain": [
       "   Unnamed: 0  Unnamed: 0.1  business_id                    business_name  \\\n",
       "0           0             0         1757  Dar Bar Pakistani/Indian Cusine   \n",
       "1           1             1         4864        DRAGON CITY BAKERY & CAFE   \n",
       "\n",
       "  business_address  business_city business_state business_postal_code  \\\n",
       "0     1412 Polk St  San Francisco             CA                94109   \n",
       "1  2367 MISSION St  San Francisco             CA                94110   \n",
       "\n",
       "   business_latitude  business_longitude   ...   short_inspect_date  \\\n",
       "0          37.789784         -122.420455   ...             20170928   \n",
       "1          37.759174         -122.419066   ...             20161206   \n",
       "\n",
       "   short_violation_id inspect_date p1_3  p4_6 p7_9 p10_12 p13_18 p19_24  \\\n",
       "0              103131   2017-09-28    0     0    5      0      0      6   \n",
       "1              103157   2016-12-06    0     6    0      0      5      5   \n",
       "\n",
       "   p25_36  \n",
       "0       5  \n",
       "1       3  \n",
       "\n",
       "[2 rows x 29 columns]"
      ]
     },
     "execution_count": 97,
     "metadata": {},
     "output_type": "execute_result"
    }
   ],
   "source": [
    "df_update_zipcode.head(2)"
   ]
  },
  {
   "cell_type": "code",
   "execution_count": 98,
   "metadata": {},
   "outputs": [],
   "source": [
    "m520 = df_update_zipcode['business_postal_code'].isnull()"
   ]
  },
  {
   "cell_type": "code",
   "execution_count": 99,
   "metadata": {},
   "outputs": [],
   "source": [
    "# Let's assign all the null zip codes to 'zzzzz'\n",
    "idx = df_update_zipcode[m520]['business_postal_code'].index\n",
    "df_update_zipcode.loc[idx, 'business_postal_code'] = 'zzzzz'"
   ]
  },
  {
   "cell_type": "code",
   "execution_count": 100,
   "metadata": {},
   "outputs": [],
   "source": [
    "### next, convert float (94102.0) to string ('94102')"
   ]
  },
  {
   "cell_type": "code",
   "execution_count": 101,
   "metadata": {},
   "outputs": [],
   "source": [
    "for i in df_update_zipcode['business_postal_code']:\n",
    "    if isinstance(i, int):\n",
    "        print(i)"
   ]
  },
  {
   "cell_type": "code",
   "execution_count": null,
   "metadata": {},
   "outputs": [],
   "source": []
  },
  {
   "cell_type": "code",
   "execution_count": 102,
   "metadata": {},
   "outputs": [],
   "source": [
    "# NaN was assigned to 'zzzzz' and other junks like 'CA', '194' and so on were assigned to 'zzzzz' as well"
   ]
  },
  {
   "cell_type": "code",
   "execution_count": 103,
   "metadata": {},
   "outputs": [],
   "source": [
    "for index, row in df_update_zipcode[['business_postal_code', 'business_id']].iterrows():\n",
    "    n = row['business_postal_code']\n",
    "    if isinstance(n, float):\n",
    "        df_update_zipcode.loc[index, 'business_postal_code'] = str(int(n))\n",
    "    elif len(n) < 4:\n",
    "        df_update_zipcode.loc[index, 'business_postal_code'] = 'zzzzz'\n",
    "    elif len(n) == 9:\n",
    "        df_update_zipcode.loc[index, 'business_postal_code'] = str(n[:5])"
   ]
  },
  {
   "cell_type": "code",
   "execution_count": 104,
   "metadata": {},
   "outputs": [
    {
     "data": {
      "text/plain": [
       "array(['94109', '94110', '94103', '94108', '94102', '94134', '94118',\n",
       "       '94121', '94111', '94122', '94107', 'zzzzz', '94104', '94123',\n",
       "       '94133', '94117', '94105', '94115', '94143', '94124', '94114',\n",
       "       '94132', '94127', '94131', '94112', '94130', '94116', '94158',\n",
       "       '94013', '94120', '95105', '94101', '94014', '94129', '94080',\n",
       "       '92672'], dtype=object)"
      ]
     },
     "execution_count": 104,
     "metadata": {},
     "output_type": "execute_result"
    }
   ],
   "source": [
    "df_update_zipcode['business_postal_code'].unique()"
   ]
  },
  {
   "cell_type": "code",
   "execution_count": 105,
   "metadata": {},
   "outputs": [],
   "source": [
    "df_update_zipcode.to_csv('data/data_zipcode_cleaned_0423.csv')"
   ]
  },
  {
   "cell_type": "code",
   "execution_count": null,
   "metadata": {},
   "outputs": [],
   "source": []
  }
 ],
 "metadata": {
  "kernelspec": {
   "display_name": "Python 3",
   "language": "python",
   "name": "python3"
  },
  "language_info": {
   "codemirror_mode": {
    "name": "ipython",
    "version": 3
   },
   "file_extension": ".py",
   "mimetype": "text/x-python",
   "name": "python",
   "nbconvert_exporter": "python",
   "pygments_lexer": "ipython3",
   "version": "3.6.4"
  }
 },
 "nbformat": 4,
 "nbformat_minor": 2
}
