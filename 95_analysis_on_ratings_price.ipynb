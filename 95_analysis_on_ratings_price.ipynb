{
 "cells": [
  {
   "cell_type": "code",
   "execution_count": 1,
   "metadata": {},
   "outputs": [],
   "source": [
    "import numpy as np\n",
    "import pandas as pd\n",
    "from sklearn.linear_model import LogisticRegression\n",
    "from sklearn.ensemble import GradientBoostingRegressor, GradientBoostingClassifier\n",
    "from sklearn.model_selection import train_test_split\n",
    "import matplotlib.pyplot as plt\n",
    "from mpl_toolkits.mplot3d import Axes3D\n",
    "plt.style.use('seaborn-notebook')\n",
    "%matplotlib inline\n",
    "import csv\n",
    "import src.scrubbing_develop as scrubbing\n",
    "import src.utility "
   ]
  },
  {
   "cell_type": "code",
   "execution_count": 3,
   "metadata": {},
   "outputs": [],
   "source": [
    "df2 = pd.read_pickle('data/sf_inspection_master.pkl')\n",
    "df3 = scrubbing.remove_rows_zero_violation2(df2) "
   ]
  },
  {
   "cell_type": "code",
   "execution_count": 4,
   "metadata": {},
   "outputs": [
    {
     "data": {
      "text/plain": [
       "Index(['business_id', 'business_name', 'business_address', 'business_city',\n",
       "       'business_state', 'business_postal_code', 'business_latitude',\n",
       "       'business_longitude', 'business_location', 'business_phone_number',\n",
       "       'inspection_id', 'inspection_date', 'inspection_score',\n",
       "       'inspection_type', 'violation_id', 'violation_description',\n",
       "       'risk_category', 'short_violation_id', 'inspect_date', 'p1_3', 'p4_6',\n",
       "       'p7_9', 'p10_12', 'p13_18', 'p19_24', 'p25_36', 'number_turnovers',\n",
       "       'start_date', 'duration_business', 'y_label', '92672', '94013', '94014',\n",
       "       '94080', '94101', '94102', '94103', '94104', '94105', '94107', '94108',\n",
       "       '94109', '94110', '94111', '94112', '94114', '94115', '94116', '94117',\n",
       "       '94118', '94120', '94121', '94122', '94123', '94124', '94127', '94129',\n",
       "       '94130', '94131', '94132', '94133', '94134', '94143', '94158', '95105',\n",
       "       'rating', 'price', 'longitude_round', 'latitude_round', 'p7_36'],\n",
       "      dtype='object')"
      ]
     },
     "execution_count": 4,
     "metadata": {},
     "output_type": "execute_result"
    }
   ],
   "source": [
    "df3.columns"
   ]
  },
  {
   "cell_type": "code",
   "execution_count": 18,
   "metadata": {},
   "outputs": [
    {
     "data": {
      "text/plain": [
       "3.6950195858981534"
      ]
     },
     "execution_count": 18,
     "metadata": {},
     "output_type": "execute_result"
    }
   ],
   "source": [
    "df4 = df3[['rating', 'price', 'y_label']]\n",
    "df4['rating'][0]"
   ]
  },
  {
   "cell_type": "markdown",
   "metadata": {},
   "source": [
    "# Rating"
   ]
  },
  {
   "cell_type": "code",
   "execution_count": 30,
   "metadata": {},
   "outputs": [
    {
     "data": {
      "text/plain": [
       "1688"
      ]
     },
     "execution_count": 30,
     "metadata": {},
     "output_type": "execute_result"
    }
   ],
   "source": [
    "# remove un-rated ones\n",
    "mask = ((df4['rating'] > 3.6) & (df4['rating']< 3.7))\n",
    "df5 = df4[~mask]\n",
    "len(df5)"
   ]
  },
  {
   "cell_type": "code",
   "execution_count": 32,
   "metadata": {},
   "outputs": [],
   "source": [
    "df5_grouped = df5.groupby('rating')"
   ]
  },
  {
   "cell_type": "code",
   "execution_count": 38,
   "metadata": {},
   "outputs": [
    {
     "data": {
      "text/plain": [
       "[1.0, 1.5, 2.0, 2.5, 3.0, 3.5, 4.0, 4.5, 5.0]"
      ]
     },
     "execution_count": 38,
     "metadata": {},
     "output_type": "execute_result"
    }
   ],
   "source": [
    "ratings = df5['rating'].unique()\n",
    "sorted(ratings)"
   ]
  },
  {
   "cell_type": "code",
   "execution_count": 48,
   "metadata": {},
   "outputs": [],
   "source": [
    "ratings = sorted(df5['rating'].unique())\n",
    "D = {}\n",
    "for rating in ratings:\n",
    "    D[rating] = df5_grouped.get_group(rating)['y_label']"
   ]
  },
  {
   "cell_type": "code",
   "execution_count": 75,
   "metadata": {},
   "outputs": [
    {
     "data": {
      "text/plain": [
       "[0.42857142857142855,\n",
       " 0.5319148936170213,\n",
       " 0.4666666666666667,\n",
       " 0.4860557768924303,\n",
       " 0.4625199362041467,\n",
       " 0.41630901287553645]"
      ]
     },
     "execution_count": 75,
     "metadata": {},
     "output_type": "execute_result"
    }
   ],
   "source": [
    "# get ratio of (True/Total) for each rating\n",
    "ratios = []\n",
    "for rating in ratings:\n",
    "    if len(D[rating]) > 15:\n",
    "        ratio = sum(D[rating])/len(D[rating])\n",
    "        ratios.append(ratio)\n",
    "ratios"
   ]
  },
  {
   "cell_type": "code",
   "execution_count": 74,
   "metadata": {},
   "outputs": [
    {
     "name": "stdout",
     "output_type": "stream",
     "text": [
      "rating: 1.0 - number of restaurants: 2\n",
      "rating: 1.5 - number of restaurants: 4\n",
      "rating: 2.0 - number of restaurants: 63\n",
      "rating: 2.5 - number of restaurants: 47\n",
      "rating: 3.0 - number of restaurants: 195\n",
      "rating: 3.5 - number of restaurants: 502\n",
      "rating: 4.0 - number of restaurants: 627\n",
      "rating: 4.5 - number of restaurants: 233\n",
      "rating: 5.0 - number of restaurants: 15\n"
     ]
    }
   ],
   "source": [
    "for rating in ratings:\n",
    "    print('rating: {} - number of restaurants: {}'.format(rating,len(D[rating])))"
   ]
  },
  {
   "cell_type": "code",
   "execution_count": null,
   "metadata": {},
   "outputs": [],
   "source": []
  },
  {
   "cell_type": "code",
   "execution_count": null,
   "metadata": {},
   "outputs": [],
   "source": []
  },
  {
   "cell_type": "code",
   "execution_count": 81,
   "metadata": {},
   "outputs": [
    {
     "data": {
      "text/plain": [
       "Text(0,0.5,'True rate')"
      ]
     },
     "execution_count": 81,
     "metadata": {},
     "output_type": "execute_result"
    },
    {
     "data": {
      "text/plain": [
       "<matplotlib.figure.Figure at 0x7f1daf51b4e0>"
      ]
     },
     "metadata": {},
     "output_type": "display_data"
    },
    {
     "data": {
      "image/png": "[encoded data removed]",
      "text/plain": [
       "<matplotlib.figure.Figure at 0x7f1daf51b320>"
      ]
     },
     "metadata": {},
     "output_type": "display_data"
    }
   ],
   "source": [
    "fig = plt.figure(figsize=(14,6))\n",
    "barheights = ratios\n",
    "barlabels = ['2', '2.5', '3', '3.5', '4', '4.5']\n",
    "fig, ax = plt.subplots()\n",
    "ax.bar(np.arange(len(barheights)), barheights)\n",
    "x_pos = np.arange(len(barheights))\n",
    "ax.set_xticks(x_pos)\n",
    "ax.set_xticklabels(barlabels, rotation=45)\n",
    "ax.set_title(\"True rate for each rating\")\n",
    "ax.set_ylim(0,0.6)\n",
    "plt.xlabel('rating')\n",
    "plt.ylabel('True rate')"
   ]
  },
  {
   "cell_type": "markdown",
   "metadata": {},
   "source": [
    "# Price"
   ]
  },
  {
   "cell_type": "code",
   "execution_count": 116,
   "metadata": {},
   "outputs": [
    {
     "name": "stderr",
     "output_type": "stream",
     "text": [
      "/home/soong/anaconda3/lib/python3.6/site-packages/ipykernel_launcher.py:5: UserWarning: Boolean Series key will be reindexed to match DataFrame index.\n",
      "  \"\"\"\n"
     ]
    },
    {
     "data": {
      "text/plain": [
       "1776"
      ]
     },
     "execution_count": 116,
     "metadata": {},
     "output_type": "execute_result"
    }
   ],
   "source": [
    "# remove un-rated ones\n",
    "mask2 = ((df4['price'] > 1.7) & (df4['price']< 1.8))\n",
    "mask3 = ((df4['price'] > 5))\n",
    "dfp5 = df4[~mask2]\n",
    "dfp5 = dfp5[~mask3]\n",
    "len(dfp5)"
   ]
  },
  {
   "cell_type": "code",
   "execution_count": 117,
   "metadata": {},
   "outputs": [],
   "source": [
    "dfp5_grouped = dfp5.groupby('price')"
   ]
  },
  {
   "cell_type": "code",
   "execution_count": 118,
   "metadata": {},
   "outputs": [
    {
     "data": {
      "text/plain": [
       "[1.0, 2.0, 3.0, 4.0]"
      ]
     },
     "execution_count": 118,
     "metadata": {},
     "output_type": "execute_result"
    }
   ],
   "source": [
    "prices = dfp5['price'].unique()\n",
    "sorted(prices)"
   ]
  },
  {
   "cell_type": "code",
   "execution_count": 119,
   "metadata": {},
   "outputs": [],
   "source": [
    "prices = sorted(dfp5['price'].unique())\n",
    "E = {}\n",
    "for price in prices:\n",
    "    E[price] = dfp5_grouped.get_group(price)['y_label']"
   ]
  },
  {
   "cell_type": "code",
   "execution_count": 120,
   "metadata": {},
   "outputs": [
    {
     "data": {
      "text/plain": [
       "[0.4574314574314574, 0.468682505399568, 0.4621212121212121, 0.56]"
      ]
     },
     "execution_count": 120,
     "metadata": {},
     "output_type": "execute_result"
    }
   ],
   "source": [
    "# get ratio of (True/Total) for each rating\n",
    "pratios = []\n",
    "for price in prices:\n",
    "    if len(E[price]) > 2:\n",
    "        ratio = sum(E[price])/len(E[price])\n",
    "        pratios.append(ratio)\n",
    "pratios"
   ]
  },
  {
   "cell_type": "code",
   "execution_count": 122,
   "metadata": {},
   "outputs": [
    {
     "name": "stdout",
     "output_type": "stream",
     "text": [
      "price: 1.0 - number of restaurants: 693\n",
      "price: 2.0 - number of restaurants: 926\n",
      "price: 3.0 - number of restaurants: 132\n",
      "price: 4.0 - number of restaurants: 25\n"
     ]
    }
   ],
   "source": [
    "for price in prices:\n",
    "    print('price: {} - number of restaurants: {}'.format(price,len(E[price])))"
   ]
  },
  {
   "cell_type": "code",
   "execution_count": 121,
   "metadata": {},
   "outputs": [
    {
     "data": {
      "text/plain": [
       "Text(0,0.5,'True rate')"
      ]
     },
     "execution_count": 121,
     "metadata": {},
     "output_type": "execute_result"
    },
    {
     "data": {
      "text/plain": [
       "<matplotlib.figure.Figure at 0x7f1daf5e6eb8>"
      ]
     },
     "metadata": {},
     "output_type": "display_data"
    },
    {
     "data": {
      "image/png": "[encoded data removed]",
      "text/plain": [
       "<matplotlib.figure.Figure at 0x7f1daf5aba20>"
      ]
     },
     "metadata": {},
     "output_type": "display_data"
    }
   ],
   "source": [
    "fig = plt.figure(figsize=(14,6))\n",
    "barheights = pratios\n",
    "barlabels = ['1', '2', '3', '4']\n",
    "fig, ax = plt.subplots()\n",
    "ax.bar(np.arange(len(barheights)), barheights)\n",
    "x_pos = np.arange(len(barheights))\n",
    "ax.set_xticks(x_pos)\n",
    "ax.set_xticklabels(barlabels, rotation=45)\n",
    "ax.set_title(\"True rate for each price\")\n",
    "ax.set_ylim(0,0.6)\n",
    "plt.xlabel('price')\n",
    "plt.ylabel('True rate')"
   ]
  },
  {
   "cell_type": "code",
   "execution_count": null,
   "metadata": {},
   "outputs": [],
   "source": []
  },
  {
   "cell_type": "code",
   "execution_count": null,
   "metadata": {},
   "outputs": [],
   "source": []
  }
 ],
 "metadata": {
  "kernelspec": {
   "display_name": "Python 3",
   "language": "python",
   "name": "python3"
  },
  "language_info": {
   "codemirror_mode": {
    "name": "ipython",
    "version": 3
   },
   "file_extension": ".py",
   "mimetype": "text/x-python",
   "name": "python",
   "nbconvert_exporter": "python",
   "pygments_lexer": "ipython3",
   "version": "3.6.4"
  }
 },
 "nbformat": 4,
 "nbformat_minor": 2
}
