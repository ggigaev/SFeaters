{
 "cells": [
  {
   "cell_type": "code",
   "execution_count": 21,
   "metadata": {},
   "outputs": [],
   "source": [
    "import numpy as np\n",
    "import pandas as pd\n",
    "from numpy import nan\n",
    "import math"
   ]
  },
  {
   "cell_type": "code",
   "execution_count": 22,
   "metadata": {},
   "outputs": [],
   "source": [
    "df = pd.read_csv('data/df_periods.csv')"
   ]
  },
  {
   "cell_type": "code",
   "execution_count": 23,
   "metadata": {},
   "outputs": [
    {
     "data": {
      "text/html": [
       "<div>\n",
       "<style scoped>\n",
       "    .dataframe tbody tr th:only-of-type {\n",
       "        vertical-align: middle;\n",
       "    }\n",
       "\n",
       "    .dataframe tbody tr th {\n",
       "        vertical-align: top;\n",
       "    }\n",
       "\n",
       "    .dataframe thead th {\n",
       "        text-align: right;\n",
       "    }\n",
       "</style>\n",
       "<table border=\"1\" class=\"dataframe\">\n",
       "  <thead>\n",
       "    <tr style=\"text-align: right;\">\n",
       "      <th></th>\n",
       "      <th>Unnamed: 0</th>\n",
       "      <th>business_id</th>\n",
       "      <th>business_name</th>\n",
       "      <th>business_address</th>\n",
       "      <th>business_city</th>\n",
       "      <th>business_state</th>\n",
       "      <th>business_postal_code</th>\n",
       "      <th>business_latitude</th>\n",
       "      <th>business_longitude</th>\n",
       "      <th>business_location</th>\n",
       "      <th>business_phone_number</th>\n",
       "      <th>inspection_id</th>\n",
       "      <th>inspection_date</th>\n",
       "      <th>inspection_score</th>\n",
       "      <th>inspection_type</th>\n",
       "      <th>violation_id</th>\n",
       "      <th>violation_description</th>\n",
       "      <th>risk_category</th>\n",
       "      <th>short_inspect_date</th>\n",
       "      <th>short_violation_id</th>\n",
       "    </tr>\n",
       "  </thead>\n",
       "  <tbody>\n",
       "    <tr>\n",
       "      <th>0</th>\n",
       "      <td>0</td>\n",
       "      <td>1757</td>\n",
       "      <td>Dar Bar Pakistani/Indian Cusine</td>\n",
       "      <td>1412 Polk St</td>\n",
       "      <td>San Francisco</td>\n",
       "      <td>CA</td>\n",
       "      <td>94109</td>\n",
       "      <td>37.789784</td>\n",
       "      <td>-122.420455</td>\n",
       "      <td>(37.789784, -122.420455)</td>\n",
       "      <td>NaN</td>\n",
       "      <td>1757_20170928</td>\n",
       "      <td>9/28/2017 0:00</td>\n",
       "      <td>86.0</td>\n",
       "      <td>Routine - Unscheduled</td>\n",
       "      <td>1757_20170928_103131</td>\n",
       "      <td>Moderate risk vermin infestation</td>\n",
       "      <td>Moderate Risk</td>\n",
       "      <td>20170928</td>\n",
       "      <td>103131</td>\n",
       "    </tr>\n",
       "    <tr>\n",
       "      <th>1</th>\n",
       "      <td>1</td>\n",
       "      <td>4864</td>\n",
       "      <td>DRAGON CITY BAKERY &amp; CAFE</td>\n",
       "      <td>2367 MISSION St</td>\n",
       "      <td>San Francisco</td>\n",
       "      <td>CA</td>\n",
       "      <td>94110</td>\n",
       "      <td>37.759174</td>\n",
       "      <td>-122.419066</td>\n",
       "      <td>(37.759174, -122.419066)</td>\n",
       "      <td>1.415583e+10</td>\n",
       "      <td>4864_20161206</td>\n",
       "      <td>12/6/2016 0:00</td>\n",
       "      <td>84.0</td>\n",
       "      <td>Routine - Unscheduled</td>\n",
       "      <td>4864_20161206_103157</td>\n",
       "      <td>Food safety certificate or food handler card n...</td>\n",
       "      <td>Low Risk</td>\n",
       "      <td>20161206</td>\n",
       "      <td>103157</td>\n",
       "    </tr>\n",
       "    <tr>\n",
       "      <th>2</th>\n",
       "      <td>2</td>\n",
       "      <td>79782</td>\n",
       "      <td>Deli 23</td>\n",
       "      <td>2449 23rd St</td>\n",
       "      <td>San Francisco</td>\n",
       "      <td>CA</td>\n",
       "      <td>94110</td>\n",
       "      <td>NaN</td>\n",
       "      <td>NaN</td>\n",
       "      <td>NaN</td>\n",
       "      <td>NaN</td>\n",
       "      <td>79782_20160503</td>\n",
       "      <td>5/3/2016 0:00</td>\n",
       "      <td>92.0</td>\n",
       "      <td>Routine - Unscheduled</td>\n",
       "      <td>79782_20160503_103120</td>\n",
       "      <td>Moderate risk food holding temperature</td>\n",
       "      <td>Moderate Risk</td>\n",
       "      <td>20160503</td>\n",
       "      <td>103120</td>\n",
       "    </tr>\n",
       "    <tr>\n",
       "      <th>3</th>\n",
       "      <td>3</td>\n",
       "      <td>73840</td>\n",
       "      <td>L'acajou Bakery and Cafe</td>\n",
       "      <td>498 09th St Ste. C</td>\n",
       "      <td>San Francisco</td>\n",
       "      <td>CA</td>\n",
       "      <td>94103</td>\n",
       "      <td>NaN</td>\n",
       "      <td>NaN</td>\n",
       "      <td>NaN</td>\n",
       "      <td>NaN</td>\n",
       "      <td>73840_20171207</td>\n",
       "      <td>12/7/2017 0:00</td>\n",
       "      <td>71.0</td>\n",
       "      <td>Routine - Unscheduled</td>\n",
       "      <td>73840_20171207_103105</td>\n",
       "      <td>Improper cooling methods</td>\n",
       "      <td>High Risk</td>\n",
       "      <td>20171207</td>\n",
       "      <td>103105</td>\n",
       "    </tr>\n",
       "    <tr>\n",
       "      <th>4</th>\n",
       "      <td>4</td>\n",
       "      <td>76437</td>\n",
       "      <td>Sweetheart Cafe</td>\n",
       "      <td>909 Grant Ave</td>\n",
       "      <td>San Francisco</td>\n",
       "      <td>CA</td>\n",
       "      <td>94108</td>\n",
       "      <td>NaN</td>\n",
       "      <td>NaN</td>\n",
       "      <td>NaN</td>\n",
       "      <td>NaN</td>\n",
       "      <td>76437_20160329</td>\n",
       "      <td>3/29/2016 0:00</td>\n",
       "      <td>76.0</td>\n",
       "      <td>Routine - Unscheduled</td>\n",
       "      <td>76437_20160329_103113</td>\n",
       "      <td>Sewage or wastewater contamination</td>\n",
       "      <td>High Risk</td>\n",
       "      <td>20160329</td>\n",
       "      <td>103113</td>\n",
       "    </tr>\n",
       "  </tbody>\n",
       "</table>\n",
       "</div>"
      ],
      "text/plain": [
       "   Unnamed: 0  business_id                    business_name  \\\n",
       "0           0         1757  Dar Bar Pakistani/Indian Cusine   \n",
       "1           1         4864        DRAGON CITY BAKERY & CAFE   \n",
       "2           2        79782                          Deli 23   \n",
       "3           3        73840         L'acajou Bakery and Cafe   \n",
       "4           4        76437                  Sweetheart Cafe   \n",
       "\n",
       "     business_address  business_city business_state business_postal_code  \\\n",
       "0        1412 Polk St  San Francisco             CA                94109   \n",
       "1     2367 MISSION St  San Francisco             CA                94110   \n",
       "2        2449 23rd St  San Francisco             CA                94110   \n",
       "3  498 09th St Ste. C  San Francisco             CA                94103   \n",
       "4       909 Grant Ave  San Francisco             CA                94108   \n",
       "\n",
       "   business_latitude  business_longitude         business_location  \\\n",
       "0          37.789784         -122.420455  (37.789784, -122.420455)   \n",
       "1          37.759174         -122.419066  (37.759174, -122.419066)   \n",
       "2                NaN                 NaN                       NaN   \n",
       "3                NaN                 NaN                       NaN   \n",
       "4                NaN                 NaN                       NaN   \n",
       "\n",
       "   business_phone_number   inspection_id inspection_date  inspection_score  \\\n",
       "0                    NaN   1757_20170928  9/28/2017 0:00              86.0   \n",
       "1           1.415583e+10   4864_20161206  12/6/2016 0:00              84.0   \n",
       "2                    NaN  79782_20160503   5/3/2016 0:00              92.0   \n",
       "3                    NaN  73840_20171207  12/7/2017 0:00              71.0   \n",
       "4                    NaN  76437_20160329  3/29/2016 0:00              76.0   \n",
       "\n",
       "         inspection_type           violation_id  \\\n",
       "0  Routine - Unscheduled   1757_20170928_103131   \n",
       "1  Routine - Unscheduled   4864_20161206_103157   \n",
       "2  Routine - Unscheduled  79782_20160503_103120   \n",
       "3  Routine - Unscheduled  73840_20171207_103105   \n",
       "4  Routine - Unscheduled  76437_20160329_103113   \n",
       "\n",
       "                               violation_description  risk_category  \\\n",
       "0                   Moderate risk vermin infestation  Moderate Risk   \n",
       "1  Food safety certificate or food handler card n...       Low Risk   \n",
       "2             Moderate risk food holding temperature  Moderate Risk   \n",
       "3                           Improper cooling methods      High Risk   \n",
       "4                 Sewage or wastewater contamination      High Risk   \n",
       "\n",
       "   short_inspect_date  short_violation_id  \n",
       "0            20170928              103131  \n",
       "1            20161206              103157  \n",
       "2            20160503              103120  \n",
       "3            20171207              103105  \n",
       "4            20160329              103113  "
      ]
     },
     "execution_count": 23,
     "metadata": {},
     "output_type": "execute_result"
    }
   ],
   "source": [
    "df.head()"
   ]
  },
  {
   "cell_type": "code",
   "execution_count": 28,
   "metadata": {},
   "outputs": [],
   "source": [
    "df_short = df[['business_id', 'short_inspect_date', 'risk_category', 'short_violation_id']]"
   ]
  },
  {
   "cell_type": "code",
   "execution_count": 29,
   "metadata": {},
   "outputs": [
    {
     "data": {
      "text/plain": [
       "False"
      ]
     },
     "execution_count": 29,
     "metadata": {},
     "output_type": "execute_result"
    }
   ],
   "source": [
    "a = df_short['short_violation_id']\n",
    "a.isnull().any()"
   ]
  },
  {
   "cell_type": "code",
   "execution_count": 31,
   "metadata": {},
   "outputs": [
    {
     "name": "stderr",
     "output_type": "stream",
     "text": [
      "/home/soong/anaconda3/lib/python3.6/site-packages/ipykernel_launcher.py:1: SettingWithCopyWarning: \n",
      "A value is trying to be set on a copy of a slice from a DataFrame.\n",
      "Try using .loc[row_indexer,col_indexer] = value instead\n",
      "\n",
      "See the caveats in the documentation: http://pandas.pydata.org/pandas-docs/stable/indexing.html#indexing-view-versus-copy\n",
      "  \"\"\"Entry point for launching an IPython kernel.\n",
      "/home/soong/anaconda3/lib/python3.6/site-packages/ipykernel_launcher.py:2: SettingWithCopyWarning: \n",
      "A value is trying to be set on a copy of a slice from a DataFrame.\n",
      "Try using .loc[row_indexer,col_indexer] = value instead\n",
      "\n",
      "See the caveats in the documentation: http://pandas.pydata.org/pandas-docs/stable/indexing.html#indexing-view-versus-copy\n",
      "  \n"
     ]
    }
   ],
   "source": [
    "df_short['short_violation_id'] = df_short['short_violation_id'].apply(np.int64)\n",
    "df_short['short_inspect_date'] = df_short['short_inspect_date'].apply(np.int64)"
   ]
  },
  {
   "cell_type": "code",
   "execution_count": 119,
   "metadata": {},
   "outputs": [],
   "source": [
    "df_shorter = df_short[400:430]"
   ]
  },
  {
   "cell_type": "code",
   "execution_count": 120,
   "metadata": {},
   "outputs": [
    {
     "data": {
      "text/plain": [
       "24"
      ]
     },
     "execution_count": 120,
     "metadata": {},
     "output_type": "execute_result"
    }
   ],
   "source": [
    "len(df_shorter['business_id'].unique())"
   ]
  },
  {
   "cell_type": "code",
   "execution_count": 121,
   "metadata": {},
   "outputs": [
    {
     "data": {
      "text/plain": [
       "315      5\n",
       "79272    2\n",
       "18079    2\n",
       "74399    1\n",
       "27791    1\n",
       "69026    1\n",
       "64835    1\n",
       "63926    1\n",
       "9273     1\n",
       "1800     1\n",
       "774      1\n",
       "84759    1\n",
       "1296     1\n",
       "2110     1\n",
       "89969    1\n",
       "59986    1\n",
       "5493     1\n",
       "2134     1\n",
       "27799    1\n",
       "1350     1\n",
       "90233    1\n",
       "40217    1\n",
       "69181    1\n",
       "4672     1\n",
       "Name: business_id, dtype: int64"
      ]
     },
     "execution_count": 121,
     "metadata": {},
     "output_type": "execute_result"
    }
   ],
   "source": [
    "df_shorter.business_id.value_counts()"
   ]
  },
  {
   "cell_type": "code",
   "execution_count": 133,
   "metadata": {},
   "outputs": [],
   "source": [
    "shortest_list = [315, 79272, 18079, 74399, 27791, 69026, 64835]"
   ]
  },
  {
   "cell_type": "code",
   "execution_count": 135,
   "metadata": {},
   "outputs": [],
   "source": [
    "df_shortest = df_shorter.loc[df['business_id'].isin(shortest_list)]"
   ]
  },
  {
   "cell_type": "code",
   "execution_count": 136,
   "metadata": {},
   "outputs": [
    {
     "data": {
      "text/html": [
       "<div>\n",
       "<style scoped>\n",
       "    .dataframe tbody tr th:only-of-type {\n",
       "        vertical-align: middle;\n",
       "    }\n",
       "\n",
       "    .dataframe tbody tr th {\n",
       "        vertical-align: top;\n",
       "    }\n",
       "\n",
       "    .dataframe thead th {\n",
       "        text-align: right;\n",
       "    }\n",
       "</style>\n",
       "<table border=\"1\" class=\"dataframe\">\n",
       "  <thead>\n",
       "    <tr style=\"text-align: right;\">\n",
       "      <th></th>\n",
       "      <th>business_id</th>\n",
       "      <th>short_inspect_date</th>\n",
       "      <th>risk_category</th>\n",
       "      <th>short_violation_id</th>\n",
       "    </tr>\n",
       "  </thead>\n",
       "  <tbody>\n",
       "    <tr>\n",
       "      <th>401</th>\n",
       "      <td>79272</td>\n",
       "      <td>20160929</td>\n",
       "      <td>Moderate Risk</td>\n",
       "      <td>103133</td>\n",
       "    </tr>\n",
       "    <tr>\n",
       "      <th>402</th>\n",
       "      <td>27791</td>\n",
       "      <td>20150414</td>\n",
       "      <td>Low Risk</td>\n",
       "      <td>103142</td>\n",
       "    </tr>\n",
       "    <tr>\n",
       "      <th>404</th>\n",
       "      <td>315</td>\n",
       "      <td>20150518</td>\n",
       "      <td>High Risk</td>\n",
       "      <td>103114</td>\n",
       "    </tr>\n",
       "    <tr>\n",
       "      <th>405</th>\n",
       "      <td>315</td>\n",
       "      <td>20150518</td>\n",
       "      <td>Low Risk</td>\n",
       "      <td>103154</td>\n",
       "    </tr>\n",
       "    <tr>\n",
       "      <th>406</th>\n",
       "      <td>315</td>\n",
       "      <td>20150518</td>\n",
       "      <td>Low Risk</td>\n",
       "      <td>103138</td>\n",
       "    </tr>\n",
       "    <tr>\n",
       "      <th>407</th>\n",
       "      <td>315</td>\n",
       "      <td>20150929</td>\n",
       "      <td>Moderate Risk</td>\n",
       "      <td>103129</td>\n",
       "    </tr>\n",
       "    <tr>\n",
       "      <th>408</th>\n",
       "      <td>315</td>\n",
       "      <td>20150929</td>\n",
       "      <td>Low Risk</td>\n",
       "      <td>103157</td>\n",
       "    </tr>\n",
       "    <tr>\n",
       "      <th>412</th>\n",
       "      <td>64835</td>\n",
       "      <td>20171211</td>\n",
       "      <td>Moderate Risk</td>\n",
       "      <td>103132</td>\n",
       "    </tr>\n",
       "    <tr>\n",
       "      <th>413</th>\n",
       "      <td>74399</td>\n",
       "      <td>20161206</td>\n",
       "      <td>Moderate Risk</td>\n",
       "      <td>103120</td>\n",
       "    </tr>\n",
       "    <tr>\n",
       "      <th>420</th>\n",
       "      <td>69026</td>\n",
       "      <td>20160607</td>\n",
       "      <td>Low Risk</td>\n",
       "      <td>103149</td>\n",
       "    </tr>\n",
       "    <tr>\n",
       "      <th>421</th>\n",
       "      <td>18079</td>\n",
       "      <td>20160502</td>\n",
       "      <td>Low Risk</td>\n",
       "      <td>103139</td>\n",
       "    </tr>\n",
       "    <tr>\n",
       "      <th>425</th>\n",
       "      <td>18079</td>\n",
       "      <td>20160502</td>\n",
       "      <td>Moderate Risk</td>\n",
       "      <td>103131</td>\n",
       "    </tr>\n",
       "    <tr>\n",
       "      <th>426</th>\n",
       "      <td>79272</td>\n",
       "      <td>20160929</td>\n",
       "      <td>High Risk</td>\n",
       "      <td>103108</td>\n",
       "    </tr>\n",
       "  </tbody>\n",
       "</table>\n",
       "</div>"
      ],
      "text/plain": [
       "     business_id  short_inspect_date  risk_category  short_violation_id\n",
       "401        79272            20160929  Moderate Risk              103133\n",
       "402        27791            20150414       Low Risk              103142\n",
       "404          315            20150518      High Risk              103114\n",
       "405          315            20150518       Low Risk              103154\n",
       "406          315            20150518       Low Risk              103138\n",
       "407          315            20150929  Moderate Risk              103129\n",
       "408          315            20150929       Low Risk              103157\n",
       "412        64835            20171211  Moderate Risk              103132\n",
       "413        74399            20161206  Moderate Risk              103120\n",
       "420        69026            20160607       Low Risk              103149\n",
       "421        18079            20160502       Low Risk              103139\n",
       "425        18079            20160502  Moderate Risk              103131\n",
       "426        79272            20160929      High Risk              103108"
      ]
     },
     "execution_count": 136,
     "metadata": {},
     "output_type": "execute_result"
    }
   ],
   "source": [
    "df_shortest"
   ]
  },
  {
   "cell_type": "code",
   "execution_count": 143,
   "metadata": {},
   "outputs": [
    {
     "data": {
      "text/plain": [
       "315      5\n",
       "79272    2\n",
       "18079    2\n",
       "27791    1\n",
       "74399    1\n",
       "64835    1\n",
       "69026    1\n",
       "Name: business_id, dtype: int64"
      ]
     },
     "execution_count": 143,
     "metadata": {},
     "output_type": "execute_result"
    }
   ],
   "source": [
    "df_shortest.business_id.value_counts()"
   ]
  },
  {
   "cell_type": "markdown",
   "metadata": {},
   "source": [
    "### Let's aggregate risk_category and short_violation_id group by business_id and short_inspection_date"
   ]
  },
  {
   "cell_type": "code",
   "execution_count": 137,
   "metadata": {},
   "outputs": [],
   "source": [
    "# Let's use df_shortest to do the aggregation"
   ]
  },
  {
   "cell_type": "code",
   "execution_count": 154,
   "metadata": {},
   "outputs": [],
   "source": [
    "n305 = df_shortest.groupby(['business_id', 'short_inspect_date'])['risk_category'].unique()"
   ]
  },
  {
   "cell_type": "code",
   "execution_count": 155,
   "metadata": {},
   "outputs": [
    {
     "data": {
      "text/plain": [
       "pandas.core.series.Series"
      ]
     },
     "execution_count": 155,
     "metadata": {},
     "output_type": "execute_result"
    }
   ],
   "source": [
    "type(n305)"
   ]
  },
  {
   "cell_type": "code",
   "execution_count": 156,
   "metadata": {},
   "outputs": [],
   "source": [
    "list_n305 = n305.tolist()"
   ]
  },
  {
   "cell_type": "code",
   "execution_count": 147,
   "metadata": {},
   "outputs": [],
   "source": [
    "m259 = df_shortest.groupby(['business_id', 'short_inspect_date'])['short_violation_id'].unique()"
   ]
  },
  {
   "cell_type": "code",
   "execution_count": 180,
   "metadata": {},
   "outputs": [],
   "source": [
    "df_grouped = pd.DataFrame(m259)"
   ]
  },
  {
   "cell_type": "code",
   "execution_count": 181,
   "metadata": {},
   "outputs": [
    {
     "data": {
      "text/html": [
       "<div>\n",
       "<style scoped>\n",
       "    .dataframe tbody tr th:only-of-type {\n",
       "        vertical-align: middle;\n",
       "    }\n",
       "\n",
       "    .dataframe tbody tr th {\n",
       "        vertical-align: top;\n",
       "    }\n",
       "\n",
       "    .dataframe thead th {\n",
       "        text-align: right;\n",
       "    }\n",
       "</style>\n",
       "<table border=\"1\" class=\"dataframe\">\n",
       "  <thead>\n",
       "    <tr style=\"text-align: right;\">\n",
       "      <th></th>\n",
       "      <th></th>\n",
       "      <th>short_violation_id</th>\n",
       "    </tr>\n",
       "    <tr>\n",
       "      <th>business_id</th>\n",
       "      <th>short_inspect_date</th>\n",
       "      <th></th>\n",
       "    </tr>\n",
       "  </thead>\n",
       "  <tbody>\n",
       "    <tr>\n",
       "      <th rowspan=\"2\" valign=\"top\">315</th>\n",
       "      <th>20150518</th>\n",
       "      <td>[103114, 103154, 103138]</td>\n",
       "    </tr>\n",
       "    <tr>\n",
       "      <th>20150929</th>\n",
       "      <td>[103129, 103157]</td>\n",
       "    </tr>\n",
       "    <tr>\n",
       "      <th>18079</th>\n",
       "      <th>20160502</th>\n",
       "      <td>[103139, 103131]</td>\n",
       "    </tr>\n",
       "    <tr>\n",
       "      <th>27791</th>\n",
       "      <th>20150414</th>\n",
       "      <td>[103142]</td>\n",
       "    </tr>\n",
       "    <tr>\n",
       "      <th>64835</th>\n",
       "      <th>20171211</th>\n",
       "      <td>[103132]</td>\n",
       "    </tr>\n",
       "    <tr>\n",
       "      <th>69026</th>\n",
       "      <th>20160607</th>\n",
       "      <td>[103149]</td>\n",
       "    </tr>\n",
       "    <tr>\n",
       "      <th>74399</th>\n",
       "      <th>20161206</th>\n",
       "      <td>[103120]</td>\n",
       "    </tr>\n",
       "    <tr>\n",
       "      <th>79272</th>\n",
       "      <th>20160929</th>\n",
       "      <td>[103133, 103108]</td>\n",
       "    </tr>\n",
       "  </tbody>\n",
       "</table>\n",
       "</div>"
      ],
      "text/plain": [
       "                                      short_violation_id\n",
       "business_id short_inspect_date                          \n",
       "315         20150518            [103114, 103154, 103138]\n",
       "            20150929                    [103129, 103157]\n",
       "18079       20160502                    [103139, 103131]\n",
       "27791       20150414                            [103142]\n",
       "64835       20171211                            [103132]\n",
       "69026       20160607                            [103149]\n",
       "74399       20161206                            [103120]\n",
       "79272       20160929                    [103133, 103108]"
      ]
     },
     "execution_count": 181,
     "metadata": {},
     "output_type": "execute_result"
    }
   ],
   "source": [
    "df_grouped"
   ]
  },
  {
   "cell_type": "code",
   "execution_count": 182,
   "metadata": {},
   "outputs": [
    {
     "data": {
      "text/html": [
       "<div>\n",
       "<style scoped>\n",
       "    .dataframe tbody tr th:only-of-type {\n",
       "        vertical-align: middle;\n",
       "    }\n",
       "\n",
       "    .dataframe tbody tr th {\n",
       "        vertical-align: top;\n",
       "    }\n",
       "\n",
       "    .dataframe thead th {\n",
       "        text-align: right;\n",
       "    }\n",
       "</style>\n",
       "<table border=\"1\" class=\"dataframe\">\n",
       "  <thead>\n",
       "    <tr style=\"text-align: right;\">\n",
       "      <th></th>\n",
       "      <th></th>\n",
       "      <th>short_violation_id</th>\n",
       "      <th>risk_category</th>\n",
       "    </tr>\n",
       "    <tr>\n",
       "      <th>business_id</th>\n",
       "      <th>short_inspect_date</th>\n",
       "      <th></th>\n",
       "      <th></th>\n",
       "    </tr>\n",
       "  </thead>\n",
       "  <tbody>\n",
       "    <tr>\n",
       "      <th rowspan=\"2\" valign=\"top\">315</th>\n",
       "      <th>20150518</th>\n",
       "      <td>[103114, 103154, 103138]</td>\n",
       "      <td>[High Risk, Low Risk]</td>\n",
       "    </tr>\n",
       "    <tr>\n",
       "      <th>20150929</th>\n",
       "      <td>[103129, 103157]</td>\n",
       "      <td>[Moderate Risk, Low Risk]</td>\n",
       "    </tr>\n",
       "    <tr>\n",
       "      <th>18079</th>\n",
       "      <th>20160502</th>\n",
       "      <td>[103139, 103131]</td>\n",
       "      <td>[Low Risk, Moderate Risk]</td>\n",
       "    </tr>\n",
       "    <tr>\n",
       "      <th>27791</th>\n",
       "      <th>20150414</th>\n",
       "      <td>[103142]</td>\n",
       "      <td>[Low Risk]</td>\n",
       "    </tr>\n",
       "    <tr>\n",
       "      <th>64835</th>\n",
       "      <th>20171211</th>\n",
       "      <td>[103132]</td>\n",
       "      <td>[Moderate Risk]</td>\n",
       "    </tr>\n",
       "    <tr>\n",
       "      <th>69026</th>\n",
       "      <th>20160607</th>\n",
       "      <td>[103149]</td>\n",
       "      <td>[Low Risk]</td>\n",
       "    </tr>\n",
       "    <tr>\n",
       "      <th>74399</th>\n",
       "      <th>20161206</th>\n",
       "      <td>[103120]</td>\n",
       "      <td>[Moderate Risk]</td>\n",
       "    </tr>\n",
       "    <tr>\n",
       "      <th>79272</th>\n",
       "      <th>20160929</th>\n",
       "      <td>[103133, 103108]</td>\n",
       "      <td>[Moderate Risk, High Risk]</td>\n",
       "    </tr>\n",
       "  </tbody>\n",
       "</table>\n",
       "</div>"
      ],
      "text/plain": [
       "                                      short_violation_id  \\\n",
       "business_id short_inspect_date                             \n",
       "315         20150518            [103114, 103154, 103138]   \n",
       "            20150929                    [103129, 103157]   \n",
       "18079       20160502                    [103139, 103131]   \n",
       "27791       20150414                            [103142]   \n",
       "64835       20171211                            [103132]   \n",
       "69026       20160607                            [103149]   \n",
       "74399       20161206                            [103120]   \n",
       "79272       20160929                    [103133, 103108]   \n",
       "\n",
       "                                             risk_category  \n",
       "business_id short_inspect_date                              \n",
       "315         20150518                 [High Risk, Low Risk]  \n",
       "            20150929             [Moderate Risk, Low Risk]  \n",
       "18079       20160502             [Low Risk, Moderate Risk]  \n",
       "27791       20150414                            [Low Risk]  \n",
       "64835       20171211                       [Moderate Risk]  \n",
       "69026       20160607                            [Low Risk]  \n",
       "74399       20161206                       [Moderate Risk]  \n",
       "79272       20160929            [Moderate Risk, High Risk]  "
      ]
     },
     "execution_count": 182,
     "metadata": {},
     "output_type": "execute_result"
    }
   ],
   "source": [
    "df_grouped['risk_category'] = list_n305\n",
    "df_grouped"
   ]
  },
  {
   "cell_type": "code",
   "execution_count": 183,
   "metadata": {},
   "outputs": [
    {
     "data": {
      "text/plain": [
       "FrozenList(['business_id', 'short_inspect_date'])"
      ]
     },
     "execution_count": 183,
     "metadata": {},
     "output_type": "execute_result"
    }
   ],
   "source": [
    "df_grouped.index.names"
   ]
  },
  {
   "cell_type": "code",
   "execution_count": 184,
   "metadata": {},
   "outputs": [
    {
     "data": {
      "text/plain": [
       "short_violation_id    [103114, 103154, 103138]\n",
       "risk_category            [High Risk, Low Risk]\n",
       "Name: (315, 20150518), dtype: object"
      ]
     },
     "execution_count": 184,
     "metadata": {},
     "output_type": "execute_result"
    }
   ],
   "source": [
    "df_grouped.loc[(315,20150518),:]"
   ]
  },
  {
   "cell_type": "markdown",
   "metadata": {},
   "source": [
    "## Final stretch: Sort according to dates -->  7 different time slots"
   ]
  },
  {
   "cell_type": "code",
   "execution_count": 191,
   "metadata": {},
   "outputs": [],
   "source": [
    "ndf = df_shortest[:]"
   ]
  },
  {
   "cell_type": "code",
   "execution_count": 192,
   "metadata": {},
   "outputs": [],
   "source": [
    "ndf = df_shortest.drop_duplicates('business_id')"
   ]
  },
  {
   "cell_type": "code",
   "execution_count": 193,
   "metadata": {},
   "outputs": [
    {
     "data": {
      "text/html": [
       "<div>\n",
       "<style scoped>\n",
       "    .dataframe tbody tr th:only-of-type {\n",
       "        vertical-align: middle;\n",
       "    }\n",
       "\n",
       "    .dataframe tbody tr th {\n",
       "        vertical-align: top;\n",
       "    }\n",
       "\n",
       "    .dataframe thead th {\n",
       "        text-align: right;\n",
       "    }\n",
       "</style>\n",
       "<table border=\"1\" class=\"dataframe\">\n",
       "  <thead>\n",
       "    <tr style=\"text-align: right;\">\n",
       "      <th></th>\n",
       "      <th>business_id</th>\n",
       "      <th>short_inspect_date</th>\n",
       "      <th>risk_category</th>\n",
       "      <th>short_violation_id</th>\n",
       "    </tr>\n",
       "  </thead>\n",
       "  <tbody>\n",
       "    <tr>\n",
       "      <th>401</th>\n",
       "      <td>79272</td>\n",
       "      <td>20160929</td>\n",
       "      <td>Moderate Risk</td>\n",
       "      <td>103133</td>\n",
       "    </tr>\n",
       "    <tr>\n",
       "      <th>402</th>\n",
       "      <td>27791</td>\n",
       "      <td>20150414</td>\n",
       "      <td>Low Risk</td>\n",
       "      <td>103142</td>\n",
       "    </tr>\n",
       "    <tr>\n",
       "      <th>404</th>\n",
       "      <td>315</td>\n",
       "      <td>20150518</td>\n",
       "      <td>High Risk</td>\n",
       "      <td>103114</td>\n",
       "    </tr>\n",
       "    <tr>\n",
       "      <th>412</th>\n",
       "      <td>64835</td>\n",
       "      <td>20171211</td>\n",
       "      <td>Moderate Risk</td>\n",
       "      <td>103132</td>\n",
       "    </tr>\n",
       "    <tr>\n",
       "      <th>413</th>\n",
       "      <td>74399</td>\n",
       "      <td>20161206</td>\n",
       "      <td>Moderate Risk</td>\n",
       "      <td>103120</td>\n",
       "    </tr>\n",
       "    <tr>\n",
       "      <th>420</th>\n",
       "      <td>69026</td>\n",
       "      <td>20160607</td>\n",
       "      <td>Low Risk</td>\n",
       "      <td>103149</td>\n",
       "    </tr>\n",
       "    <tr>\n",
       "      <th>421</th>\n",
       "      <td>18079</td>\n",
       "      <td>20160502</td>\n",
       "      <td>Low Risk</td>\n",
       "      <td>103139</td>\n",
       "    </tr>\n",
       "  </tbody>\n",
       "</table>\n",
       "</div>"
      ],
      "text/plain": [
       "     business_id  short_inspect_date  risk_category  short_violation_id\n",
       "401        79272            20160929  Moderate Risk              103133\n",
       "402        27791            20150414       Low Risk              103142\n",
       "404          315            20150518      High Risk              103114\n",
       "412        64835            20171211  Moderate Risk              103132\n",
       "413        74399            20161206  Moderate Risk              103120\n",
       "420        69026            20160607       Low Risk              103149\n",
       "421        18079            20160502       Low Risk              103139"
      ]
     },
     "execution_count": 193,
     "metadata": {},
     "output_type": "execute_result"
    }
   ],
   "source": [
    "ndf"
   ]
  },
  {
   "cell_type": "code",
   "execution_count": null,
   "metadata": {},
   "outputs": [],
   "source": [
    "# Our raw input data will be df_grouped."
   ]
  },
  {
   "cell_type": "code",
   "execution_count": 195,
   "metadata": {},
   "outputs": [
    {
     "name": "stderr",
     "output_type": "stream",
     "text": [
      "/home/soong/anaconda3/lib/python3.6/site-packages/ipykernel_launcher.py:1: SettingWithCopyWarning: \n",
      "A value is trying to be set on a copy of a slice from a DataFrame.\n",
      "Try using .loc[row_indexer,col_indexer] = value instead\n",
      "\n",
      "See the caveats in the documentation: http://pandas.pydata.org/pandas-docs/stable/indexing.html#indexing-view-versus-copy\n",
      "  \"\"\"Entry point for launching an IPython kernel.\n",
      "/home/soong/anaconda3/lib/python3.6/site-packages/ipykernel_launcher.py:2: SettingWithCopyWarning: \n",
      "A value is trying to be set on a copy of a slice from a DataFrame.\n",
      "Try using .loc[row_indexer,col_indexer] = value instead\n",
      "\n",
      "See the caveats in the documentation: http://pandas.pydata.org/pandas-docs/stable/indexing.html#indexing-view-versus-copy\n",
      "  \n",
      "/home/soong/anaconda3/lib/python3.6/site-packages/ipykernel_launcher.py:3: SettingWithCopyWarning: \n",
      "A value is trying to be set on a copy of a slice from a DataFrame.\n",
      "Try using .loc[row_indexer,col_indexer] = value instead\n",
      "\n",
      "See the caveats in the documentation: http://pandas.pydata.org/pandas-docs/stable/indexing.html#indexing-view-versus-copy\n",
      "  This is separate from the ipykernel package so we can avoid doing imports until\n",
      "/home/soong/anaconda3/lib/python3.6/site-packages/ipykernel_launcher.py:4: SettingWithCopyWarning: \n",
      "A value is trying to be set on a copy of a slice from a DataFrame.\n",
      "Try using .loc[row_indexer,col_indexer] = value instead\n",
      "\n",
      "See the caveats in the documentation: http://pandas.pydata.org/pandas-docs/stable/indexing.html#indexing-view-versus-copy\n",
      "  after removing the cwd from sys.path.\n",
      "/home/soong/anaconda3/lib/python3.6/site-packages/ipykernel_launcher.py:5: SettingWithCopyWarning: \n",
      "A value is trying to be set on a copy of a slice from a DataFrame.\n",
      "Try using .loc[row_indexer,col_indexer] = value instead\n",
      "\n",
      "See the caveats in the documentation: http://pandas.pydata.org/pandas-docs/stable/indexing.html#indexing-view-versus-copy\n",
      "  \"\"\"\n",
      "/home/soong/anaconda3/lib/python3.6/site-packages/ipykernel_launcher.py:6: SettingWithCopyWarning: \n",
      "A value is trying to be set on a copy of a slice from a DataFrame.\n",
      "Try using .loc[row_indexer,col_indexer] = value instead\n",
      "\n",
      "See the caveats in the documentation: http://pandas.pydata.org/pandas-docs/stable/indexing.html#indexing-view-versus-copy\n",
      "  \n",
      "/home/soong/anaconda3/lib/python3.6/site-packages/ipykernel_launcher.py:7: SettingWithCopyWarning: \n",
      "A value is trying to be set on a copy of a slice from a DataFrame.\n",
      "Try using .loc[row_indexer,col_indexer] = value instead\n",
      "\n",
      "See the caveats in the documentation: http://pandas.pydata.org/pandas-docs/stable/indexing.html#indexing-view-versus-copy\n",
      "  import sys\n"
     ]
    }
   ],
   "source": [
    "ndf['past6mon'] = 0;\n",
    "ndf['past7_9mon'] = 0;\n",
    "ndf['past10_12mon'] = 0;\n",
    "ndf['past13_15mon'] = 0;\n",
    "ndf['past16_18mon'] = 0;\n",
    "ndf['past18_24mon'] = 0;\n",
    "ndf['past2_3yr'] = 0;"
   ]
  },
  {
   "cell_type": "code",
   "execution_count": 196,
   "metadata": {},
   "outputs": [
    {
     "data": {
      "text/html": [
       "<div>\n",
       "<style scoped>\n",
       "    .dataframe tbody tr th:only-of-type {\n",
       "        vertical-align: middle;\n",
       "    }\n",
       "\n",
       "    .dataframe tbody tr th {\n",
       "        vertical-align: top;\n",
       "    }\n",
       "\n",
       "    .dataframe thead th {\n",
       "        text-align: right;\n",
       "    }\n",
       "</style>\n",
       "<table border=\"1\" class=\"dataframe\">\n",
       "  <thead>\n",
       "    <tr style=\"text-align: right;\">\n",
       "      <th></th>\n",
       "      <th>business_id</th>\n",
       "      <th>short_inspect_date</th>\n",
       "      <th>risk_category</th>\n",
       "      <th>short_violation_id</th>\n",
       "      <th>past6mon</th>\n",
       "      <th>past7_9mon</th>\n",
       "      <th>past10_12mon</th>\n",
       "      <th>past13_15mon</th>\n",
       "      <th>past16_18mon</th>\n",
       "      <th>past18_24mon</th>\n",
       "      <th>past2_3yr</th>\n",
       "    </tr>\n",
       "  </thead>\n",
       "  <tbody>\n",
       "    <tr>\n",
       "      <th>401</th>\n",
       "      <td>79272</td>\n",
       "      <td>20160929</td>\n",
       "      <td>Moderate Risk</td>\n",
       "      <td>103133</td>\n",
       "      <td>0</td>\n",
       "      <td>0</td>\n",
       "      <td>0</td>\n",
       "      <td>0</td>\n",
       "      <td>0</td>\n",
       "      <td>0</td>\n",
       "      <td>0</td>\n",
       "    </tr>\n",
       "    <tr>\n",
       "      <th>402</th>\n",
       "      <td>27791</td>\n",
       "      <td>20150414</td>\n",
       "      <td>Low Risk</td>\n",
       "      <td>103142</td>\n",
       "      <td>0</td>\n",
       "      <td>0</td>\n",
       "      <td>0</td>\n",
       "      <td>0</td>\n",
       "      <td>0</td>\n",
       "      <td>0</td>\n",
       "      <td>0</td>\n",
       "    </tr>\n",
       "    <tr>\n",
       "      <th>404</th>\n",
       "      <td>315</td>\n",
       "      <td>20150518</td>\n",
       "      <td>High Risk</td>\n",
       "      <td>103114</td>\n",
       "      <td>0</td>\n",
       "      <td>0</td>\n",
       "      <td>0</td>\n",
       "      <td>0</td>\n",
       "      <td>0</td>\n",
       "      <td>0</td>\n",
       "      <td>0</td>\n",
       "    </tr>\n",
       "    <tr>\n",
       "      <th>412</th>\n",
       "      <td>64835</td>\n",
       "      <td>20171211</td>\n",
       "      <td>Moderate Risk</td>\n",
       "      <td>103132</td>\n",
       "      <td>0</td>\n",
       "      <td>0</td>\n",
       "      <td>0</td>\n",
       "      <td>0</td>\n",
       "      <td>0</td>\n",
       "      <td>0</td>\n",
       "      <td>0</td>\n",
       "    </tr>\n",
       "    <tr>\n",
       "      <th>413</th>\n",
       "      <td>74399</td>\n",
       "      <td>20161206</td>\n",
       "      <td>Moderate Risk</td>\n",
       "      <td>103120</td>\n",
       "      <td>0</td>\n",
       "      <td>0</td>\n",
       "      <td>0</td>\n",
       "      <td>0</td>\n",
       "      <td>0</td>\n",
       "      <td>0</td>\n",
       "      <td>0</td>\n",
       "    </tr>\n",
       "    <tr>\n",
       "      <th>420</th>\n",
       "      <td>69026</td>\n",
       "      <td>20160607</td>\n",
       "      <td>Low Risk</td>\n",
       "      <td>103149</td>\n",
       "      <td>0</td>\n",
       "      <td>0</td>\n",
       "      <td>0</td>\n",
       "      <td>0</td>\n",
       "      <td>0</td>\n",
       "      <td>0</td>\n",
       "      <td>0</td>\n",
       "    </tr>\n",
       "    <tr>\n",
       "      <th>421</th>\n",
       "      <td>18079</td>\n",
       "      <td>20160502</td>\n",
       "      <td>Low Risk</td>\n",
       "      <td>103139</td>\n",
       "      <td>0</td>\n",
       "      <td>0</td>\n",
       "      <td>0</td>\n",
       "      <td>0</td>\n",
       "      <td>0</td>\n",
       "      <td>0</td>\n",
       "      <td>0</td>\n",
       "    </tr>\n",
       "  </tbody>\n",
       "</table>\n",
       "</div>"
      ],
      "text/plain": [
       "     business_id  short_inspect_date  risk_category  short_violation_id  \\\n",
       "401        79272            20160929  Moderate Risk              103133   \n",
       "402        27791            20150414       Low Risk              103142   \n",
       "404          315            20150518      High Risk              103114   \n",
       "412        64835            20171211  Moderate Risk              103132   \n",
       "413        74399            20161206  Moderate Risk              103120   \n",
       "420        69026            20160607       Low Risk              103149   \n",
       "421        18079            20160502       Low Risk              103139   \n",
       "\n",
       "     past6mon  past7_9mon  past10_12mon  past13_15mon  past16_18mon  \\\n",
       "401         0           0             0             0             0   \n",
       "402         0           0             0             0             0   \n",
       "404         0           0             0             0             0   \n",
       "412         0           0             0             0             0   \n",
       "413         0           0             0             0             0   \n",
       "420         0           0             0             0             0   \n",
       "421         0           0             0             0             0   \n",
       "\n",
       "     past18_24mon  past2_3yr  \n",
       "401             0          0  \n",
       "402             0          0  \n",
       "404             0          0  \n",
       "412             0          0  \n",
       "413             0          0  \n",
       "420             0          0  \n",
       "421             0          0  "
      ]
     },
     "execution_count": 196,
     "metadata": {},
     "output_type": "execute_result"
    }
   ],
   "source": [
    "ndf"
   ]
  },
  {
   "cell_type": "code",
   "execution_count": 223,
   "metadata": {},
   "outputs": [
    {
     "name": "stdout",
     "output_type": "stream",
     "text": [
      "[103114 103154 103138]\n",
      "[103142]\n"
     ]
    }
   ],
   "source": [
    "for row in df_grouped.iterrows():\n",
    "    bid = row[0][0]\n",
    "    date = row[0][1]\n",
    "    #print('date is: {}'.format(date))\n",
    "    #print(row[0]['short_inspect_date'])\n",
    "    if 20150301 <= date <= 20150531:\n",
    "        print(row[1]['short_violation_id'])\n",
    "        "
   ]
  },
  {
   "cell_type": "code",
   "execution_count": null,
   "metadata": {},
   "outputs": [],
   "source": []
  },
  {
   "cell_type": "code",
   "execution_count": null,
   "metadata": {},
   "outputs": [],
   "source": []
  },
  {
   "cell_type": "code",
   "execution_count": null,
   "metadata": {},
   "outputs": [],
   "source": []
  },
  {
   "cell_type": "code",
   "execution_count": null,
   "metadata": {},
   "outputs": [],
   "source": []
  },
  {
   "cell_type": "code",
   "execution_count": null,
   "metadata": {},
   "outputs": [],
   "source": []
  },
  {
   "cell_type": "code",
   "execution_count": null,
   "metadata": {},
   "outputs": [],
   "source": []
  },
  {
   "cell_type": "code",
   "execution_count": null,
   "metadata": {},
   "outputs": [],
   "source": []
  }
 ],
 "metadata": {
  "kernelspec": {
   "display_name": "Python 3",
   "language": "python",
   "name": "python3"
  },
  "language_info": {
   "codemirror_mode": {
    "name": "ipython",
    "version": 3
   },
   "file_extension": ".py",
   "mimetype": "text/x-python",
   "name": "python",
   "nbconvert_exporter": "python",
   "pygments_lexer": "ipython3",
   "version": "3.6.4"
  }
 },
 "nbformat": 4,
 "nbformat_minor": 2
}
