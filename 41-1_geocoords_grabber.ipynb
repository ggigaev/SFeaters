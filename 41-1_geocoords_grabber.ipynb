{
 "cells": [
  {
   "cell_type": "code",
   "execution_count": 1,
   "metadata": {},
   "outputs": [],
   "source": [
    "import numpy as np\n",
    "import pandas as pd\n",
    "import geopy\n",
    "from geopy.geocoders import Nominatim\n",
    "from geopy.exc import GeocoderTimedOut\n",
    "import time\n",
    "import matplotlib.pyplot as plt\n",
    "plt.style.use('seaborn-notebook')\n",
    "import csv"
   ]
  },
  {
   "cell_type": "code",
   "execution_count": 2,
   "metadata": {},
   "outputs": [],
   "source": [
    "df = pd.read_csv('data/ready4model_v2.csv')"
   ]
  },
  {
   "cell_type": "code",
   "execution_count": 3,
   "metadata": {},
   "outputs": [
    {
     "data": {
      "text/plain": [
       "2231"
      ]
     },
     "execution_count": 3,
     "metadata": {},
     "output_type": "execute_result"
    }
   ],
   "source": [
    "num_no_geo = df['business_latitude'].isnull().sum()\n",
    "num_no_geo"
   ]
  },
  {
   "cell_type": "markdown",
   "metadata": {},
   "source": [
    "## Let's examine the addresses"
   ]
  },
  {
   "cell_type": "code",
   "execution_count": 4,
   "metadata": {},
   "outputs": [],
   "source": [
    "address_no_geocoord = df.loc[df['business_latitude'].isnull(), 'business_address']"
   ]
  },
  {
   "cell_type": "code",
   "execution_count": 5,
   "metadata": {},
   "outputs": [],
   "source": [
    "address_nogeo_lst = address_no_geocoord.values"
   ]
  },
  {
   "cell_type": "code",
   "execution_count": 6,
   "metadata": {},
   "outputs": [],
   "source": [
    "num_vars = ['Off the Grid', 'Off The Grid', 'OFF The Grid', 'OFF THE GRID', 'Approved private locations', 'Approved Private Locations','Approved Locations']\n",
    "L_nogeo = []\n",
    "for address in address_nogeo_lst:\n",
    "    #if address != 'Off the Grid' and address != 'Off The Grid':\n",
    "    if ~(address in num_vars):\n",
    "        L_nogeo.append(address)"
   ]
  },
  {
   "cell_type": "markdown",
   "metadata": {},
   "source": [
    "### Clean up L_nogeo\n",
    "Let's clean up L_nogeo. It has addresses like   \n",
    "498 09th St Ste. C   \n",
    "845 Market St #495  \n",
    "Pier 45 Shed B Space 1A  \n",
    "135 04th St  "
   ]
  },
  {
   "cell_type": "code",
   "execution_count": 20,
   "metadata": {},
   "outputs": [],
   "source": [
    "# take care of St\n",
    "L_nogeo_St = []\n",
    "for street in L_nogeo:\n",
    "    st2 = street.split(' St ')\n",
    "    L_nogeo_St.append(st2[0])"
   ]
  },
  {
   "cell_type": "code",
   "execution_count": 22,
   "metadata": {},
   "outputs": [],
   "source": [
    "# take care of Ave\n",
    "L_nogeo_Ave = []\n",
    "for avenue in L_nogeo_St:\n",
    "    st2 = avenue.split(' Ave ')\n",
    "    L_nogeo_Ave.append(st2[0])"
   ]
  },
  {
   "cell_type": "code",
   "execution_count": 23,
   "metadata": {},
   "outputs": [],
   "source": [
    "# take care of Blvd\n",
    "L_nogeo_Blvd = []\n",
    "for blvd in L_nogeo_Ave:\n",
    "    st2 = blvd.split(' Blvd ')\n",
    "    L_nogeo_Blvd.append(st2[0])"
   ]
  },
  {
   "cell_type": "code",
   "execution_count": 40,
   "metadata": {},
   "outputs": [],
   "source": [
    "# take care of 0 in front of a street name like in 09th St\n",
    "#L_nogeo_Blvd2 = ['2449 23rd St', '498 09th', '909 Grant Ave']\n",
    "L_nogeo_Zero = []\n",
    "for zero in L_nogeo_Blvd:\n",
    "    st2 = zero.split(' 0')\n",
    "    if len(st2) < 2:\n",
    "        L_nogeo_Zero.append(st2[0])\n",
    "    else:\n",
    "        st1 = st2[0] + ' ' + st2[1]\n",
    "        L_nogeo_Zero.append(st1)"
   ]
  },
  {
   "cell_type": "code",
   "execution_count": 7,
   "metadata": {},
   "outputs": [],
   "source": [
    "### Let's go thru the list and collect the list of not getting addresses"
   ]
  },
  {
   "cell_type": "code",
   "execution_count": 43,
   "metadata": {},
   "outputs": [],
   "source": [
    "geolocator = Nominatim(timeout = 20)"
   ]
  },
  {
   "cell_type": "code",
   "execution_count": 47,
   "metadata": {},
   "outputs": [
    {
     "name": "stdout",
     "output_type": "stream",
     "text": [
      "Murdell Lane, Livermore, Alameda County, California, 94551, United States of America\n"
     ]
    }
   ],
   "source": [
    "location = geolocator.geocode(\"51 Murdell Ln Livermore CA\")\n",
    "print(location.address)"
   ]
  },
  {
   "cell_type": "code",
   "execution_count": 48,
   "metadata": {},
   "outputs": [
    {
     "name": "stdout",
     "output_type": "stream",
     "text": [
      "37.6607282\n"
     ]
    }
   ],
   "source": [
    "print(location.latitude)"
   ]
  },
  {
   "cell_type": "code",
   "execution_count": 11,
   "metadata": {},
   "outputs": [],
   "source": [
    "# This will keep retrying the do_geocode function until it manages to return without \n",
    "# a Timeout exception being raised.\n",
    "# def do_geocode(address):\n",
    "#     try:\n",
    "#         return geolocator.geocode(address)\n",
    "#     except GeocoderTimedOut:\n",
    "#         time.sleep(1)\n",
    "#         return do_geocode(address)"
   ]
  },
  {
   "cell_type": "code",
   "execution_count": 49,
   "metadata": {},
   "outputs": [],
   "source": [
    "# add SF CA to addresses\n",
    "L_nogeo_SFCA = []\n",
    "for address in L_nogeo_Zero:\n",
    "    L_nogeo_SFCA.append(address + ' SF CA')"
   ]
  },
  {
   "cell_type": "code",
   "execution_count": 51,
   "metadata": {},
   "outputs": [],
   "source": [
    "def do_geocode2(address):\n",
    "    try:\n",
    "        return geolocator.geocode(address)\n",
    "    except GeocoderTimedOut:\n",
    "        time.sleep(1)\n",
    "        return do_geocode(address)"
   ]
  },
  {
   "cell_type": "code",
   "execution_count": 14,
   "metadata": {},
   "outputs": [],
   "source": [
    "# This code takes about 40 mins to finish. It is named as ..._dropme.csv to protect geo_coords_sf.csv file\n",
    "# already created. If you want to run this code again, drop \"dropme\" part after the run."
   ]
  },
  {
   "cell_type": "code",
   "execution_count": 52,
   "metadata": {},
   "outputs": [],
   "source": [
    "write_file = \"data/geo_coords_sf_dropme.csv\"\n",
    "with open(write_file, \"w\") as output:\n",
    "    for address in L_nogeo_SFCA[0:2231]:  #0:2231\n",
    "        location = do_geocode2(address)\n",
    "        if location != None:\n",
    "            output.write( address + ',' + str(location.longitude) + ',' + str(location.latitude) +  '\\n')"
   ]
  },
  {
   "cell_type": "code",
   "execution_count": 56,
   "metadata": {},
   "outputs": [
    {
     "name": "stdout",
     "output_type": "stream",
     "text": [
      "1921\n"
     ]
    }
   ],
   "source": [
    "with open('data/geo_coords_sf.csv', 'r') as f:\n",
    "    reader = csv.reader(f)\n",
    "    counter = 0\n",
    "    for row in reader:\n",
    "        counter += 1\n",
    "        #print(row)\n",
    "print(counter)"
   ]
  },
  {
   "cell_type": "code",
   "execution_count": null,
   "metadata": {},
   "outputs": [],
   "source": []
  }
 ],
 "metadata": {
  "kernelspec": {
   "display_name": "Python 3",
   "language": "python",
   "name": "python3"
  },
  "language_info": {
   "codemirror_mode": {
    "name": "ipython",
    "version": 3
   },
   "file_extension": ".py",
   "mimetype": "text/x-python",
   "name": "python",
   "nbconvert_exporter": "python",
   "pygments_lexer": "ipython3",
   "version": "3.6.4"
  }
 },
 "nbformat": 4,
 "nbformat_minor": 2
}
