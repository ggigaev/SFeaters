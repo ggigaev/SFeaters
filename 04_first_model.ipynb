{
 "cells": [
  {
   "cell_type": "code",
   "execution_count": 49,
   "metadata": {},
   "outputs": [],
   "source": [
    "import numpy as np\n",
    "import pandas as pd\n",
    "from sklearn.linear_model import LogisticRegression\n",
    "from sklearn.ensemble import GradientBoostingRegressor, GradientBoostingClassifier\n",
    "from sklearn.model_selection import train_test_split\n",
    "import matplotlib.pyplot as plt\n",
    "from mpl_toolkits.mplot3d import Axes3D\n",
    "plt.style.use('seaborn-notebook')\n",
    "%matplotlib inline"
   ]
  },
  {
   "cell_type": "code",
   "execution_count": 50,
   "metadata": {},
   "outputs": [],
   "source": [
    "df = pd.read_csv('data/ready4model_v2.csv')"
   ]
  },
  {
   "cell_type": "code",
   "execution_count": 51,
   "metadata": {},
   "outputs": [],
   "source": [
    "# Using 9 months period as y label\n",
    "df['y_label'] = (df['p1_3'] + df['p4_6'] + df['p7_9']) > 0"
   ]
  },
  {
   "cell_type": "code",
   "execution_count": 52,
   "metadata": {},
   "outputs": [
    {
     "data": {
      "text/html": [
       "<div>\n",
       "<style scoped>\n",
       "    .dataframe tbody tr th:only-of-type {\n",
       "        vertical-align: middle;\n",
       "    }\n",
       "\n",
       "    .dataframe tbody tr th {\n",
       "        vertical-align: top;\n",
       "    }\n",
       "\n",
       "    .dataframe thead th {\n",
       "        text-align: right;\n",
       "    }\n",
       "</style>\n",
       "<table border=\"1\" class=\"dataframe\">\n",
       "  <thead>\n",
       "    <tr style=\"text-align: right;\">\n",
       "      <th></th>\n",
       "      <th>Unnamed: 0</th>\n",
       "      <th>Unnamed: 0.1</th>\n",
       "      <th>business_id</th>\n",
       "      <th>business_name</th>\n",
       "      <th>business_address</th>\n",
       "      <th>business_city</th>\n",
       "      <th>business_state</th>\n",
       "      <th>business_postal_code</th>\n",
       "      <th>business_latitude</th>\n",
       "      <th>business_longitude</th>\n",
       "      <th>...</th>\n",
       "      <th>short_violation_id</th>\n",
       "      <th>inspect_date</th>\n",
       "      <th>p1_3</th>\n",
       "      <th>p4_6</th>\n",
       "      <th>p7_9</th>\n",
       "      <th>p10_12</th>\n",
       "      <th>p13_18</th>\n",
       "      <th>p19_24</th>\n",
       "      <th>p25_36</th>\n",
       "      <th>y_label</th>\n",
       "    </tr>\n",
       "  </thead>\n",
       "  <tbody>\n",
       "    <tr>\n",
       "      <th>0</th>\n",
       "      <td>0</td>\n",
       "      <td>0</td>\n",
       "      <td>1757</td>\n",
       "      <td>Dar Bar Pakistani/Indian Cusine</td>\n",
       "      <td>1412 Polk St</td>\n",
       "      <td>San Francisco</td>\n",
       "      <td>CA</td>\n",
       "      <td>94109</td>\n",
       "      <td>37.789784</td>\n",
       "      <td>-122.420455</td>\n",
       "      <td>...</td>\n",
       "      <td>103131</td>\n",
       "      <td>2017-09-28</td>\n",
       "      <td>0</td>\n",
       "      <td>0</td>\n",
       "      <td>5</td>\n",
       "      <td>0</td>\n",
       "      <td>0</td>\n",
       "      <td>6</td>\n",
       "      <td>5</td>\n",
       "      <td>True</td>\n",
       "    </tr>\n",
       "    <tr>\n",
       "      <th>1</th>\n",
       "      <td>1</td>\n",
       "      <td>1</td>\n",
       "      <td>4864</td>\n",
       "      <td>DRAGON CITY BAKERY &amp; CAFE</td>\n",
       "      <td>2367 MISSION St</td>\n",
       "      <td>San Francisco</td>\n",
       "      <td>CA</td>\n",
       "      <td>94110</td>\n",
       "      <td>37.759174</td>\n",
       "      <td>-122.419066</td>\n",
       "      <td>...</td>\n",
       "      <td>103157</td>\n",
       "      <td>2016-12-06</td>\n",
       "      <td>0</td>\n",
       "      <td>6</td>\n",
       "      <td>0</td>\n",
       "      <td>0</td>\n",
       "      <td>5</td>\n",
       "      <td>5</td>\n",
       "      <td>3</td>\n",
       "      <td>True</td>\n",
       "    </tr>\n",
       "    <tr>\n",
       "      <th>2</th>\n",
       "      <td>2</td>\n",
       "      <td>2</td>\n",
       "      <td>79782</td>\n",
       "      <td>Deli 23</td>\n",
       "      <td>2449 23rd St</td>\n",
       "      <td>San Francisco</td>\n",
       "      <td>CA</td>\n",
       "      <td>94110</td>\n",
       "      <td>NaN</td>\n",
       "      <td>NaN</td>\n",
       "      <td>...</td>\n",
       "      <td>103120</td>\n",
       "      <td>2016-05-03</td>\n",
       "      <td>4</td>\n",
       "      <td>0</td>\n",
       "      <td>2</td>\n",
       "      <td>0</td>\n",
       "      <td>3</td>\n",
       "      <td>3</td>\n",
       "      <td>2</td>\n",
       "      <td>True</td>\n",
       "    </tr>\n",
       "    <tr>\n",
       "      <th>3</th>\n",
       "      <td>3</td>\n",
       "      <td>3</td>\n",
       "      <td>73840</td>\n",
       "      <td>L'acajou Bakery and Cafe</td>\n",
       "      <td>498 09th St Ste. C</td>\n",
       "      <td>San Francisco</td>\n",
       "      <td>CA</td>\n",
       "      <td>94103</td>\n",
       "      <td>NaN</td>\n",
       "      <td>NaN</td>\n",
       "      <td>...</td>\n",
       "      <td>103105</td>\n",
       "      <td>2017-12-07</td>\n",
       "      <td>0</td>\n",
       "      <td>5</td>\n",
       "      <td>0</td>\n",
       "      <td>0</td>\n",
       "      <td>6</td>\n",
       "      <td>0</td>\n",
       "      <td>0</td>\n",
       "      <td>True</td>\n",
       "    </tr>\n",
       "    <tr>\n",
       "      <th>4</th>\n",
       "      <td>4</td>\n",
       "      <td>4</td>\n",
       "      <td>76437</td>\n",
       "      <td>Sweetheart Cafe</td>\n",
       "      <td>909 Grant Ave</td>\n",
       "      <td>San Francisco</td>\n",
       "      <td>CA</td>\n",
       "      <td>94108</td>\n",
       "      <td>NaN</td>\n",
       "      <td>NaN</td>\n",
       "      <td>...</td>\n",
       "      <td>103113</td>\n",
       "      <td>2016-03-29</td>\n",
       "      <td>0</td>\n",
       "      <td>11</td>\n",
       "      <td>0</td>\n",
       "      <td>0</td>\n",
       "      <td>0</td>\n",
       "      <td>6</td>\n",
       "      <td>6</td>\n",
       "      <td>True</td>\n",
       "    </tr>\n",
       "    <tr>\n",
       "      <th>5</th>\n",
       "      <td>5</td>\n",
       "      <td>5</td>\n",
       "      <td>82123</td>\n",
       "      <td>Cafe New Honolulu</td>\n",
       "      <td>888 Stockton St</td>\n",
       "      <td>San Francisco</td>\n",
       "      <td>CA</td>\n",
       "      <td>94108</td>\n",
       "      <td>NaN</td>\n",
       "      <td>NaN</td>\n",
       "      <td>...</td>\n",
       "      <td>103131</td>\n",
       "      <td>2017-12-07</td>\n",
       "      <td>0</td>\n",
       "      <td>3</td>\n",
       "      <td>0</td>\n",
       "      <td>0</td>\n",
       "      <td>0</td>\n",
       "      <td>8</td>\n",
       "      <td>8</td>\n",
       "      <td>True</td>\n",
       "    </tr>\n",
       "    <tr>\n",
       "      <th>6</th>\n",
       "      <td>6</td>\n",
       "      <td>6</td>\n",
       "      <td>1146</td>\n",
       "      <td>Aux Delices Vietnam</td>\n",
       "      <td>2327 Polk St</td>\n",
       "      <td>San Francisco</td>\n",
       "      <td>CA</td>\n",
       "      <td>94109</td>\n",
       "      <td>37.798274</td>\n",
       "      <td>-122.422264</td>\n",
       "      <td>...</td>\n",
       "      <td>103103</td>\n",
       "      <td>2018-02-23</td>\n",
       "      <td>6</td>\n",
       "      <td>0</td>\n",
       "      <td>0</td>\n",
       "      <td>0</td>\n",
       "      <td>0</td>\n",
       "      <td>8</td>\n",
       "      <td>0</td>\n",
       "      <td>True</td>\n",
       "    </tr>\n",
       "    <tr>\n",
       "      <th>7</th>\n",
       "      <td>7</td>\n",
       "      <td>7</td>\n",
       "      <td>3838</td>\n",
       "      <td>CAFE PICARO</td>\n",
       "      <td>3120 16th St</td>\n",
       "      <td>San Francisco</td>\n",
       "      <td>CA</td>\n",
       "      <td>94103</td>\n",
       "      <td>37.764908</td>\n",
       "      <td>-122.422442</td>\n",
       "      <td>...</td>\n",
       "      <td>103142</td>\n",
       "      <td>2018-02-22</td>\n",
       "      <td>7</td>\n",
       "      <td>0</td>\n",
       "      <td>0</td>\n",
       "      <td>0</td>\n",
       "      <td>0</td>\n",
       "      <td>1</td>\n",
       "      <td>2</td>\n",
       "      <td>True</td>\n",
       "    </tr>\n",
       "    <tr>\n",
       "      <th>8</th>\n",
       "      <td>8</td>\n",
       "      <td>8</td>\n",
       "      <td>38929</td>\n",
       "      <td>Jelly Donut</td>\n",
       "      <td>3198 24th St</td>\n",
       "      <td>San Francisco</td>\n",
       "      <td>CA</td>\n",
       "      <td>94110</td>\n",
       "      <td>37.752439</td>\n",
       "      <td>-122.416250</td>\n",
       "      <td>...</td>\n",
       "      <td>103139</td>\n",
       "      <td>2016-01-14</td>\n",
       "      <td>0</td>\n",
       "      <td>0</td>\n",
       "      <td>7</td>\n",
       "      <td>0</td>\n",
       "      <td>3</td>\n",
       "      <td>4</td>\n",
       "      <td>6</td>\n",
       "      <td>True</td>\n",
       "    </tr>\n",
       "    <tr>\n",
       "      <th>9</th>\n",
       "      <td>9</td>\n",
       "      <td>9</td>\n",
       "      <td>81161</td>\n",
       "      <td>Limon Peruvian Rotisserie</td>\n",
       "      <td>1001 South Van Ness Ave</td>\n",
       "      <td>San Francisco</td>\n",
       "      <td>CA</td>\n",
       "      <td>94110</td>\n",
       "      <td>NaN</td>\n",
       "      <td>NaN</td>\n",
       "      <td>...</td>\n",
       "      <td>103149</td>\n",
       "      <td>2016-03-25</td>\n",
       "      <td>1</td>\n",
       "      <td>0</td>\n",
       "      <td>3</td>\n",
       "      <td>2</td>\n",
       "      <td>4</td>\n",
       "      <td>0</td>\n",
       "      <td>3</td>\n",
       "      <td>True</td>\n",
       "    </tr>\n",
       "    <tr>\n",
       "      <th>10</th>\n",
       "      <td>10</td>\n",
       "      <td>10</td>\n",
       "      <td>85781</td>\n",
       "      <td>Domino's #7764</td>\n",
       "      <td>876 Geary St</td>\n",
       "      <td>San Francisco</td>\n",
       "      <td>CA</td>\n",
       "      <td>94109</td>\n",
       "      <td>NaN</td>\n",
       "      <td>NaN</td>\n",
       "      <td>...</td>\n",
       "      <td>103124</td>\n",
       "      <td>2016-03-11</td>\n",
       "      <td>6</td>\n",
       "      <td>0</td>\n",
       "      <td>3</td>\n",
       "      <td>0</td>\n",
       "      <td>0</td>\n",
       "      <td>0</td>\n",
       "      <td>5</td>\n",
       "      <td>True</td>\n",
       "    </tr>\n",
       "    <tr>\n",
       "      <th>11</th>\n",
       "      <td>11</td>\n",
       "      <td>11</td>\n",
       "      <td>82880</td>\n",
       "      <td>Don Pablo</td>\n",
       "      <td>Off The Grid</td>\n",
       "      <td>San Francisco</td>\n",
       "      <td>CA</td>\n",
       "      <td>NaN</td>\n",
       "      <td>NaN</td>\n",
       "      <td>NaN</td>\n",
       "      <td>...</td>\n",
       "      <td>103148</td>\n",
       "      <td>2016-03-09</td>\n",
       "      <td>0</td>\n",
       "      <td>0</td>\n",
       "      <td>0</td>\n",
       "      <td>3</td>\n",
       "      <td>0</td>\n",
       "      <td>6</td>\n",
       "      <td>2</td>\n",
       "      <td>False</td>\n",
       "    </tr>\n",
       "    <tr>\n",
       "      <th>12</th>\n",
       "      <td>12</td>\n",
       "      <td>14</td>\n",
       "      <td>16441</td>\n",
       "      <td>Hawaiian Drive Inn</td>\n",
       "      <td>2600 San Bruno Ave</td>\n",
       "      <td>San Francisco</td>\n",
       "      <td>CA</td>\n",
       "      <td>94134</td>\n",
       "      <td>37.728718</td>\n",
       "      <td>-122.404101</td>\n",
       "      <td>...</td>\n",
       "      <td>103154</td>\n",
       "      <td>2016-12-06</td>\n",
       "      <td>0</td>\n",
       "      <td>6</td>\n",
       "      <td>0</td>\n",
       "      <td>0</td>\n",
       "      <td>5</td>\n",
       "      <td>3</td>\n",
       "      <td>0</td>\n",
       "      <td>True</td>\n",
       "    </tr>\n",
       "    <tr>\n",
       "      <th>13</th>\n",
       "      <td>13</td>\n",
       "      <td>16</td>\n",
       "      <td>2716</td>\n",
       "      <td>RED A BAKERY</td>\n",
       "      <td>634 CLEMENT St</td>\n",
       "      <td>San Francisco</td>\n",
       "      <td>CA</td>\n",
       "      <td>94118</td>\n",
       "      <td>37.782888</td>\n",
       "      <td>-122.466101</td>\n",
       "      <td>...</td>\n",
       "      <td>103131</td>\n",
       "      <td>2016-03-23</td>\n",
       "      <td>0</td>\n",
       "      <td>5</td>\n",
       "      <td>0</td>\n",
       "      <td>0</td>\n",
       "      <td>5</td>\n",
       "      <td>0</td>\n",
       "      <td>7</td>\n",
       "      <td>True</td>\n",
       "    </tr>\n",
       "    <tr>\n",
       "      <th>14</th>\n",
       "      <td>14</td>\n",
       "      <td>17</td>\n",
       "      <td>3165</td>\n",
       "      <td>HAN IL KWAN</td>\n",
       "      <td>1802 BALBOA St</td>\n",
       "      <td>San Francisco</td>\n",
       "      <td>CA</td>\n",
       "      <td>94121</td>\n",
       "      <td>37.776599</td>\n",
       "      <td>-122.478292</td>\n",
       "      <td>...</td>\n",
       "      <td>103149</td>\n",
       "      <td>2017-03-23</td>\n",
       "      <td>0</td>\n",
       "      <td>0</td>\n",
       "      <td>0</td>\n",
       "      <td>0</td>\n",
       "      <td>7</td>\n",
       "      <td>0</td>\n",
       "      <td>5</td>\n",
       "      <td>False</td>\n",
       "    </tr>\n",
       "  </tbody>\n",
       "</table>\n",
       "<p>15 rows × 30 columns</p>\n",
       "</div>"
      ],
      "text/plain": [
       "    Unnamed: 0  Unnamed: 0.1  business_id                    business_name  \\\n",
       "0            0             0         1757  Dar Bar Pakistani/Indian Cusine   \n",
       "1            1             1         4864        DRAGON CITY BAKERY & CAFE   \n",
       "2            2             2        79782                          Deli 23   \n",
       "3            3             3        73840         L'acajou Bakery and Cafe   \n",
       "4            4             4        76437                  Sweetheart Cafe   \n",
       "5            5             5        82123                Cafe New Honolulu   \n",
       "6            6             6         1146              Aux Delices Vietnam   \n",
       "7            7             7         3838                      CAFE PICARO   \n",
       "8            8             8        38929                      Jelly Donut   \n",
       "9            9             9        81161        Limon Peruvian Rotisserie   \n",
       "10          10            10        85781                   Domino's #7764   \n",
       "11          11            11        82880                        Don Pablo   \n",
       "12          12            14        16441               Hawaiian Drive Inn   \n",
       "13          13            16         2716                     RED A BAKERY   \n",
       "14          14            17         3165                      HAN IL KWAN   \n",
       "\n",
       "           business_address  business_city business_state  \\\n",
       "0              1412 Polk St  San Francisco             CA   \n",
       "1           2367 MISSION St  San Francisco             CA   \n",
       "2              2449 23rd St  San Francisco             CA   \n",
       "3        498 09th St Ste. C  San Francisco             CA   \n",
       "4             909 Grant Ave  San Francisco             CA   \n",
       "5           888 Stockton St  San Francisco             CA   \n",
       "6              2327 Polk St  San Francisco             CA   \n",
       "7              3120 16th St  San Francisco             CA   \n",
       "8              3198 24th St  San Francisco             CA   \n",
       "9   1001 South Van Ness Ave  San Francisco             CA   \n",
       "10             876 Geary St  San Francisco             CA   \n",
       "11             Off The Grid  San Francisco             CA   \n",
       "12       2600 San Bruno Ave  San Francisco             CA   \n",
       "13           634 CLEMENT St  San Francisco             CA   \n",
       "14           1802 BALBOA St  San Francisco             CA   \n",
       "\n",
       "   business_postal_code  business_latitude  business_longitude   ...     \\\n",
       "0                 94109          37.789784         -122.420455   ...      \n",
       "1                 94110          37.759174         -122.419066   ...      \n",
       "2                 94110                NaN                 NaN   ...      \n",
       "3                 94103                NaN                 NaN   ...      \n",
       "4                 94108                NaN                 NaN   ...      \n",
       "5                 94108                NaN                 NaN   ...      \n",
       "6                 94109          37.798274         -122.422264   ...      \n",
       "7                 94103          37.764908         -122.422442   ...      \n",
       "8                 94110          37.752439         -122.416250   ...      \n",
       "9                 94110                NaN                 NaN   ...      \n",
       "10                94109                NaN                 NaN   ...      \n",
       "11                  NaN                NaN                 NaN   ...      \n",
       "12                94134          37.728718         -122.404101   ...      \n",
       "13                94118          37.782888         -122.466101   ...      \n",
       "14                94121          37.776599         -122.478292   ...      \n",
       "\n",
       "   short_violation_id  inspect_date p1_3 p4_6  p7_9 p10_12 p13_18 p19_24  \\\n",
       "0              103131    2017-09-28    0    0     5      0      0      6   \n",
       "1              103157    2016-12-06    0    6     0      0      5      5   \n",
       "2              103120    2016-05-03    4    0     2      0      3      3   \n",
       "3              103105    2017-12-07    0    5     0      0      6      0   \n",
       "4              103113    2016-03-29    0   11     0      0      0      6   \n",
       "5              103131    2017-12-07    0    3     0      0      0      8   \n",
       "6              103103    2018-02-23    6    0     0      0      0      8   \n",
       "7              103142    2018-02-22    7    0     0      0      0      1   \n",
       "8              103139    2016-01-14    0    0     7      0      3      4   \n",
       "9              103149    2016-03-25    1    0     3      2      4      0   \n",
       "10             103124    2016-03-11    6    0     3      0      0      0   \n",
       "11             103148    2016-03-09    0    0     0      3      0      6   \n",
       "12             103154    2016-12-06    0    6     0      0      5      3   \n",
       "13             103131    2016-03-23    0    5     0      0      5      0   \n",
       "14             103149    2017-03-23    0    0     0      0      7      0   \n",
       "\n",
       "   p25_36  y_label  \n",
       "0       5     True  \n",
       "1       3     True  \n",
       "2       2     True  \n",
       "3       0     True  \n",
       "4       6     True  \n",
       "5       8     True  \n",
       "6       0     True  \n",
       "7       2     True  \n",
       "8       6     True  \n",
       "9       3     True  \n",
       "10      5     True  \n",
       "11      2    False  \n",
       "12      0     True  \n",
       "13      7     True  \n",
       "14      5    False  \n",
       "\n",
       "[15 rows x 30 columns]"
      ]
     },
     "execution_count": 52,
     "metadata": {},
     "output_type": "execute_result"
    }
   ],
   "source": [
    "df.head(15)"
   ]
  },
  {
   "cell_type": "code",
   "execution_count": 53,
   "metadata": {},
   "outputs": [],
   "source": [
    "y = df['y_label']\n",
    "X = df[['p10_12', 'p13_18', 'p19_24', 'p25_36']]"
   ]
  },
  {
   "cell_type": "code",
   "execution_count": 54,
   "metadata": {},
   "outputs": [],
   "source": [
    "X_train, X_test, y_train, y_test = train_test_split(X, y, test_size=0.25, random_state=38)"
   ]
  },
  {
   "cell_type": "code",
   "execution_count": 55,
   "metadata": {},
   "outputs": [
    {
     "data": {
      "text/plain": [
       "LogisticRegression(C=1.0, class_weight=None, dual=False, fit_intercept=True,\n",
       "          intercept_scaling=1, max_iter=100, multi_class='ovr', n_jobs=1,\n",
       "          penalty='l2', random_state=None, solver='liblinear', tol=0.0001,\n",
       "          verbose=0, warm_start=False)"
      ]
     },
     "execution_count": 55,
     "metadata": {},
     "output_type": "execute_result"
    }
   ],
   "source": [
    "log_model = LogisticRegression()\n",
    "log_model.fit(X_train,y_train)"
   ]
  },
  {
   "cell_type": "code",
   "execution_count": 56,
   "metadata": {},
   "outputs": [
    {
     "data": {
      "text/plain": [
       "array([[-0.39302937, -0.08415884,  0.15803904,  0.03339293]])"
      ]
     },
     "execution_count": 56,
     "metadata": {},
     "output_type": "execute_result"
    }
   ],
   "source": [
    "log_model.coef_"
   ]
  },
  {
   "cell_type": "code",
   "execution_count": 57,
   "metadata": {},
   "outputs": [
    {
     "data": {
      "text/plain": [
       "array([0.51972381])"
      ]
     },
     "execution_count": 57,
     "metadata": {},
     "output_type": "execute_result"
    }
   ],
   "source": [
    "log_model.intercept_"
   ]
  },
  {
   "cell_type": "code",
   "execution_count": 58,
   "metadata": {},
   "outputs": [
    {
     "data": {
      "text/plain": [
       "array([ True,  True,  True, ...,  True,  True, False])"
      ]
     },
     "execution_count": 58,
     "metadata": {},
     "output_type": "execute_result"
    }
   ],
   "source": [
    "log_model.predict(X_test)"
   ]
  },
  {
   "cell_type": "code",
   "execution_count": 59,
   "metadata": {},
   "outputs": [
    {
     "data": {
      "text/plain": [
       "0.658256880733945"
      ]
     },
     "execution_count": 59,
     "metadata": {},
     "output_type": "execute_result"
    }
   ],
   "source": [
    "log_model.score(X_test, y_test)"
   ]
  },
  {
   "cell_type": "markdown",
   "metadata": {},
   "source": [
    "## Find out if my data set is unbalanced or not"
   ]
  },
  {
   "cell_type": "code",
   "execution_count": 60,
   "metadata": {},
   "outputs": [
    {
     "data": {
      "text/plain": [
       "True     3310\n",
       "False    1919\n",
       "Name: y_label, dtype: int64"
      ]
     },
     "execution_count": 60,
     "metadata": {},
     "output_type": "execute_result"
    }
   ],
   "source": [
    "y.value_counts()"
   ]
  },
  {
   "cell_type": "code",
   "execution_count": 61,
   "metadata": {},
   "outputs": [],
   "source": [
    "num_true = y.value_counts()[True]\n",
    "num_false = y.value_counts()[False]"
   ]
  },
  {
   "cell_type": "code",
   "execution_count": 62,
   "metadata": {},
   "outputs": [
    {
     "data": {
      "text/plain": [
       "0.6330082233696691"
      ]
     },
     "execution_count": 62,
     "metadata": {},
     "output_type": "execute_result"
    }
   ],
   "source": [
    "True_rate = num_true/(num_true + num_false)\n",
    "True_rate"
   ]
  },
  {
   "cell_type": "markdown",
   "metadata": {},
   "source": [
    "## Gradient Boosting Model"
   ]
  },
  {
   "cell_type": "code",
   "execution_count": 63,
   "metadata": {},
   "outputs": [
    {
     "name": "stdout",
     "output_type": "stream",
     "text": [
      "Learning rate:  0.05\n",
      "Accuracy score (training): 0.686\n",
      "Accuracy score (validation): 0.684\n",
      "Learning rate:  0.1\n",
      "Accuracy score (training): 0.684\n",
      "Accuracy score (validation): 0.681\n",
      "Learning rate:  0.25\n",
      "Accuracy score (training): 0.686\n",
      "Accuracy score (validation): 0.680\n",
      "Learning rate:  0.5\n",
      "Accuracy score (training): 0.687\n",
      "Accuracy score (validation): 0.671\n",
      "Learning rate:  0.75\n",
      "Accuracy score (training): 0.685\n",
      "Accuracy score (validation): 0.675\n",
      "Learning rate:  1\n",
      "Accuracy score (training): 0.679\n",
      "Accuracy score (validation): 0.672\n"
     ]
    }
   ],
   "source": [
    "learning_rates = [0.05, 0.1, 0.25, 0.5, 0.75, 1]\n",
    "for learning_rate in learning_rates:\n",
    "    gb = GradientBoostingClassifier(n_estimators=20, learning_rate = learning_rate, max_features=2, max_depth = 2, random_state = 0)\n",
    "    gb.fit(X_train, y_train)\n",
    "    print(\"Learning rate: \", learning_rate)\n",
    "    print(\"Accuracy score (training): {0:.3f}\".format(gb.score(X_train, y_train)))\n",
    "    print(\"Accuracy score (validation): {0:.3f}\".format(gb.score(X_test, y_test)))"
   ]
  },
  {
   "cell_type": "code",
   "execution_count": 64,
   "metadata": {},
   "outputs": [
    {
     "name": "stdout",
     "output_type": "stream",
     "text": [
      "Accuracy score (training): 0.687\n",
      "Accuracy score (validation): 0.671\n"
     ]
    }
   ],
   "source": [
    "# Let's use learning rate of 0.5\n",
    "gb = GradientBoostingClassifier(n_estimators=20, learning_rate = 0.5, max_features=2, max_depth = 2, random_state = 0)\n",
    "gb.fit(X_train, y_train)\n",
    "print(\"Accuracy score (training): {0:.3f}\".format(gb.score(X_train, y_train)))\n",
    "print(\"Accuracy score (validation): {0:.3f}\".format(gb.score(X_test, y_test)))\n",
    "# The \"validation\" here is a correct term. It is not a \"test\" set."
   ]
  },
  {
   "cell_type": "code",
   "execution_count": null,
   "metadata": {},
   "outputs": [],
   "source": []
  },
  {
   "cell_type": "code",
   "execution_count": null,
   "metadata": {},
   "outputs": [],
   "source": []
  },
  {
   "cell_type": "code",
   "execution_count": null,
   "metadata": {},
   "outputs": [],
   "source": []
  }
 ],
 "metadata": {
  "kernelspec": {
   "display_name": "Python 3",
   "language": "python",
   "name": "python3"
  },
  "language_info": {
   "codemirror_mode": {
    "name": "ipython",
    "version": 3
   },
   "file_extension": ".py",
   "mimetype": "text/x-python",
   "name": "python",
   "nbconvert_exporter": "python",
   "pygments_lexer": "ipython3",
   "version": "3.6.4"
  }
 },
 "nbformat": 4,
 "nbformat_minor": 2
}
